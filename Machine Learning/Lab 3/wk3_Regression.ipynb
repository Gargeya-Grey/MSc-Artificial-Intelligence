{
 "cells": [
  {
   "cell_type": "markdown",
   "metadata": {
    "id": "8NRMjCyyZdMy",
    "pycharm": {
     "name": "#%% md\n"
    }
   },
   "source": [
    "## 0. Introduction \n",
    "\n",
    "The aim of this lab is to get familiar with **regression problems**, the concepts of **under/over-fitting**, and **regularization**. \n",
    "\n",
    "\n",
    "1.   This lab is the first course-work activity **Assignment 1 part 1: Regression (10%)**\n",
    "2. The Assignment is due on **Friday , 28th October, 11:59pm**\n",
    "2.   A report answering the <font color = 'red'>**questions in</font><font color = \"maroon\"> red**</font> should be submitted on QMplus along with the completed Notebook.\n",
    "3. The report should be a separate file in **pdf format** (so **NOT** *doc, docx, notebook* etc.), well identified with your name, student number, assignment number (for instance, Assignment 1), module code.\n",
    "4. Make sure that **any figures or code** you comment on, are **included in the report**.\n",
    "5. No other means of submission other than the appropriate QM+ link is acceptable at any time (so NO email attachments, etc.)\n",
    "6. **PLAGIARISM** <ins>is an irreversible non-negotiable failure in the course</ins> (if in doubt of what constitutes plagiarism, ask!). \n",
    "\n",
    "\n",
    "For this lab we will use the [diabetes](https://www4.stat.ncsu.edu/~boos/var.select/diabetes.html) dataset."
   ]
  },
  {
   "cell_type": "code",
   "execution_count": 1,
   "metadata": {
    "id": "lkLnfbLLwxxS",
    "pycharm": {
     "name": "#%%\n"
    }
   },
   "outputs": [],
   "source": [
    "import torch\n",
    "from torch import nn\n",
    "from sklearn import model_selection\n",
    "import pandas as pd\n",
    "import matplotlib.pyplot as plt\n",
    "import seaborn as sn\n",
    "from IPython import display\n",
    "\n",
    "import typing\n",
    "%matplotlib inline"
   ]
  },
  {
   "cell_type": "code",
   "execution_count": 2,
   "metadata": {
    "id": "LJJVj3d3b43I",
    "pycharm": {
     "name": "#%%\n"
    }
   },
   "outputs": [],
   "source": [
    "diabetes_db = pd.read_csv('https://www4.stat.ncsu.edu/~boos/var.select/diabetes.tab.txt', sep='\\t', header=0)\n",
    "sn.pairplot(diabetes_db)"
   ]
  },
  {
   "cell_type": "code",
   "execution_count": 3,
   "metadata": {
    "id": "imFNxOVrf36P",
    "pycharm": {
     "name": "#%%\n"
    }
   },
   "outputs": [
    {
     "data": {
      "text/html": [
       "<div>\n",
       "<style scoped>\n",
       "    .dataframe tbody tr th:only-of-type {\n",
       "        vertical-align: middle;\n",
       "    }\n",
       "\n",
       "    .dataframe tbody tr th {\n",
       "        vertical-align: top;\n",
       "    }\n",
       "\n",
       "    .dataframe thead th {\n",
       "        text-align: right;\n",
       "    }\n",
       "</style>\n",
       "<table border=\"1\" class=\"dataframe\">\n",
       "  <thead>\n",
       "    <tr style=\"text-align: right;\">\n",
       "      <th></th>\n",
       "      <th>AGE</th>\n",
       "      <th>SEX</th>\n",
       "      <th>BMI</th>\n",
       "      <th>BP</th>\n",
       "      <th>S1</th>\n",
       "      <th>S2</th>\n",
       "      <th>S3</th>\n",
       "      <th>S4</th>\n",
       "      <th>S5</th>\n",
       "      <th>S6</th>\n",
       "      <th>Y</th>\n",
       "    </tr>\n",
       "  </thead>\n",
       "  <tbody>\n",
       "    <tr>\n",
       "      <th>0</th>\n",
       "      <td>59</td>\n",
       "      <td>2</td>\n",
       "      <td>32.1</td>\n",
       "      <td>101.0</td>\n",
       "      <td>157</td>\n",
       "      <td>93.2</td>\n",
       "      <td>38.0</td>\n",
       "      <td>4.00</td>\n",
       "      <td>4.8598</td>\n",
       "      <td>87</td>\n",
       "      <td>151</td>\n",
       "    </tr>\n",
       "    <tr>\n",
       "      <th>1</th>\n",
       "      <td>48</td>\n",
       "      <td>1</td>\n",
       "      <td>21.6</td>\n",
       "      <td>87.0</td>\n",
       "      <td>183</td>\n",
       "      <td>103.2</td>\n",
       "      <td>70.0</td>\n",
       "      <td>3.00</td>\n",
       "      <td>3.8918</td>\n",
       "      <td>69</td>\n",
       "      <td>75</td>\n",
       "    </tr>\n",
       "    <tr>\n",
       "      <th>2</th>\n",
       "      <td>72</td>\n",
       "      <td>2</td>\n",
       "      <td>30.5</td>\n",
       "      <td>93.0</td>\n",
       "      <td>156</td>\n",
       "      <td>93.6</td>\n",
       "      <td>41.0</td>\n",
       "      <td>4.00</td>\n",
       "      <td>4.6728</td>\n",
       "      <td>85</td>\n",
       "      <td>141</td>\n",
       "    </tr>\n",
       "    <tr>\n",
       "      <th>3</th>\n",
       "      <td>24</td>\n",
       "      <td>1</td>\n",
       "      <td>25.3</td>\n",
       "      <td>84.0</td>\n",
       "      <td>198</td>\n",
       "      <td>131.4</td>\n",
       "      <td>40.0</td>\n",
       "      <td>5.00</td>\n",
       "      <td>4.8903</td>\n",
       "      <td>89</td>\n",
       "      <td>206</td>\n",
       "    </tr>\n",
       "    <tr>\n",
       "      <th>4</th>\n",
       "      <td>50</td>\n",
       "      <td>1</td>\n",
       "      <td>23.0</td>\n",
       "      <td>101.0</td>\n",
       "      <td>192</td>\n",
       "      <td>125.4</td>\n",
       "      <td>52.0</td>\n",
       "      <td>4.00</td>\n",
       "      <td>4.2905</td>\n",
       "      <td>80</td>\n",
       "      <td>135</td>\n",
       "    </tr>\n",
       "    <tr>\n",
       "      <th>5</th>\n",
       "      <td>23</td>\n",
       "      <td>1</td>\n",
       "      <td>22.6</td>\n",
       "      <td>89.0</td>\n",
       "      <td>139</td>\n",
       "      <td>64.8</td>\n",
       "      <td>61.0</td>\n",
       "      <td>2.00</td>\n",
       "      <td>4.1897</td>\n",
       "      <td>68</td>\n",
       "      <td>97</td>\n",
       "    </tr>\n",
       "    <tr>\n",
       "      <th>6</th>\n",
       "      <td>36</td>\n",
       "      <td>2</td>\n",
       "      <td>22.0</td>\n",
       "      <td>90.0</td>\n",
       "      <td>160</td>\n",
       "      <td>99.6</td>\n",
       "      <td>50.0</td>\n",
       "      <td>3.00</td>\n",
       "      <td>3.9512</td>\n",
       "      <td>82</td>\n",
       "      <td>138</td>\n",
       "    </tr>\n",
       "    <tr>\n",
       "      <th>7</th>\n",
       "      <td>66</td>\n",
       "      <td>2</td>\n",
       "      <td>26.2</td>\n",
       "      <td>114.0</td>\n",
       "      <td>255</td>\n",
       "      <td>185.0</td>\n",
       "      <td>56.0</td>\n",
       "      <td>4.55</td>\n",
       "      <td>4.2485</td>\n",
       "      <td>92</td>\n",
       "      <td>63</td>\n",
       "    </tr>\n",
       "    <tr>\n",
       "      <th>8</th>\n",
       "      <td>60</td>\n",
       "      <td>2</td>\n",
       "      <td>32.1</td>\n",
       "      <td>83.0</td>\n",
       "      <td>179</td>\n",
       "      <td>119.4</td>\n",
       "      <td>42.0</td>\n",
       "      <td>4.00</td>\n",
       "      <td>4.4773</td>\n",
       "      <td>94</td>\n",
       "      <td>110</td>\n",
       "    </tr>\n",
       "    <tr>\n",
       "      <th>9</th>\n",
       "      <td>29</td>\n",
       "      <td>1</td>\n",
       "      <td>30.0</td>\n",
       "      <td>85.0</td>\n",
       "      <td>180</td>\n",
       "      <td>93.4</td>\n",
       "      <td>43.0</td>\n",
       "      <td>4.00</td>\n",
       "      <td>5.3845</td>\n",
       "      <td>88</td>\n",
       "      <td>310</td>\n",
       "    </tr>\n",
       "  </tbody>\n",
       "</table>\n",
       "</div>"
      ],
      "text/plain": [
       "   AGE  SEX   BMI     BP   S1     S2    S3    S4      S5  S6    Y\n",
       "0   59    2  32.1  101.0  157   93.2  38.0  4.00  4.8598  87  151\n",
       "1   48    1  21.6   87.0  183  103.2  70.0  3.00  3.8918  69   75\n",
       "2   72    2  30.5   93.0  156   93.6  41.0  4.00  4.6728  85  141\n",
       "3   24    1  25.3   84.0  198  131.4  40.0  5.00  4.8903  89  206\n",
       "4   50    1  23.0  101.0  192  125.4  52.0  4.00  4.2905  80  135\n",
       "5   23    1  22.6   89.0  139   64.8  61.0  2.00  4.1897  68   97\n",
       "6   36    2  22.0   90.0  160   99.6  50.0  3.00  3.9512  82  138\n",
       "7   66    2  26.2  114.0  255  185.0  56.0  4.55  4.2485  92   63\n",
       "8   60    2  32.1   83.0  179  119.4  42.0  4.00  4.4773  94  110\n",
       "9   29    1  30.0   85.0  180   93.4  43.0  4.00  5.3845  88  310"
      ]
     },
     "execution_count": 3,
     "metadata": {},
     "output_type": "execute_result"
    }
   ],
   "source": [
    "diabetes_db.head(10)"
   ]
  },
  {
   "cell_type": "markdown",
   "metadata": {
    "id": "LGjbgZxNdrLH",
    "pycharm": {
     "name": "#%% md\n"
    }
   },
   "source": [
    "We first split the data into test and training sets. For consistency and to allow for meaningful comparison the same splits are maintained in the remainder of the lab."
   ]
  },
  {
   "cell_type": "code",
   "execution_count": 3,
   "metadata": {
    "id": "Lad3ihXjd-Ev",
    "pycharm": {
     "name": "#%%\n"
    }
   },
   "outputs": [],
   "source": [
    "X_train, X_test, y_train, y_test = model_selection.train_test_split(\n",
    "    diabetes_db.loc[:, diabetes_db.columns != 'Y'],\n",
    "    diabetes_db['Y'],\n",
    "    test_size=0.2,\n",
    "    random_state=42\n",
    "    )\n",
    "\n",
    "x_train = torch.from_numpy(X_train.values).float()\n",
    "x_test = torch.from_numpy(X_test.values).float()\n",
    "\n",
    "y_train = torch.from_numpy(y_train.values).float()\n",
    "y_train = y_train.reshape(-1, 1)\n",
    "\n",
    "y_test = torch.from_numpy(y_test.values).float()\n",
    "y_test = y_test.reshape(-1, 1)\n"
   ]
  },
  {
   "cell_type": "markdown",
   "metadata": {
    "id": "hLLITe4POndx",
    "pycharm": {
     "name": "#%% md\n"
    }
   },
   "source": [
    "We can see that all the independent variables are on different scales. This can affect gradient descent, we therefore need to normalize all features to zero mean, and unit standard deviation. The normalized value $z_i$ of $x_i$ is obtained through $z_i = \\frac{x_i - μ}{σ}$ where $μ$ is the mean and $σ$ is the standard deviation of $X$ and $x_i, μ, σ ∈ \\mathbb{R}^D$.\n",
    "\n",
    "**Q1.** Complete the method and normalize `x_train, x_test` [2 marks]"
   ]
  },
  {
   "cell_type": "code",
   "execution_count": 4,
   "metadata": {
    "id": "z3E-8C1USNFP",
    "pycharm": {
     "name": "#%%\n"
    }
   },
   "outputs": [],
   "source": [
    "def norm_set(x: torch.Tensor, mu: torch.Tensor, sigma: torch.Tensor) -> torch.tensor:\n",
    "    normalized_tensor = (x - mu)/sigma\n",
    "    return normalized_tensor\n",
    "\n",
    "mu_x_train = x_train.mean(axis=0).unsqueeze(dim=0)\n",
    "std_x_train = x_train.std(axis=0).unsqueeze(dim=0)\n",
    "\n",
    "mu_x_test = x_test.mean(axis=0).unsqueeze(dim=0)\n",
    "std_x_test = x_test.std(axis=0).unsqueeze(dim=0)\n",
    "\n",
    "x_train = norm_set(x_train, mu_x_train, std_x_train)\n",
    "x_test = norm_set(x_test, mu_x_test, std_x_test)"
   ]
  },
  {
   "cell_type": "markdown",
   "metadata": {
    "id": "d_qQkwRGFBF8",
    "pycharm": {
     "name": "#%% md\n"
    }
   },
   "source": [
    "## 1.1 Linear Regression\n",
    "\n",
    "We will building the linear regression model in pytorch using a custom layer. \n",
    "\n",
    "Refering back to the lecture notes, we define $ y = f(x) = w^T x$, so we need to learn weight vector $w$.\n",
    "\n",
    "**Q2.** Fill in the forward method of the LinearRegression class. [2 marks]"
   ]
  },
  {
   "cell_type": "code",
   "execution_count": 5,
   "metadata": {
    "pycharm": {
     "name": "#%%\n"
    }
   },
   "outputs": [
    {
     "data": {
      "text/plain": "torch.Size([353, 10])"
     },
     "execution_count": 5,
     "metadata": {},
     "output_type": "execute_result"
    }
   ],
   "source": [
    "x_train.shape"
   ]
  },
  {
   "cell_type": "code",
   "execution_count": 6,
   "metadata": {
    "pycharm": {
     "name": "#%%\n"
    }
   },
   "outputs": [
    {
     "data": {
      "text/plain": "torch.Size([353, 1])"
     },
     "execution_count": 6,
     "metadata": {},
     "output_type": "execute_result"
    }
   ],
   "source": [
    "y_train.shape"
   ]
  },
  {
   "cell_type": "code",
   "execution_count": 7,
   "metadata": {
    "id": "mxp1LoliF3Qc",
    "pycharm": {
     "name": "#%%\n"
    }
   },
   "outputs": [],
   "source": [
    "class LinearRegression(nn.Module):\n",
    "    def __init__(self, num_features):\n",
    "        super().__init__()\n",
    "        self.weight = nn.Parameter(torch.zeros(1, num_features), requires_grad=False)\n",
    "\n",
    "    def forward(self, x):\n",
    "        y = 0\n",
    "        y = x@self.weight.T\n",
    "        return y\n"
   ]
  },
  {
   "cell_type": "markdown",
   "metadata": {
    "id": "Rr7MDAIWboLi",
    "pycharm": {
     "name": "#%% md\n"
    }
   },
   "source": [
    "As we need to account for the bias, we add a column of ones to the `x_data`"
   ]
  },
  {
   "cell_type": "code",
   "execution_count": 8,
   "metadata": {
    "id": "rCn-E-CZbxOL",
    "pycharm": {
     "name": "#%%\n"
    }
   },
   "outputs": [],
   "source": [
    "# add a feature for bias\n",
    "x_train = torch.cat([x_train, torch.ones(x_train.shape[0], 1)], dim=1)\n",
    "x_test = torch.cat([x_test, torch.ones(x_test.shape[0], 1)], dim=1)"
   ]
  },
  {
   "cell_type": "code",
   "execution_count": 9,
   "metadata": {
    "pycharm": {
     "name": "#%%\n"
    }
   },
   "outputs": [
    {
     "data": {
      "text/plain": "torch.Size([353, 11])"
     },
     "execution_count": 9,
     "metadata": {},
     "output_type": "execute_result"
    }
   ],
   "source": [
    "x_train.shape"
   ]
  },
  {
   "cell_type": "code",
   "execution_count": 10,
   "metadata": {
    "pycharm": {
     "name": "#%%\n"
    }
   },
   "outputs": [
    {
     "data": {
      "text/plain": "torch.Size([353, 1])"
     },
     "execution_count": 10,
     "metadata": {},
     "output_type": "execute_result"
    }
   ],
   "source": [
    "y_train.shape"
   ]
  },
  {
   "cell_type": "code",
   "execution_count": 11,
   "metadata": {
    "id": "Tfeh3o4Gk_xW",
    "pycharm": {
     "name": "#%%\n"
    }
   },
   "outputs": [
    {
     "data": {
      "text/plain": "torch.Size([353, 1])"
     },
     "execution_count": 11,
     "metadata": {},
     "output_type": "execute_result"
    }
   ],
   "source": [
    "## test the custom layer\n",
    "model = LinearRegression(x_train.shape[1])\n",
    "prediction = model(x_train)\n",
    "prediction.shape # the output should be Nx1"
   ]
  },
  {
   "cell_type": "markdown",
   "metadata": {
    "id": "H-kUQVD9ne_i",
    "pycharm": {
     "name": "#%% md\n"
    }
   },
   "source": [
    "The next step is to calculate the cost. For this we will use the mean squared error $E(w) = \\frac{1}{N} Σ_{i=0}^N (f(x_i) - y_i)^2$\n",
    "\n",
    "**Q3.** Fill in the method to calculate the squared error of for any set of labels $y$ and predictions [2 marks]"
   ]
  },
  {
   "cell_type": "code",
   "execution_count": 12,
   "metadata": {
    "id": "25SVCd01l29-",
    "pycharm": {
     "name": "#%%\n"
    }
   },
   "outputs": [],
   "source": [
    "def mean_squared_error(y_pred: torch.Tensor, y_true: torch.Tensor) -> torch.Tensor:\n",
    "    cost = torch.mean((y_pred - y_true)**2)\n",
    "    return cost"
   ]
  },
  {
   "cell_type": "code",
   "execution_count": 13,
   "metadata": {
    "id": "yTuAgK6FpLEh",
    "pycharm": {
     "name": "#%%\n"
    }
   },
   "outputs": [
    {
     "name": "stdout",
     "output_type": "stream",
     "text": [
      "tensor(29711.3223)\n"
     ]
    }
   ],
   "source": [
    "cost = mean_squared_error(y_train, prediction)\n",
    "print(cost)"
   ]
  },
  {
   "cell_type": "markdown",
   "metadata": {
    "id": "qVV7MCfxqtyA",
    "pycharm": {
     "name": "#%% md\n"
    }
   },
   "source": [
    "We see that using a random set of initial parameters for bias and weight, yields a relatively high error. As such, we will update the values for $w$ using gradient descent. We will implement a custom method for gradient descent.\n",
    "\n",
    "**Q4.** In the method below, add your code to update bias and weight using learning rate $α$. [2 marks]\n",
    "\n",
    "First you need to calculate the partial derivative of the loss function with respect to the weights. \n",
    "\n",
    "We then update the weights vector using the following equation:\n",
    "\n",
    "$ weight = weight - α * ∂_{weight}$"
   ]
  },
  {
   "cell_type": "code",
   "execution_count": 14,
   "metadata": {
    "id": "TJXOTQInsIFz",
    "pycharm": {
     "name": "#%%\n"
    }
   },
   "outputs": [],
   "source": [
    "def gradient_descent_step(model: nn.Module, X: torch.Tensor, y: torch.Tensor, y_pred: torch.Tensor, lr: float) -> None:\n",
    "    weight = model.weight\n",
    "    N = X.shape[0]\n",
    "    ### your code here\n",
    "    error = mean_squared_error(y, y_pred)\n",
    "    d_error = 2* (y_pred - y)\n",
    "    dweight = torch.mean(d_error * X, axis=0)\n",
    "    # calculate the new values for bias and weight\n",
    "    weight -= lr * dweight\n",
    "    assert weight.shape == (1, 11)\n",
    "    model.weight = nn.Parameter(weight, requires_grad=False)"
   ]
  },
  {
   "cell_type": "code",
   "execution_count": 15,
   "metadata": {
    "pycharm": {
     "name": "#%%\n"
    }
   },
   "outputs": [
    {
     "data": {
      "text/plain": "torch.Size([1, 11])"
     },
     "execution_count": 15,
     "metadata": {},
     "output_type": "execute_result"
    }
   ],
   "source": [
    "model.weight.shape"
   ]
  },
  {
   "cell_type": "code",
   "execution_count": 16,
   "metadata": {
    "pycharm": {
     "name": "#%%\n"
    }
   },
   "outputs": [
    {
     "data": {
      "text/plain": "torch.Size([353, 11])"
     },
     "execution_count": 16,
     "metadata": {},
     "output_type": "execute_result"
    }
   ],
   "source": [
    "x_train.shape"
   ]
  },
  {
   "cell_type": "code",
   "execution_count": 17,
   "metadata": {
    "pycharm": {
     "name": "#%%\n"
    }
   },
   "outputs": [
    {
     "data": {
      "text/plain": "torch.Size([353, 1])"
     },
     "execution_count": 17,
     "metadata": {},
     "output_type": "execute_result"
    }
   ],
   "source": [
    "prediction.shape"
   ]
  },
  {
   "cell_type": "code",
   "execution_count": 18,
   "metadata": {
    "id": "4lQDX_zeG6W1",
    "pycharm": {
     "name": "#%%\n"
    }
   },
   "outputs": [
    {
     "data": {
      "text/plain": "<Figure size 432x288 with 2 Axes>",
      "image/png": "[encoded data removed]"
     },
     "metadata": {
      "needs_background": "light"
     },
     "output_type": "display_data"
    },
    {
     "name": "stdout",
     "output_type": "stream",
     "text": [
      "Parameter containing:\n",
      "tensor([[  1.9400, -11.4488,  26.3047,  16.6306,  -9.8810,  -2.3179,  -7.6995,\n",
      "           8.2121,  21.9769,   2.6065, 153.7365]])\n",
      "Minimum cost: 2890.406494140625\n"
     ]
    }
   ],
   "source": [
    "cost_lst = list()\n",
    "model = LinearRegression(x_train.shape[1])\n",
    "alpha = .1\n",
    "for it in range(100):\n",
    "    prediction = model(x_train)\n",
    "    cost = mean_squared_error(y_train, prediction)\n",
    "    cost_lst.append(cost)\n",
    "    gradient_descent_step(model, x_train, y_train, prediction, alpha)\n",
    "fig, axs = plt.subplots(2)\n",
    "axs[0].plot(list(range(it+1)), cost_lst)\n",
    "axs[1].scatter(prediction, y_train)\n",
    "plt.show()\n",
    "print(model.weight)\n",
    "print('Minimum cost: {}'.format(min(cost_lst)))"
   ]
  },
  {
   "cell_type": "markdown",
   "metadata": {
    "id": "Mwypj_XWLKKq",
    "pycharm": {
     "name": "#%% md\n"
    }
   },
   "source": [
    "<font color=\"maroon\">**Q5.** What conclusion if any can be drawn from the weight values? How does gender and BMI affect blood sugar levels?\n",
    "\n",
    "What are the estimated blood sugar levels for the below examples? [2 marks] </font>\n",
    "\n",
    "| AGE | SEX | BMI | BP  | S1  | S2    | S3 | S4  | S5     | S6  |\n",
    "|-----|-----|-----|-----|-----|-------|----|-----|--------|-----|\n",
    "| 25  | F   | 18  | 79  | 130 | 64.8  | 61 | 2   | 4.1897 | 68  |\n",
    "| 50  | M   | 28  | 103 | 229 | 162.2 | 60 | 4.5 | 6.107  | 124 |"
   ]
  },
  {
   "cell_type": "markdown",
   "metadata": {
    "pycharm": {
     "name": "#%% md\n"
    }
   },
   "source": [
    "**Ans**\n",
    "There are 11 values in the weight matrix, each corresponding to a single feature in the training dataset in addition with bias term. These values are coefficients of their respective feature and determines how and how much they relate with the target variable. Positive values show directly proportional relation while negative values show inverse relation. The scale of these values shows the strength of interdependence while their sign shows direction (as discussed above).\n",
    "* Gender has a respective weight value of -11.448 which signifies that change in a single value of blood sugar level is affected by 11 times the value of gender in an inversely proportional way. \n",
    "* And for BMI, it has a respective weight value of 26.304 which signifies that change in a single value of blood sugar level is affected by 26 times the value of BMI in a directly proportional way.\n"
   ]
  },
  {
   "cell_type": "code",
   "execution_count": 19,
   "metadata": {
    "pycharm": {
     "name": "#%%\n"
    }
   },
   "outputs": [
    {
     "data": {
      "text/plain": "tensor([[-1.8749,  1.0599, -1.9463, -1.1358, -1.6913, -1.6477,  0.8984, -1.6064,\n         -0.8863, -2.0305],\n        [ 0.0851, -0.9408,  0.3336,  0.5690,  1.1594,  1.5541,  0.8202,  0.3240,\n          2.7678,  2.7640]])"
     },
     "execution_count": 19,
     "metadata": {},
     "output_type": "execute_result"
    }
   ],
   "source": [
    "examples = torch.Tensor([[25, 2, 18, 79, 130, 64.8, 61, 2, 4.1897, 68],\n",
    "                                 [50, 1, 28, 103, 229, 162.2, 60, 4.5, 6.107, 124]])\n",
    "examples = (examples - mu_x_train)/std_x_train\n",
    "examples"
   ]
  },
  {
   "cell_type": "code",
   "execution_count": 20,
   "metadata": {
    "pycharm": {
     "name": "#%%\n"
    }
   },
   "outputs": [],
   "source": [
    "examples = torch.hstack((examples, torch.ones((2,1))))"
   ]
  },
  {
   "cell_type": "code",
   "execution_count": 21,
   "metadata": {
    "pycharm": {
     "name": "#%%\n"
    }
   },
   "outputs": [
    {
     "data": {
      "text/plain": "torch.Size([2, 11])"
     },
     "execution_count": 21,
     "metadata": {},
     "output_type": "execute_result"
    }
   ],
   "source": [
    "examples.shape"
   ]
  },
  {
   "cell_type": "code",
   "execution_count": 22,
   "metadata": {
    "id": "StYxCUdPWSEp",
    "pycharm": {
     "name": "#%%\n"
    }
   },
   "outputs": [],
   "source": [
    "prediction = model(examples)"
   ]
  },
  {
   "cell_type": "code",
   "execution_count": 23,
   "metadata": {
    "pycharm": {
     "name": "#%%\n"
    }
   },
   "outputs": [
    {
     "data": {
      "text/plain": "tensor([[ 43.5294],\n        [232.2309]])"
     },
     "execution_count": 23,
     "metadata": {},
     "output_type": "execute_result"
    }
   ],
   "source": [
    "prediction"
   ]
  },
  {
   "cell_type": "markdown",
   "metadata": {
    "id": "9IlXN47P-cCY",
    "pycharm": {
     "name": "#%% md\n"
    }
   },
   "source": [
    "Now estimate the error on the test set. Is the error on the test set comparable to that of the train set? What can be said about the fit of the model? When does a model over/under fits?\n"
   ]
  },
  {
   "cell_type": "code",
   "execution_count": 24,
   "metadata": {
    "id": "_yuYH06A-xoj",
    "pycharm": {
     "name": "#%%\n"
    }
   },
   "outputs": [
    {
     "name": "stdout",
     "output_type": "stream",
     "text": [
      "Test Error:  tensor(2929.9829)\n",
      "Train Error:  tensor(2890.4065)\n"
     ]
    }
   ],
   "source": [
    "prediction = model(x_test)\n",
    "test_error = mean_squared_error(y_test, prediction)\n",
    "print(\"Test Error: \",test_error)\n",
    "print(\"Train Error: \", min(cost_lst))"
   ]
  },
  {
   "cell_type": "markdown",
   "metadata": {
    "id": "qnz2O9Pagpf7",
    "pycharm": {
     "name": "#%% md\n"
    }
   },
   "source": [
    "<font color=\"maroon\">**Q6.** Try the code with a number of learning rates that differ by orders of magnitude and record the error of the training and test sets. What do you observe on the training error? What about the error on the test set? [3 marks]</font>"
   ]
  },
  {
   "cell_type": "markdown",
   "metadata": {
    "pycharm": {
     "name": "#%% md\n"
    }
   },
   "source": [
    "**Ans**\n",
    "The slope of the training error curve significantely changes to more uniform in nature rather than a sudden drop in the loss value and then staying dead (no optimization) for the rest of the iterations. Reducing the learning rate as the name suggests also slows down the process of learning the cost function optimially as the weights are learned with much smaller step. It might require more number of iterations as we move lower on the scale of learning rate to optimize the function because smaller steps would require 10s of times of more iterative step to minimize the error distance than the higher learning rates.\n",
    "\n",
    "The Test error calculated on the test set by the model is very similar (close values, small distance with repective to the scale of the values) to the error on train set. This shows that the model is not overfitting on the training dataset and instead learning a generalized mapping of features to labels."
   ]
  },
  {
   "cell_type": "code",
   "execution_count": 25,
   "metadata": {
    "id": "Sp9nNM0R-7CH",
    "pycharm": {
     "name": "#%%\n"
    }
   },
   "outputs": [
    {
     "data": {
      "text/plain": "<Figure size 432x288 with 2 Axes>",
      "image/png": "[encoded data removed]"
     },
     "metadata": {
      "needs_background": "light"
     },
     "output_type": "display_data"
    },
    {
     "name": "stdout",
     "output_type": "stream",
     "text": [
      "Minimum cost at alpha==0.1: 2890.406494140625\n"
     ]
    },
    {
     "data": {
      "text/plain": "<Figure size 432x288 with 2 Axes>",
      "image/png": "[encoded data removed]"
     },
     "metadata": {
      "needs_background": "light"
     },
     "output_type": "display_data"
    },
    {
     "name": "stdout",
     "output_type": "stream",
     "text": [
      "Minimum cost at alpha==0.01: 3356.778076171875\n"
     ]
    },
    {
     "data": {
      "text/plain": "<Figure size 432x288 with 2 Axes>",
      "image/png": "[encoded data removed]"
     },
     "metadata": {
      "needs_background": "light"
     },
     "output_type": "display_data"
    },
    {
     "name": "stdout",
     "output_type": "stream",
     "text": [
      "Minimum cost at alpha==0.001: 20040.58203125\n"
     ]
    }
   ],
   "source": [
    "error_rates = dict()\n",
    "for alpha in [0.1,0.01,0.001]:\n",
    "    cost_lst = list()\n",
    "    model = LinearRegression(x_train.shape[1])\n",
    "    for it in range(100):\n",
    "        prediction = model(x_train)\n",
    "        cost = mean_squared_error(y_train, prediction)\n",
    "        cost_lst.append(cost)\n",
    "        gradient_descent_step(model, x_train, y_train, prediction, alpha)\n",
    "    fig, axs = plt.subplots(2)\n",
    "    axs[0].plot(list(range(it+1)), cost_lst)\n",
    "    axs[1].scatter(prediction, y_train)\n",
    "    plt.show()\n",
    "    prediction = model(x_test)\n",
    "    test_error = mean_squared_error(y_test, prediction)\n",
    "    error_rates[str(alpha)] = {\"train error\": cost, \"test error\": test_error}\n",
    "    print('Minimum cost at alpha=={}: {}'.format(alpha, min(cost_lst)))"
   ]
  },
  {
   "cell_type": "code",
   "execution_count": 26,
   "metadata": {
    "pycharm": {
     "name": "#%%\n"
    }
   },
   "outputs": [
    {
     "data": {
      "text/plain": "{'0.1': {'train error': tensor(2890.4065), 'test error': tensor(2929.9829)},\n '0.01': {'train error': tensor(3356.7781), 'test error': tensor(3005.3503)},\n '0.001': {'train error': tensor(20040.5820),\n  'test error': tensor(17473.3184)}}"
     },
     "execution_count": 26,
     "metadata": {},
     "output_type": "execute_result"
    }
   ],
   "source": [
    "error_rates"
   ]
  },
  {
   "cell_type": "markdown",
   "metadata": {
    "id": "eI9cKY_TWiUM",
    "pycharm": {
     "name": "#%% md\n"
    }
   },
   "source": [
    "# 1.2 Regularized Linear Regression\n",
    "In this exercise, we will be trying to create a model that fits data that is clearly not linear. We will be attempting to fit the data points seen in the graph below:"
   ]
  },
  {
   "cell_type": "code",
   "execution_count": 27,
   "metadata": {
    "id": "hupAUhrofKfy",
    "pycharm": {
     "name": "#%%\n"
    }
   },
   "outputs": [
    {
     "data": {
      "text/plain": "<Figure size 432x288 with 1 Axes>",
      "image/png": "[encoded data removed]"
     },
     "metadata": {
      "needs_background": "light"
     },
     "output_type": "display_data"
    }
   ],
   "source": [
    "x = torch.tensor([-0.99768, -0.69574, -0.40373, -0.10236, 0.22024, 0.47742, 0.82229])\n",
    "y = torch.tensor([2.0885, 1.1646, 0.3287, 0.46013, 0.44808, 0.10013, -0.32952]).reshape(-1, 1)\n",
    "plt.scatter(x, y)\n",
    "plt.show()"
   ]
  },
  {
   "cell_type": "markdown",
   "metadata": {
    "id": "k6epuBvnf7P9",
    "pycharm": {
     "name": "#%% md\n"
    }
   },
   "source": [
    "In order to fit this data we will create a new hypothesis function, which uses a fifth-order polynomial:\n",
    "\n",
    "$\n",
    " h_{\\theta}(x) = \\theta_{0} x_{0} + \\theta_{1} x_{1} + \\theta_{2} x_{1} ^2 + \\theta_{3} x_{1} ^3 + \\theta_{4} x_{1} ^4 + \\theta_{5} x_{1} ^5\n",
    "$\n",
    "\n",
    "As we are fitting a small number of points with a high order model, there is a danger of overfitting.  \\\\\n",
    "\n",
    "To attempt to avoid this we will use regularization. Our cost function becomes:\n",
    "\n",
    "$\n",
    " J(\\theta) = \\frac{1}{2m}  \\left[ \\sum_{i=1}^m ( h_{\\theta}(x^{(i)}) - y^{(i)})^2 + \\lambda    \\sum_{j=1}^n \\theta_{j}^2 \\right] \n",
    "$\n",
    "\n",
    "Adjust variable `x` to include the higher order polynomials"
   ]
  },
  {
   "cell_type": "code",
   "execution_count": 33,
   "metadata": {
    "pycharm": {
     "name": "#%%\n"
    }
   },
   "outputs": [],
   "source": [
    "x3 = torch.stack([x, x**2, x**3, x**4, x**5, torch.ones(x.shape)]).T"
   ]
  },
  {
   "cell_type": "code",
   "execution_count": 34,
   "metadata": {
    "pycharm": {
     "name": "#%%\n"
    }
   },
   "outputs": [
    {
     "name": "stdout",
     "output_type": "stream",
     "text": [
      "tensor([[-9.9768e-01,  9.9537e-01, -9.9306e-01,  9.9075e-01, -9.8845e-01,\n",
      "          1.0000e+00],\n",
      "        [-6.9574e-01,  4.8405e-01, -3.3678e-01,  2.3431e-01, -1.6302e-01,\n",
      "          1.0000e+00],\n",
      "        [-4.0373e-01,  1.6300e-01, -6.5807e-02,  2.6568e-02, -1.0726e-02,\n",
      "          1.0000e+00],\n",
      "        [-1.0236e-01,  1.0478e-02, -1.0725e-03,  1.0978e-04, -1.1237e-05,\n",
      "          1.0000e+00],\n",
      "        [ 2.2024e-01,  4.8506e-02,  1.0683e-02,  2.3528e-03,  5.1818e-04,\n",
      "          1.0000e+00],\n",
      "        [ 4.7742e-01,  2.2793e-01,  1.0882e-01,  5.1952e-02,  2.4803e-02,\n",
      "          1.0000e+00],\n",
      "        [ 8.2229e-01,  6.7616e-01,  5.5600e-01,  4.5719e-01,  3.7595e-01,\n",
      "          1.0000e+00]])\n"
     ]
    },
    {
     "data": {
      "text/plain": "torch.Size([7, 6])"
     },
     "execution_count": 34,
     "metadata": {},
     "output_type": "execute_result"
    }
   ],
   "source": [
    "print(x3)\n",
    "x3.shape"
   ]
  },
  {
   "cell_type": "markdown",
   "metadata": {
    "id": "cg9OdKcyhEN0",
    "pycharm": {
     "name": "#%% md\n"
    }
   },
   "source": [
    "**Q7.** Update the cost and gradient descent methods to use the regularised cost, as shown above. [4 marks]\n",
    "\n",
    "Note that the punishment for having more terms is not applied to the bias. This means that we use a different update technique for the partial derivative of $\\theta_{0}$, and add the regularization to all of the others:\n",
    "\n",
    "\n",
    "\n",
    "$\n",
    " \\theta_{j} =  \\theta_{j} - \\alpha \\frac{1}{m} \\sum_{i=1}^m ( h_{\\theta}(x^{(i)}) - y^{(i)})x^{(i)}_{j} , j=0 \n",
    "$\n",
    "\n",
    "\n",
    "\n",
    "$\n",
    " \\theta_{j} =  \\theta_{j} (1 - \\alpha \\frac{\\lambda}{m}) - \n",
    " \\alpha \\frac{1}{m} \\sum_{i=1}^m ( h_{\\theta}(x^{(i)}) - y^{(i)})x^{(i)}_{j} , j>0 \n",
    "$"
   ]
  },
  {
   "cell_type": "code",
   "execution_count": 35,
   "metadata": {
    "id": "c-h9vdC5hSPO",
    "pycharm": {
     "name": "#%%\n"
    }
   },
   "outputs": [],
   "source": [
    "def mean_squared_error(y_true: torch.Tensor, y_pred: torch.Tensor, lam: float, theta: torch.tensor) -> torch.Tensor:\n",
    "    cost = 0.5*(torch.mean((y_pred - y_true)**2) + lam*torch.mean(theta**2))\n",
    "    return cost\n",
    "\n",
    "def gradient_descent_step(model: nn.Module, X: torch.Tensor, y: torch.Tensor, y_pred: torch.Tensor, lr: float, lam:float) -> None:\n",
    "    weight = model.weight\n",
    "    N = X.shape[0]\n",
    "    for x in range(6):\n",
    "        if x == 5:\n",
    "            weight[0,x] = weight[0,x] - lr*torch.mean((y_pred - y)*X[:,x])\n",
    "        else:\n",
    "            weight[0,x] = weight[0,x]*(1-(lr*lam/N)) - lr*torch.mean((y_pred - y)*X[:,x])\n",
    "    model.weight = nn.Parameter(weight, requires_grad=False)"
   ]
  },
  {
   "cell_type": "markdown",
   "metadata": {
    "id": "-ZfVxPRYkns1",
    "pycharm": {
     "name": "#%% md\n"
    }
   },
   "source": [
    "<font color=\"maroon\"> **Q8.** First of all, find the best value of alpha to use in order to optimize best.\n",
    "Next, experiment with different values of $\\lambda$ and see how this affects the shape of the hypothesis. [3 marks]</font>"
   ]
  },
  {
   "cell_type": "markdown",
   "metadata": {
    "pycharm": {
     "name": "#%% md\n"
    }
   },
   "source": [
    "**Ans**\n",
    " I did the experimentation with different alpha rates like [0.5, 0.1, 0.05, 0.04, 0.03, 0.01] and found that 0.03 as the alpha gives me the satisfactory result with relatively smoother error minimization as well as no scope of further training with the flat/dead line for the last 20-30 iterations. \n",
    "\n",
    "After selecting the learning rate, I experimented for the value of regularizer (lambda) to observe the change in behavior of the hypothesis, learning curve and training error value. Just as we expected, lambda is applying restriction on the cost function to prevent overfitting the data, hence the training error value is increasing with each increasing lambda value but the shape of the hypothesis is barely changing. \n",
    "\n",
    "This pattern disrupted while we are increasing the lambda value to a relatively large number like ‘5’, such a value disturbed the learning curve with significant increase in error after certain iterations (20-25 iterations) of optimizing the weight for minimum cost. Setting the lambda value so high is causing unwanted increase in the importance of regularization rather than on the mean squared distance between the predicted values and ground truth values, which we meant to minimize to fit the hypothesis to our data. The shape of the hypothesis flattens out as a line rather than following the nature of exponential features in our training values.\n"
   ]
  },
  {
   "cell_type": "code",
   "execution_count": 36,
   "metadata": {
    "pycharm": {
     "name": "#%%\n"
    }
   },
   "outputs": [
    {
     "data": {
      "text/plain": "<Figure size 432x288 with 1 Axes>",
      "image/png": "[encoded data removed]"
     },
     "metadata": {
      "needs_background": "light"
     },
     "output_type": "display_data"
    },
    {
     "name": "stdout",
     "output_type": "stream",
     "text": [
      "Parameter containing:\n",
      "tensor([[-0.0468,  0.1794, -0.0497,  0.1214, -0.0524,  0.4820]])\n",
      "Minimum cost: 0.1875617653131485\n"
     ]
    }
   ],
   "source": [
    "cost_lst = list()\n",
    "model = LinearRegression(x3.shape[1])\n",
    "\n",
    "alpha = 0.03 # select an appropriate alpha\n",
    "lam = 0 # select an appropriate lambda\n",
    "for it in range(100):\n",
    "    prediction = model(x3)\n",
    "    cost = mean_squared_error(y, prediction, lam, model.weight)\n",
    "    cost_lst.append(cost)\n",
    "    gradient_descent_step(model, x3, y, prediction, alpha, lam)\n",
    "display.clear_output(wait=True)\n",
    "plt.plot(list(range(it+1)), cost_lst)\n",
    "plt.title(\"With alpha = 0.03 and lambda = 0 (No regularization)\")\n",
    "plt.show()\n",
    "print(model.weight)\n",
    "print('Minimum cost: {}'.format(min(cost_lst)))"
   ]
  },
  {
   "cell_type": "code",
   "execution_count": 37,
   "metadata": {
    "pycharm": {
     "name": "#%%\n"
    }
   },
   "outputs": [
    {
     "data": {
      "text/plain": "<Figure size 432x288 with 1 Axes>",
      "image/png": "[encoded data removed]"
     },
     "metadata": {
      "needs_background": "light"
     },
     "output_type": "display_data"
    }
   ],
   "source": [
    "plt.scatter(x3[:, 0], y, c='red', marker='x', label='groundtruth')\n",
    "outputs = model(x3)\n",
    "plt.plot(x3[:, 0], outputs, c='blue', marker='o', label='prediction')\n",
    "plt.xlabel('x1')\n",
    "plt.ylabel('y=f(x1)')\n",
    "plt.legend()\n",
    "plt.show()"
   ]
  },
  {
   "cell_type": "markdown",
   "metadata": {
    "pycharm": {
     "name": "#%% md\n"
    }
   },
   "source": [
    "---"
   ]
  },
  {
   "cell_type": "code",
   "execution_count": 35,
   "metadata": {
    "id": "9hFP4DHzZDkB",
    "pycharm": {
     "name": "#%%\n"
    }
   },
   "outputs": [
    {
     "data": {
      "image/png": "[encoded data removed]",
      "text/plain": [
       "<Figure size 432x288 with 1 Axes>"
      ]
     },
     "metadata": {
      "needs_background": "light"
     },
     "output_type": "display_data"
    },
    {
     "name": "stdout",
     "output_type": "stream",
     "text": [
      "Parameter containing:\n",
      "tensor([[-0.0455,  0.1744, -0.0483,  0.1180, -0.0509,  0.4839]])\n",
      "Minimum cost: 0.19189567863941193\n"
     ]
    }
   ],
   "source": [
    "cost_lst = list()\n",
    "model = LinearRegression(x3.shape[1])\n",
    "\n",
    "alpha = 0.03 # select an appropriate alpha\n",
    "lam = 0.1 # select an appropriate lambda\n",
    "for it in range(100):\n",
    "    prediction = model(x3)\n",
    "    cost = mean_squared_error(y, prediction, lam, model.weight)\n",
    "    cost_lst.append(cost)\n",
    "    gradient_descent_step(model, x3, y, prediction, alpha, lam)\n",
    "display.clear_output(wait=True)\n",
    "plt.plot(list(range(it+1)), cost_lst)\n",
    "plt.title(\"With alpha = 0.03 and lambda = 0.1\")\n",
    "plt.show()\n",
    "print(model.weight)\n",
    "print('Minimum cost: {}'.format(min(cost_lst)))\n"
   ]
  },
  {
   "cell_type": "code",
   "execution_count": 36,
   "metadata": {
    "id": "xys3bBGpk8wp",
    "pycharm": {
     "name": "#%%\n"
    }
   },
   "outputs": [
    {
     "data": {
      "image/png": "[encoded data removed]",
      "text/plain": [
       "<Figure size 432x288 with 1 Axes>"
      ]
     },
     "metadata": {
      "needs_background": "light"
     },
     "output_type": "display_data"
    }
   ],
   "source": [
    "plt.scatter(x3[:, 0], y, c='red', marker='x', label='groundtruth')\n",
    "outputs = model(x3)\n",
    "plt.plot(x3[:, 0], outputs, c='blue', marker='o', label='prediction')\n",
    "plt.xlabel('x1')\n",
    "plt.ylabel('y=f(x1)')\n",
    "plt.legend()\n",
    "plt.show()"
   ]
  },
  {
   "cell_type": "markdown",
   "metadata": {
    "pycharm": {
     "name": "#%% md\n"
    }
   },
   "source": [
    "---"
   ]
  },
  {
   "cell_type": "code",
   "execution_count": 37,
   "metadata": {
    "pycharm": {
     "name": "#%%\n"
    }
   },
   "outputs": [
    {
     "data": {
      "image/png": "[encoded data removed]",
      "text/plain": [
       "<Figure size 432x288 with 1 Axes>"
      ]
     },
     "metadata": {
      "needs_background": "light"
     },
     "output_type": "display_data"
    },
    {
     "name": "stdout",
     "output_type": "stream",
     "text": [
      "Parameter containing:\n",
      "tensor([[-0.0355,  0.1361, -0.0377,  0.0921, -0.0397,  0.4995]])\n",
      "Minimum cost: 0.2248290628194809\n"
     ]
    }
   ],
   "source": [
    "cost_lst = list()\n",
    "model = LinearRegression(x3.shape[1])\n",
    "\n",
    "alpha = 0.03 # select an appropriate alpha\n",
    "lam = 1 # select an appropriate lambda\n",
    "for it in range(100):\n",
    "    prediction = model(x3)\n",
    "    cost = mean_squared_error(y, prediction, lam, model.weight)\n",
    "    cost_lst.append(cost)\n",
    "    gradient_descent_step(model, x3, y, prediction, alpha, lam)\n",
    "display.clear_output(wait=True)\n",
    "plt.plot(list(range(it+1)), cost_lst)\n",
    "plt.title(\"With alpha = 0.03 and lambda = 1\")\n",
    "plt.show()\n",
    "print(model.weight)\n",
    "print('Minimum cost: {}'.format(min(cost_lst)))"
   ]
  },
  {
   "cell_type": "code",
   "execution_count": 38,
   "metadata": {
    "pycharm": {
     "name": "#%%\n"
    }
   },
   "outputs": [
    {
     "data": {
      "image/png": "[encoded data removed]",
      "text/plain": [
       "<Figure size 432x288 with 1 Axes>"
      ]
     },
     "metadata": {
      "needs_background": "light"
     },
     "output_type": "display_data"
    }
   ],
   "source": [
    "plt.scatter(x3[:, 0], y, c='red', marker='x', label='groundtruth')\n",
    "outputs = model(x3)\n",
    "plt.plot(x3[:, 0], outputs, c='blue', marker='o', label='prediction')\n",
    "plt.xlabel('x1')\n",
    "plt.ylabel('y=f(x1)')\n",
    "plt.legend()\n",
    "plt.show()"
   ]
  },
  {
   "cell_type": "markdown",
   "metadata": {
    "pycharm": {
     "name": "#%% md\n"
    }
   },
   "source": [
    "---"
   ]
  },
  {
   "cell_type": "code",
   "execution_count": 39,
   "metadata": {
    "pycharm": {
     "name": "#%%\n"
    }
   },
   "outputs": [
    {
     "data": {
      "image/png": "[encoded data removed]",
      "text/plain": [
       "<Figure size 432x288 with 1 Axes>"
      ]
     },
     "metadata": {
      "needs_background": "light"
     },
     "output_type": "display_data"
    },
    {
     "name": "stdout",
     "output_type": "stream",
     "text": [
      "Parameter containing:\n",
      "tensor([[-0.0132,  0.0506, -0.0140,  0.0342, -0.0148,  0.5395]])\n",
      "Minimum cost: 0.3019304573535919\n"
     ]
    }
   ],
   "source": [
    "cost_lst = list()\n",
    "model = LinearRegression(x3.shape[1])\n",
    "\n",
    "alpha = 0.03 # select an appropriate alpha\n",
    "lam = 5 # select an appropriate lambda\n",
    "for it in range(100):\n",
    "    prediction = model(x3)\n",
    "    cost = mean_squared_error(y, prediction, lam, model.weight)\n",
    "    cost_lst.append(cost)\n",
    "    gradient_descent_step(model, x3, y, prediction, alpha, lam)\n",
    "display.clear_output(wait=True)\n",
    "plt.plot(list(range(it+1)), cost_lst)\n",
    "plt.title(\"With alpha = 0.03 and lambda = 5\")\n",
    "plt.show()\n",
    "print(model.weight)\n",
    "print('Minimum cost: {}'.format(min(cost_lst)))"
   ]
  },
  {
   "cell_type": "code",
   "execution_count": 40,
   "metadata": {
    "pycharm": {
     "name": "#%%\n"
    }
   },
   "outputs": [
    {
     "data": {
      "image/png": "[encoded data removed]",
      "text/plain": [
       "<Figure size 432x288 with 1 Axes>"
      ]
     },
     "metadata": {
      "needs_background": "light"
     },
     "output_type": "display_data"
    }
   ],
   "source": [
    "plt.scatter(x3[:, 0], y, c='red', marker='x', label='groundtruth')\n",
    "outputs = model(x3)\n",
    "plt.plot(x3[:, 0], outputs, c='blue', marker='o', label='prediction')\n",
    "plt.xlabel('x1')\n",
    "plt.ylabel('y=f(x1)')\n",
    "plt.legend()\n",
    "plt.show()"
   ]
  },
  {
   "cell_type": "markdown",
   "metadata": {
    "pycharm": {
     "name": "#%% md\n"
    }
   },
   "source": [
    "---"
   ]
  }
 ],
 "metadata": {
  "colab": {
   "collapsed_sections": [],
   "provenance": [],
   "toc_visible": true
  },
  "kernelspec": {
   "display_name": "Python 3 (ipykernel)",
   "language": "python",
   "name": "python3"
  },
  "language_info": {
   "codemirror_mode": {
    "name": "ipython",
    "version": 3
   },
   "file_extension": ".py",
   "mimetype": "text/x-python",
   "name": "python",
   "nbconvert_exporter": "python",
   "pygments_lexer": "ipython3",
   "version": "3.9.12"
  },
  "toc-autonumbering": false,
  "toc-showcode": true,
  "toc-showmarkdowntxt": true
 },
 "nbformat": 4,
 "nbformat_minor": 4
}