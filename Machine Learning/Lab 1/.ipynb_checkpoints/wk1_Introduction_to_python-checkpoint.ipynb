{
 "cells": [
  {
   "cell_type": "markdown",
   "metadata": {
    "id": "LzD_FmnB-LI1",
    "pycharm": {
     "name": "#%% md\n"
    }
   },
   "source": [
    "# 0. Introduction\n",
    "This notebook is an introduction to python programming. The exercises in this tutorial are taken from this [github repository](https://github.com/milaan9/01_Python_Introduction) .\n",
    "\n",
    "For a more detailed python tutorial, refer to [python documentation](https://docs.python.org/3/tutorial/). \n",
    "\n",
    "\n",
    "## 0.1 Python\n",
    "\n",
    "Python is a general-purpose, mordern, dynamic, robust, high level and interpreted programming language. It is used in web development, data science, creating software prototypes, and so on. Fortunately for beginners, Python has simple easy-to-use syntax. This makes Python an excellent language to learn to program for beginners. The environment we are using is called \"notebook\" where we can use a mix of markdown cells (like this one) and code blocks that execute code using a python interpreter.\n",
    "\n",
    "## 0.2 Hello World!\n",
    "\n",
    " \"Hello, World!\" is a simple program that outputs Hello, World! on the screen. Since it's a very simple program, it's often used to introduce a new programming language to beginners.\n",
    "\n",
    "`print(\"Hello, World!\")`\n",
    "\n",
    "Congratulations! You just wrote your first program in Python.\n",
    "\n",
    "Breaking it down:\n",
    "\n",
    "\n",
    "1.   `print()` is a function that tells the computer to perform an action. We know it is a function because it uses parentheses. print() tells Python to display or output whatever we put in the parentheses. By default, this will output to the current terminal window.\n",
    "2.   Some functions, like the `print()` function, are built-in functions included in Python by default. These built-in functions are always available for us to use in programs that we create. We can also define our own functions that we construct ourselves through other elements.\n",
    "3. Inside the parentheses of the `print()` function is a sequence of characters — Hello, World! — that is enclosed in quotation marks ' or \". Any characters that are inside of quotation marks are called a string.\n",
    "\n"
   ]
  },
  {
   "cell_type": "code",
   "execution_count": 1,
   "metadata": {
    "id": "Cjd-GtnS-DJv",
    "pycharm": {
     "name": "#%%\n"
    }
   },
   "outputs": [
    {
     "name": "stdout",
     "output_type": "stream",
     "text": [
      "Hello World\n"
     ]
    }
   ],
   "source": [
    "print(\"Hello World\")"
   ]
  },
  {
   "cell_type": "markdown",
   "metadata": {
    "id": "aGGmlIQqB7wb",
    "pycharm": {
     "name": "#%% md\n"
    }
   },
   "source": [
    "# 1. Keywords and Identifiers\n",
    "\n",
    "Keywords are the reserved words in Python.\n",
    "\n",
    "We cannot use a keyword as a variable name, function name or any other identifier. They are used to define the syntax and structure of the Python language.\n",
    "\n",
    "In Python, keywords are case sensitive.\n",
    "\n",
    "There are 36 keywords in Python 3.9. This number can vary slightly over the course of time.\n",
    "\n",
    "All the keywords except True, False and None are in lowercase and they must be written as they are. The list of all the keywords is given below.\n",
    "\n",
    "Keywords in Python\n",
    "\n",
    "|                |          |          |        |\n",
    "|----------------|----------|----------|--------|\n",
    "| False          | break    | for      | not    |\n",
    "| None           | class    | from     | or     |\n",
    "| True           | continue | global   | pass   |\n",
    "| __peg_parser__ | def      | if       | raise  |\n",
    "| and            | del      | import   | return |\n",
    "| as             | elif     | in       | try    |\n",
    "| assert         | else     | is       | while  |\n",
    "| async          | except   | lambda   | with   |\n",
    "| await          | finally  | nonlocal | yield  |\n",
    "\n",
    "\n",
    "You can see this list any time by typing help keywords to the Python interpreter.\n",
    "\n",
    "Trying to create a variable with the same name as any reserved word results in an error:\n",
    "\n",
    "\n",
    "\n",
    "```python\n",
    ">>>for = 6\n",
    "\n",
    "File \"<ipython-input-1-50b154750974>\", line 1\n",
    "for = 6 # It will give error becasue \"for\" is keyword and we cannot use as a variable name.\n",
    "        ^\n",
    "SyntaxError: invalid syntax\n",
    "```\n",
    "\n"
   ]
  },
  {
   "cell_type": "code",
   "execution_count": 2,
   "metadata": {
    "id": "ZLbWhc4ZDDKc",
    "pycharm": {
     "name": "#%%\n"
    }
   },
   "outputs": [
    {
     "ename": "SyntaxError",
     "evalue": "invalid syntax (2939134965.py, line 1)",
     "output_type": "error",
     "traceback": [
      "\u001b[1;36m  Input \u001b[1;32mIn [2]\u001b[1;36m\u001b[0m\n\u001b[1;33m    for = 6 # It will give error becasue \"for\" is keyword and we cannot use as a variable name.\u001b[0m\n\u001b[1;37m        ^\u001b[0m\n\u001b[1;31mSyntaxError\u001b[0m\u001b[1;31m:\u001b[0m invalid syntax\n"
     ]
    }
   ],
   "source": [
    "for = 6 # It will give error becasue \"for\" is keyword and we cannot use as a variable name."
   ]
  },
  {
   "cell_type": "code",
   "execution_count": 3,
   "metadata": {
    "id": "FqP15S9BDERD",
    "pycharm": {
     "name": "#%%\n"
    }
   },
   "outputs": [
    {
     "ename": "SyntaxError",
     "evalue": "invalid syntax (869816750.py, line 1)",
     "output_type": "error",
     "traceback": [
      "\u001b[1;36m  Input \u001b[1;32mIn [3]\u001b[1;36m\u001b[0m\n\u001b[1;33m    except = \"Nope\"\u001b[0m\n\u001b[1;37m    ^\u001b[0m\n\u001b[1;31mSyntaxError\u001b[0m\u001b[1;31m:\u001b[0m invalid syntax\n"
     ]
    }
   ],
   "source": [
    "except = \"Nope\""
   ]
  },
  {
   "cell_type": "markdown",
   "metadata": {
    "id": "pc7HSNk6DNbA",
    "pycharm": {
     "name": "#%% md\n"
    }
   },
   "source": [
    "An identifier is a name given to entities like class, functions, variables, etc. It helps to differentiate one entity from another.\n",
    "Rules for writing identifiers\n",
    "\n",
    "Identifiers can be a combination of letters in lowercase (a to z) or uppercase (A to Z) or digits (0 to 9) or an underscore _. Names like `myClass`, `var_1` and `print_this_to_screen`, all are valid example.\n",
    "\n",
    "An identifier cannot start with a digit. `1variable` is invalid, but `variable1` is perfectly fine.\n",
    "\n",
    "Keywords cannot be used as identifiers\n",
    "\n",
    "We cannot use special symbols like **!, @, #, $, % ,** etc. in our identifier."
   ]
  },
  {
   "cell_type": "code",
   "execution_count": 4,
   "metadata": {
    "id": "8xLhbp-CDedI",
    "pycharm": {
     "name": "#%%\n"
    }
   },
   "outputs": [
    {
     "ename": "SyntaxError",
     "evalue": "invalid syntax (1790255783.py, line 1)",
     "output_type": "error",
     "traceback": [
      "\u001b[1;36m  Input \u001b[1;32mIn [4]\u001b[1;36m\u001b[0m\n\u001b[1;33m    m@ = 3\u001b[0m\n\u001b[1;37m       ^\u001b[0m\n\u001b[1;31mSyntaxError\u001b[0m\u001b[1;31m:\u001b[0m invalid syntax\n"
     ]
    }
   ],
   "source": [
    "m@ = 3"
   ]
  },
  {
   "cell_type": "code",
   "execution_count": 5,
   "metadata": {
    "id": "nQl0alzODhIY",
    "pycharm": {
     "name": "#%%\n"
    }
   },
   "outputs": [
    {
     "ename": "SyntaxError",
     "evalue": "invalid syntax (2919629199.py, line 1)",
     "output_type": "error",
     "traceback": [
      "\u001b[1;36m  Input \u001b[1;32mIn [5]\u001b[1;36m\u001b[0m\n\u001b[1;33m    $s = 20\u001b[0m\n\u001b[1;37m    ^\u001b[0m\n\u001b[1;31mSyntaxError\u001b[0m\u001b[1;31m:\u001b[0m invalid syntax\n"
     ]
    }
   ],
   "source": [
    "$s = 20"
   ]
  },
  {
   "cell_type": "markdown",
   "metadata": {
    "id": "v0vBINWvDp6I",
    "pycharm": {
     "name": "#%% md\n"
    }
   },
   "source": [
    "# 2. Python Statement, Indentation and Comments\n",
    "\n",
    "## 2.1 Statements\n",
    "Instructions that a Python interpreter can execute are called statements. \n",
    "For example, `a = 1` is an assignment statement. `if` statement, `for` statement, `while` statement, etc. are other kinds of statements which will be discussed later.\n",
    "\n",
    "\n",
    "**Multi-line statement**\n",
    "\n",
    "In Python, the end of a statement is marked by a newline character. But we can make a statement extend over multiple lines with the line continuation character `\\`."
   ]
  },
  {
   "cell_type": "code",
   "execution_count": 6,
   "metadata": {
    "id": "HFa_PWA8EAfO",
    "pycharm": {
     "name": "#%%\n"
    }
   },
   "outputs": [
    {
     "data": {
      "text/plain": [
       "3"
      ]
     },
     "execution_count": 6,
     "metadata": {},
     "output_type": "execute_result"
    }
   ],
   "source": [
    "1+2    # assignment line 1\n",
    "+3     # assignment line 2\n",
    "\n",
    "# Python is only calculating assignment line 1"
   ]
  },
  {
   "cell_type": "code",
   "execution_count": 7,
   "metadata": {
    "id": "_yZcG15KEDcF",
    "pycharm": {
     "name": "#%%\n"
    }
   },
   "outputs": [
    {
     "data": {
      "text/plain": [
       "6"
      ]
     },
     "execution_count": 7,
     "metadata": {},
     "output_type": "execute_result"
    }
   ],
   "source": [
    "1+2 \\\n",
    "+3"
   ]
  },
  {
   "cell_type": "markdown",
   "metadata": {
    "id": "1w_LqD6_Kl2C",
    "pycharm": {
     "name": "#%% md\n"
    }
   },
   "source": [
    "## 2.2 Identation\n",
    "\n",
    "No spaces or tab characters allowed at the start of a statement: Indentation plays a special role in Python. For now simply ensure that all statements start at the beginning of the line.\n",
    "\n",
    "Most of the programming languages like C, C++, and Java use braces `{ }` to define a block of code. Python, however, uses indentation.\n",
    "\n",
    "A comparison of C & Python will help you understand it better.\n",
    "\n",
    "![cpython](https://raw.githubusercontent.com/milaan9/01_Python_Introduction/7a6171f7f7fb8478f9f2b436c3f94c11ac2a446b/img/ind2.png)\n",
    "\n",
    "\n",
    "A code block (body of a function, loop, etc.) starts with indentation and ends with the first unindented line. The amount of indentation is up to you, but it must be consistent throughout that block.\n",
    "\n",
    "Generally, four whitespaces or a tab are used for indentation and are preferred over tabs. Here is an example.\n",
    "\n",
    "In the case of Python, indentation is not for styling purpose. It is rather a requirement for your code to get compiled and executed. Thus it is mandatory!!!\n"
   ]
  },
  {
   "cell_type": "code",
   "execution_count": 8,
   "metadata": {
    "id": "gKrSGR63LV56",
    "pycharm": {
     "name": "#%%\n"
    }
   },
   "outputs": [
    {
     "name": "stdout",
     "output_type": "stream",
     "text": [
      "1\n",
      "2\n",
      "3\n",
      "4\n",
      "5\n",
      "6\n"
     ]
    }
   ],
   "source": [
    "for i in range(1,11):\n",
    "    print(i)   #press \"Tab\" one time for 1 indentation\n",
    "    if i == 6:\n",
    "        break \n"
   ]
  },
  {
   "cell_type": "markdown",
   "metadata": {
    "id": "QMUR_9uELcj0",
    "pycharm": {
     "name": "#%% md\n"
    }
   },
   "source": [
    "## 2.3 Comments\n",
    "\n",
    "Comments are very important while writing a program. They describe what is going on inside a program, so that a person looking at the source code does not have a hard time figuring it out.\n",
    "\n",
    "You might forget the key details of the program you just wrote in a month's time. So taking the time to explain these concepts in the form of comments is always fruitful.\n",
    "\n",
    "In Python, we use the hash # symbol to start writing a comment."
   ]
  },
  {
   "cell_type": "code",
   "execution_count": 9,
   "metadata": {
    "id": "1M2YME6mL3tN",
    "pycharm": {
     "name": "#%%\n"
    }
   },
   "outputs": [],
   "source": [
    "# this is a comment, nothing happens when you run the block"
   ]
  },
  {
   "cell_type": "markdown",
   "metadata": {
    "id": "nKSlRd3QL7-r",
    "pycharm": {
     "name": "#%% md\n"
    }
   },
   "source": [
    "## 2.4 Help\n",
    "\n",
    "Python has extensive help built in. You can execute `help()` for an overview or help(x) for any library, object or type x. Try using `help(\"topics\")` to get a list of help pages built into the help system."
   ]
  },
  {
   "cell_type": "code",
   "execution_count": 10,
   "metadata": {
    "id": "yAISu3GjMGou",
    "pycharm": {
     "name": "#%%\n"
    }
   },
   "outputs": [
    {
     "name": "stdout",
     "output_type": "stream",
     "text": [
      "\n",
      "Here is a list of available topics.  Enter any topic name to get more help.\n",
      "\n",
      "ASSERTION           DELETION            LOOPING             SHIFTING\n",
      "ASSIGNMENT          DICTIONARIES        MAPPINGMETHODS      SLICINGS\n",
      "ATTRIBUTEMETHODS    DICTIONARYLITERALS  MAPPINGS            SPECIALATTRIBUTES\n",
      "ATTRIBUTES          DYNAMICFEATURES     METHODS             SPECIALIDENTIFIERS\n",
      "AUGMENTEDASSIGNMENT ELLIPSIS            MODULES             SPECIALMETHODS\n",
      "BASICMETHODS        EXCEPTIONS          NAMESPACES          STRINGMETHODS\n",
      "BINARY              EXECUTION           NONE                STRINGS\n",
      "BITWISE             EXPRESSIONS         NUMBERMETHODS       SUBSCRIPTS\n",
      "BOOLEAN             FLOAT               NUMBERS             TRACEBACKS\n",
      "CALLABLEMETHODS     FORMATTING          OBJECTS             TRUTHVALUE\n",
      "CALLS               FRAMEOBJECTS        OPERATORS           TUPLELITERALS\n",
      "CLASSES             FRAMES              PACKAGES            TUPLES\n",
      "CODEOBJECTS         FUNCTIONS           POWER               TYPEOBJECTS\n",
      "COMPARISON          IDENTIFIERS         PRECEDENCE          TYPES\n",
      "COMPLEX             IMPORTING           PRIVATENAMES        UNARY\n",
      "CONDITIONAL         INTEGER             RETURNING           UNICODE\n",
      "CONTEXTMANAGERS     LISTLITERALS        SCOPING             \n",
      "CONVERSIONS         LISTS               SEQUENCEMETHODS     \n",
      "DEBUGGING           LITERALS            SEQUENCES           \n",
      "\n"
     ]
    }
   ],
   "source": [
    "help(\"topics\")"
   ]
  },
  {
   "cell_type": "markdown",
   "metadata": {
    "id": "JqmhrbuaMHH6",
    "pycharm": {
     "name": "#%% md\n"
    }
   },
   "source": [
    "# 3. Variables and Constants\n",
    "\n",
    "## 3.1 Python Variables\n",
    "\n",
    "A variable is a named location used to store data in the memory. Variable also known as identifier and used to hold value. It is helpful to think of variables as a container that holds data that can be changed later in the program. Mnemonic variables are recommended to use in many programming languages. A mnemonic variable is a variable name that can be easily remembered and associated. A variable refers to a memory address in which data is stored. For example,\n",
    "\n",
    "```python\n",
    ">>>number = 90\n",
    "```\n",
    "Here, we have created a variable named `number`. We have assigned the value `90` to the variable.\n",
    "\n",
    "You can think of variables as a bag to store books in it and that book can be replaced at any time.\n",
    "\n",
    "```python\n",
    ">>>number = 90\n",
    ">>>number = 9.1\n",
    "```\n",
    "Initially, the value of `number` was `90`. Later, it was changed to `9.1`.\n",
    "\n",
    "**Note:** In Python, we don't actually assign values to the variables. Instead, Python gives the reference of the object(value) to the variable.\n",
    "\n",
    "In Python, we don't need to specify the type of variable because Python is a type infer language and smart enough to get variable type.\n",
    "\n",
    "Python Variable Name Rules\n",
    "\n",
    "1. A variable name must start with a letter A-z or the underscore _ character\n",
    "2. A variable name cannot start with a number 0-9\n",
    "3. A variable name can only contain alpha-numeric characters and underscores (A-z, 0-9, and _ )\n",
    "4. Variable names are case-sensitive (firstname, Firstname, FirstName and FIRSTNAME) are different variables). It is recomended to use lowercase letters for variable name.\n",
    "\n",
    "## 3.2 Constants\n",
    "\n",
    "A constant is a type of variable whose value cannot be changed. It is helpful to think of constants as containers that hold information which cannot be changed later.\n",
    "\n",
    "You can think of constants as a bag to store some books which cannot be replaced once placed inside the bag.\n",
    "Assigning value to constant in Python\n",
    "\n",
    "In Python, constants are usually declared and assigned in a module. Here, the module is a new file containing variables, functions, etc which is imported to the main file. Inside the module, constants are written in all capital letters and underscores separating the words.\n",
    "Example 1: Declaring and assigning value to a constant\n",
    "\n",
    "Create a constant.py:\n",
    "\n",
    "```python\n",
    ">>>PI = 3.14\n",
    ">>>GRAVITY = 9.8\n",
    "```\n",
    "Create a main.py:\n",
    "```python\n",
    ">>>import constant\n",
    ">>>print(constant.PI)\n",
    ">>>print(constant.GRAVITY)\n",
    "```\n",
    "```\n",
    "3.14\n",
    "9.8\n",
    "```\n",
    "In the above program, we create a constant.py module file. Then, we assign the constant value to PI and GRAVITY. After that, we create a main.py file and import the constant module. Finally, we print the constant value.\n",
    "\n",
    "**Note:** In reality, we don't use constants in Python. Naming them in all capital letters is a convention to separate them from variables, however, it does not actually prevent reassignment.\n"
   ]
  },
  {
   "cell_type": "markdown",
   "metadata": {
    "id": "UEj662cwNWRy",
    "pycharm": {
     "name": "#%% md\n"
    }
   },
   "source": [
    "## 3.3 Exercises\n",
    "\n",
    "Exercises ➞ Level 1\n",
    "\n",
    "1. Write a python comment saying Python variables and Constants\n",
    "2. Declare a first_name variable and assign a value to it\n",
    "3. Declare a last_name variable and assign a value to it\n",
    "4. Declare a full_name variable and assign a value to it\n",
    "5. Declare a variable is_light_on and assign a value to it\n",
    "6. Declare multiple variable on one line\n",
    "\n",
    "\n",
    "Exercises ➞ Level 2\n",
    "\n",
    "1. Check the data type of all your variables using type() built-in function\n",
    "2. Using the len() built-in function, find the length of your first name\n",
    "3. Compare the length of your first_name and your last_name\n",
    "\n",
    "4. Declare 6 as num_1 and 4 as num_2\n",
    "  \n",
    "  A. Add num_1 and num_2 and assign the value to a variable total\n",
    "\n",
    "  B. Subtract num_2 from num_1 and assign the value to a variable difference\n",
    "\n",
    "  C. Multiply num_2 and num_1 and assign the value to a variable product\n",
    "\n",
    "  E. Divide num_1 by num_2 and assign the value to a variable division\n",
    "\n",
    "  F. Use modulus division to find num_2 divided by num_1 and assign the value to a variable remainder\n",
    "\n",
    "  G. Calculate num_1 to the power of num_2 and assign the value to a variable exp\n",
    "\n",
    "  H. Find floor division of num_1 by num_2 and assign the value to a variable floor_division\n",
    "\n",
    "\n",
    "5. The radius of a circle is 30 meters.\n",
    "  \n",
    "  A. Calculate the area of a circle and assign the value to a variable name of area_of_circle by taking user input()\n",
    "        \n",
    "  B. Calculate the circumference of a circle and assign the value to a variable name of circum_of_circle by taking user input()\n",
    "        \n",
    "  C. Take radius as user input() and calculate the area.\n",
    "\n",
    "6. Use the built-in input() function to get first name, last name, country and age from a user and store the value to their corresponding variable names\n",
    "7. Run help (keywords) in Python shell or in your file to check for the Python reserved words or keywords\n"
   ]
  },
  {
   "cell_type": "code",
   "execution_count": 12,
   "metadata": {
    "id": "hObjHOugOEWZ",
    "pycharm": {
     "name": "#%%\n"
    }
   },
   "outputs": [],
   "source": [
    "## Level 1\n",
    "# Write a python comment saying Python variables and Constants\n",
    "# Declare a first_name variable and assign a value to it\n",
    "# Declare a last_name variable and assign a value to it\n",
    "# Declare a full_name variable and assign a value to it\n",
    "# Declare a variable is_light_on and assign a value to it\n",
    "# Declare multiple variable on one line\n",
    "\n",
    "# Python Variable and Constants\n",
    "first_name = \"Gargeya\"\n",
    "last_name = \"Sharma\"\n",
    "full_name = first_name + last_name\n",
    "is_light_on = True\n",
    "x, y  = 2, 10.1\n"
   ]
  },
  {
   "cell_type": "code",
   "execution_count": 16,
   "metadata": {},
   "outputs": [
    {
     "name": "stdout",
     "output_type": "stream",
     "text": [
      "<class 'str'>\n",
      "<class 'str'>\n",
      "<class 'str'>\n",
      "<class 'bool'>\n",
      "<class 'int'>\n",
      "<class 'float'>\n",
      "---Next Question---\n",
      "7\n",
      "---Next Question---\n",
      "True\n",
      "Radius of the Circle: 30\n",
      "Radius of the Circle Again!: 25\n",
      "Radius of the circle: 20\n",
      "What is your first name?\n",
      "Gargeya\n",
      "What is your last name?\n",
      "Sharma\n",
      "which country are you from?\n",
      "India\n",
      "What is your age?\n",
      "22\n",
      "\n",
      "Here is a list of the Python keywords.  Enter any keyword to get more help.\n",
      "\n",
      "False               break               for                 not\n",
      "None                class               from                or\n",
      "True                continue            global              pass\n",
      "__peg_parser__      def                 if                  raise\n",
      "and                 del                 import              return\n",
      "as                  elif                in                  try\n",
      "assert              else                is                  while\n",
      "async               except              lambda              with\n",
      "await               finally             nonlocal            yield\n",
      "\n"
     ]
    }
   ],
   "source": [
    "# Check the data type of all your variables using type() built-in function\n",
    "print(type(first_name))\n",
    "print(type(last_name))\n",
    "print(type(full_name))\n",
    "print(type(is_light_on))\n",
    "print(type(x))\n",
    "print(type(y))\n",
    "\n",
    "\n",
    "# Using the len() built-in function, find the length of your first name\n",
    "print(\"---Next Question---\")\n",
    "print(len(first_name))\n",
    "\n",
    "# Compare the length of your first_name and your last_name\n",
    "print(\"---Next Question---\")\n",
    "print(len(first_name) > len(last_name))\n",
    "\n",
    "# Declare 6 as num_1 and 4 as num_2\n",
    "num_1, num_2 = 6, 4\n",
    "\n",
    "# A. Add num_1 and num_2 and assign the value to a variable total\n",
    "total = num_1 + num_2\n",
    "\n",
    "# B. Subtract num_2 from num_1 and assign the value to a variable difference\n",
    "difference = num_2 - num_1\n",
    "\n",
    "# C. Multiply num_2 and num_1 and assign the value to a variable product\n",
    "product = num_1 * num_2\n",
    "\n",
    "# E. Divide num_1 by num_2 and assign the value to a variable division\n",
    "division = num_1/num_1\n",
    "\n",
    "# F. Use modulus division to find num_2 divided by num_1 and assign the value to a variable remainder\n",
    "reminder = num_2%num_1\n",
    "\n",
    "# G. Calculate num_1 to the power of num_2 and assign the value to a variable exp\n",
    "exp = num_1**num_2\n",
    "\n",
    "# H. Find floor division of num_1 by num_2 and assign the value to a variable floor_division\n",
    "floor_division = num_1//num_2\n",
    "\n",
    "# The radius of a circle is 30 meters.\n",
    "\n",
    "# A. Calculate the area of a circle and assign the value to a variable name of area_of_circle by taking user input()\n",
    "PI = 3.14\n",
    "radius = float(input(\"Radius of the Circle: \"))\n",
    "area_of_circle = PI*(radius**2)\n",
    "\n",
    "# B. Calculate the circumference of a circle and assign the value to a variable name of circum_of_circle by taking user input()\n",
    "radius = float(input(\"Radius of the Circle Again!: \"))\n",
    "circumference_of_circle = 2*PI*radius\n",
    "\n",
    "# C. Take radius as user input() and calculate the area.\n",
    "area = (float(input(\"Radius of the circle: \"))**2)*PI\n",
    "\n",
    "# Use the built-in input() function to get first name, last name, country and age from a user and store the value to their corresponding variable names\n",
    "first_name = input(\"What is your first name?\\n\")\n",
    "last_name = input(\"What is your last name?\\n\")\n",
    "country = input(\"which country are you from?\\n\")\n",
    "age = input(\"What is your age?\\n\")\n",
    "# Run help (keywords) in Python shell or in your file to check for the Python reserved words or keywords\n",
    "help('keywords')"
   ]
  },
  {
   "cell_type": "markdown",
   "metadata": {
    "id": "lIzwFC9YOIPC",
    "pycharm": {
     "name": "#%% md\n"
    }
   },
   "source": [
    "# 4. Data Types\n",
    "Every value in Python has a datatype. Since everything is an object in Python programming, data types are actually classes and variables are instance (object) of these classes.\n",
    "\n",
    "There are various data types in Python. Some of the important types are listed below.\n",
    "\n",
    "## 4.1 Numbers\n",
    "\n",
    "Integers, floating point numbers and complex numbers fall under Python numbers category. They are defined as int, float and complex classes in Python.\n",
    "\n",
    "We can use the type() function to know which class a variable or a value belongs to.\n",
    "\n",
    "Similarly, the isinstance() function is used to check if an object belongs to a particular class."
   ]
  },
  {
   "cell_type": "code",
   "execution_count": 17,
   "metadata": {
    "id": "GzqWFpevPwqE",
    "pycharm": {
     "name": "#%%\n"
    }
   },
   "outputs": [
    {
     "name": "stdout",
     "output_type": "stream",
     "text": [
      "6 is of type <class 'int'>\n",
      "6 is integer number? True\n",
      "3.0 is of type <class 'float'>\n",
      "3.0 is float number? True\n",
      "(1+2j) is of type <class 'complex'>\n",
      "(1+2j) is complex number? True\n"
     ]
    }
   ],
   "source": [
    "a = 6\n",
    "print(a, \"is of type\", type(a))\n",
    "print(a, \"is integer number?\", isinstance(5,int))\n",
    "\n",
    "a = 3.0\n",
    "print(a, \"is of type\", type(a))\n",
    "print(a, \"is float number?\", isinstance(2.0,float))\n",
    "\n",
    "a = 1+2j  # '1' is real part and '2j' is imaginary part\n",
    "print(a, \"is of type\", type(a))\n",
    "print(a, \"is complex number?\", isinstance(1+2j,complex))"
   ]
  },
  {
   "cell_type": "markdown",
   "metadata": {
    "id": "BCizrggdPx5X",
    "pycharm": {
     "name": "#%% md\n"
    }
   },
   "source": [
    "## 4.2 Lists\n",
    "List is an ordered sequence of items. It is one of the most used datatype in Python and is very flexible. All the items in a list do not need to be of the same type.\n",
    "\n",
    "Declaring a list is pretty straight forward. Items separated by commas are enclosed within brackets `[ ]`.\n",
    "\n",
    "```python\n",
    ">>>a = [1, 3.3, 'python']\n",
    "```\n",
    "\n",
    "We can use the slicing operator `[ ]` to extract an item or a range of items from a list. The index starts from 0 in Python."
   ]
  },
  {
   "cell_type": "code",
   "execution_count": 18,
   "metadata": {
    "id": "JIAdJmkYP_sK",
    "pycharm": {
     "name": "#%%\n"
    }
   },
   "outputs": [
    {
     "name": "stdout",
     "output_type": "stream",
     "text": [
      "[6, 99, 77, 'Apple'] is of type <class 'list'>\n"
     ]
    }
   ],
   "source": [
    "x = [6, 99, 77, 'Apple']\n",
    "print(x, \"is of type\", type(x))"
   ]
  },
  {
   "cell_type": "code",
   "execution_count": 19,
   "metadata": {
    "id": "vP6Iev1AQFfi",
    "pycharm": {
     "name": "#%%\n"
    }
   },
   "outputs": [
    {
     "name": "stdout",
     "output_type": "stream",
     "text": [
      "a[2] =  15\n",
      "a[0:3] =  [5, 10, 15]\n",
      "a[5:] =  [30, 35, 40]\n"
     ]
    }
   ],
   "source": [
    "a = [5, 10, 15, 20, 25, 30, 35, 40]  # Total elemnets is 8\n",
    "#   [0   1   2   3   4   5   6   7]  ⬅ Index forward\n",
    "#   [-8 -7  -6  -5  -4  -3  -2  -1]  ➡ Index backward\n",
    "\n",
    "# index '0' is element '1' = 5,\n",
    "# index '1' is element '2' = 10,\n",
    "# index '2' is element '3' = 15,\n",
    "# .\n",
    "# .\n",
    "# .\n",
    "# index '7' is element '8' = 40,\n",
    "\n",
    "a[1] # To access the elements in the list\n",
    "    \n",
    "# a[2] = 15\n",
    "print(\"a[2] = \", a[2])\n",
    "\n",
    "# a[0:3] = [5, 10, 15]\n",
    "print(\"a[0:3] = \", a[0:3])  # [0:3] means elements from 0 uptil 2 index (not include last element)\n",
    "                            # [0:3] means from index 0 to 3 - 1 \n",
    "                            # [0:3] means from index 0 to 2\n",
    "    \n",
    "# a[5:] = [30, 35, 40]  # [5:] means all the elements from 5 till end\n",
    "print(\"a[5:] = \", a[5:])"
   ]
  },
  {
   "cell_type": "markdown",
   "metadata": {
    "id": "9vSxjMYmQJRB",
    "pycharm": {
     "name": "#%% md\n"
    }
   },
   "source": [
    "# 4.3 Tuple\n",
    "Tuple is an ordered sequence of items same as a list. The only difference is that tuples are immutable. Tuples once created cannot be modified.\n",
    "\n",
    "Tuples are used to write-protect data and are usually faster than lists as they cannot change dynamically.\n",
    "\n",
    "It is defined within parentheses () where items are separated by commas.\n",
    "\n",
    "```python\n",
    ">>>t = (6,'program', 1+3j)\n",
    "```\n",
    "\n",
    "We can use the slicing operator `[]` to extract items but we cannot change its value."
   ]
  },
  {
   "cell_type": "code",
   "execution_count": 20,
   "metadata": {
    "id": "ZC-evegJQSLS",
    "pycharm": {
     "name": "#%%\n"
    }
   },
   "outputs": [
    {
     "name": "stdout",
     "output_type": "stream",
     "text": [
      "t[1] =  program\n",
      "t[0:3] =  (6, 'program', (1+3j))\n"
     ]
    },
    {
     "ename": "TypeError",
     "evalue": "'tuple' object does not support item assignment",
     "output_type": "error",
     "traceback": [
      "\u001b[1;31m---------------------------------------------------------------------------\u001b[0m",
      "\u001b[1;31mTypeError\u001b[0m                                 Traceback (most recent call last)",
      "Input \u001b[1;32mIn [20]\u001b[0m, in \u001b[0;36m<cell line: 17>\u001b[1;34m()\u001b[0m\n\u001b[0;32m     13\u001b[0m \u001b[38;5;28mprint\u001b[39m(\u001b[38;5;124m\"\u001b[39m\u001b[38;5;124mt[0:3] = \u001b[39m\u001b[38;5;124m\"\u001b[39m, t[\u001b[38;5;241m0\u001b[39m:\u001b[38;5;241m3\u001b[39m])\n\u001b[0;32m     15\u001b[0m \u001b[38;5;66;03m# Generates error\u001b[39;00m\n\u001b[0;32m     16\u001b[0m \u001b[38;5;66;03m# Tuples are immutable\u001b[39;00m\n\u001b[1;32m---> 17\u001b[0m t[\u001b[38;5;241m0\u001b[39m] \u001b[38;5;241m=\u001b[39m \u001b[38;5;241m10\u001b[39m\n",
      "\u001b[1;31mTypeError\u001b[0m: 'tuple' object does not support item assignment"
     ]
    }
   ],
   "source": [
    "# Tuple 't' have 3 elements\n",
    "t = (6,'program', 1+3j) \n",
    "#   (0        1      2) ➡ Index forward\n",
    "\n",
    "# index '0' is element '1'= 6 \n",
    "# index '1' is element '2'= program\n",
    "# index '2' is elemtnt '3'= 1+3j\n",
    "\n",
    "# t[1] = 'program'\n",
    "print(\"t[1] = \", t[1])\n",
    "\n",
    "# t[0:3] = (6, 'program', (1+3j))\n",
    "print(\"t[0:3] = \", t[0:3])\n",
    "\n",
    "# Generates error\n",
    "# Tuples are immutable\n",
    "t[0] = 10  # trying to change element 0 from '6' to '10'"
   ]
  },
  {
   "cell_type": "markdown",
   "metadata": {
    "id": "HMPBx628RUQ5",
    "pycharm": {
     "name": "#%% md\n"
    }
   },
   "source": [
    "## 4.4 Strings\n",
    "\n",
    "String is sequence of Unicode characters. We can use single quotes or double quotes to represent strings. Multi-line strings can be denoted using triple quotes, `'''` or `\"\"\"`."
   ]
  },
  {
   "cell_type": "code",
   "execution_count": 21,
   "metadata": {
    "id": "kq6CkxvqRrUf",
    "pycharm": {
     "name": "#%%\n"
    }
   },
   "outputs": [
    {
     "name": "stdout",
     "output_type": "stream",
     "text": [
      "Apple\n",
      "Apple\n",
      "Apple\n",
      "Apple\n"
     ]
    },
    {
     "ename": "NameError",
     "evalue": "name 'Apple' is not defined",
     "output_type": "error",
     "traceback": [
      "\u001b[1;31m---------------------------------------------------------------------------\u001b[0m",
      "\u001b[1;31mNameError\u001b[0m                                 Traceback (most recent call last)",
      "Input \u001b[1;32mIn [21]\u001b[0m, in \u001b[0;36m<cell line: 9>\u001b[1;34m()\u001b[0m\n\u001b[0;32m      7\u001b[0m s \u001b[38;5;241m=\u001b[39m \u001b[38;5;124m\"\u001b[39m\u001b[38;5;124mApple\u001b[39m\u001b[38;5;124m\"\u001b[39m\n\u001b[0;32m      8\u001b[0m \u001b[38;5;28mprint\u001b[39m(s)\n\u001b[1;32m----> 9\u001b[0m s \u001b[38;5;241m=\u001b[39m \u001b[43mApple\u001b[49m   \u001b[38;5;66;03m# cannot write string with out quotes ('', \" \", \"\"\" \"\"\", ''' ''')\u001b[39;00m\n\u001b[0;32m     10\u001b[0m \u001b[38;5;28mprint\u001b[39m(s)\n",
      "\u001b[1;31mNameError\u001b[0m: name 'Apple' is not defined"
     ]
    }
   ],
   "source": [
    "s = '''Apple'''\n",
    "print(s)\n",
    "s = \"\"\"Apple\"\"\"\n",
    "print(s)\n",
    "s = 'Apple'\n",
    "print(s)\n",
    "s = \"Apple\"\n",
    "print(s)\n",
    "s = Apple   # cannot write string with out quotes ('', \" \", \"\"\" \"\"\", ''' ''')\n",
    "print(s)"
   ]
  },
  {
   "cell_type": "code",
   "execution_count": 22,
   "metadata": {
    "id": "RCSwBl4FRwKc",
    "pycharm": {
     "name": "#%%\n"
    }
   },
   "outputs": [
    {
     "name": "stdout",
     "output_type": "stream",
     "text": [
      "This is a string\n",
      "A multiline\n",
      "string\n"
     ]
    }
   ],
   "source": [
    "s = \"This is a string\"  # s is my variable\n",
    "print(s)\n",
    "s = '''A multiline\n",
    "string'''\n",
    "print(s)"
   ]
  },
  {
   "cell_type": "markdown",
   "metadata": {
    "id": "c2ZwFIhMR4N0",
    "pycharm": {
     "name": "#%% md\n"
    }
   },
   "source": [
    "Just like a list and tuple, the slicing operator `[ ]` can be used with strings. Strings, however, are **immutable**"
   ]
  },
  {
   "cell_type": "code",
   "execution_count": 23,
   "metadata": {
    "id": "be0_ZbrvR3qZ",
    "pycharm": {
     "name": "#%%\n"
    }
   },
   "outputs": [
    {
     "name": "stdout",
     "output_type": "stream",
     "text": [
      "s[4] =  o\n",
      "s[6:11] =  world\n"
     ]
    },
    {
     "ename": "TypeError",
     "evalue": "'str' object does not support item assignment",
     "output_type": "error",
     "traceback": [
      "\u001b[1;31m---------------------------------------------------------------------------\u001b[0m",
      "\u001b[1;31mTypeError\u001b[0m                                 Traceback (most recent call last)",
      "Input \u001b[1;32mIn [23]\u001b[0m, in \u001b[0;36m<cell line: 13>\u001b[1;34m()\u001b[0m\n\u001b[0;32m      7\u001b[0m \u001b[38;5;28mprint\u001b[39m(\u001b[38;5;124m\"\u001b[39m\u001b[38;5;124ms[6:11] = \u001b[39m\u001b[38;5;124m\"\u001b[39m, s[\u001b[38;5;241m6\u001b[39m:\u001b[38;5;241m11\u001b[39m])\n\u001b[0;32m     11\u001b[0m a \u001b[38;5;241m=\u001b[39m \u001b[38;5;124m\"\u001b[39m\u001b[38;5;124mapple\u001b[39m\u001b[38;5;124m\"\u001b[39m\n\u001b[1;32m---> 13\u001b[0m a[\u001b[38;5;241m0\u001b[39m]\u001b[38;5;241m=\u001b[39m\u001b[38;5;124m'\u001b[39m\u001b[38;5;124mo\u001b[39m\u001b[38;5;124m'\u001b[39m\n",
      "\u001b[1;31mTypeError\u001b[0m: 'str' object does not support item assignment"
     ]
    }
   ],
   "source": [
    "s = 'Hello world!' # total 12 elements. Index start from '0' to '11'\n",
    "\n",
    "# s[4] = 'o'\n",
    "print(\"s[4] = \", s[4])\n",
    "\n",
    "# s[6:11] = 'world' # index '6' to '11' means element from 6 to 10\n",
    "print(\"s[6:11] = \", s[6:11])\n",
    "\n",
    "\n",
    "\n",
    "a = \"apple\"\n",
    "\n",
    "a[0]='o'\n",
    "\n",
    "# Simiar to TUPLE, STRING is immutable"
   ]
  },
  {
   "cell_type": "markdown",
   "metadata": {
    "id": "zabb6vxbSE_4",
    "pycharm": {
     "name": "#%% md\n"
    }
   },
   "source": [
    "## 4.5 Set\n",
    "\n",
    "Set is an unordered collection of unique items. Set is defined by values separated by comma inside braces `{ }`. Items in a set are not ordered."
   ]
  },
  {
   "cell_type": "code",
   "execution_count": 24,
   "metadata": {
    "id": "KTCFzf4cSL-N",
    "pycharm": {
     "name": "#%%\n"
    }
   },
   "outputs": [
    {
     "name": "stdout",
     "output_type": "stream",
     "text": [
      "a =  {1, 3, 6, 7, 9}\n",
      "<class 'set'>\n"
     ]
    }
   ],
   "source": [
    "a = {7,1,3,6,9}\n",
    "\n",
    "# printing set variable\n",
    "print(\"a = \", a)\n",
    "\n",
    "# data type of variable a\n",
    "print(type(a))"
   ]
  },
  {
   "cell_type": "markdown",
   "metadata": {
    "id": "YSD7LAKtSO_y",
    "pycharm": {
     "name": "#%% md\n"
    }
   },
   "source": [
    "Since, set are unordered collection, indexing has no meaning. Hence, the slicing operator `[]` does not work."
   ]
  },
  {
   "cell_type": "code",
   "execution_count": 25,
   "metadata": {
    "id": "GHQehWPTSR3H",
    "pycharm": {
     "name": "#%%\n"
    }
   },
   "outputs": [
    {
     "ename": "TypeError",
     "evalue": "'set' object is not subscriptable",
     "output_type": "error",
     "traceback": [
      "\u001b[1;31m---------------------------------------------------------------------------\u001b[0m",
      "\u001b[1;31mTypeError\u001b[0m                                 Traceback (most recent call last)",
      "Input \u001b[1;32mIn [25]\u001b[0m, in \u001b[0;36m<cell line: 2>\u001b[1;34m()\u001b[0m\n\u001b[0;32m      1\u001b[0m a \u001b[38;5;241m=\u001b[39m {\u001b[38;5;241m1\u001b[39m,\u001b[38;5;241m2\u001b[39m,\u001b[38;5;241m3\u001b[39m}  \u001b[38;5;66;03m# in Set data type we cannot access the elements because set is unordered collection\u001b[39;00m\n\u001b[1;32m----> 2\u001b[0m \u001b[43ma\u001b[49m\u001b[43m[\u001b[49m\u001b[38;5;241;43m1\u001b[39;49m\u001b[43m]\u001b[49m\n",
      "\u001b[1;31mTypeError\u001b[0m: 'set' object is not subscriptable"
     ]
    }
   ],
   "source": [
    "a = {1,2,3}  # in Set data type we cannot access the elements because set is unordered collection\n",
    "a[1]  # Index [1] means element 2"
   ]
  },
  {
   "cell_type": "markdown",
   "metadata": {
    "id": "ykIbXl7EST0A",
    "pycharm": {
     "name": "#%% md\n"
    }
   },
   "source": [
    "## 4.6 Dictionary\n",
    "\n",
    "Dictionary is an unordered collection of key-value pairs.\n",
    "\n",
    "It is generally used when we have a huge amount of data. Dictionaries are optimized for retrieving data. We must know the key to retrieve the value.\n",
    "\n",
    "In Python, dictionaries are defined within braces `{}` with each item being a pair in the form `key:value`. Key and value can be of any type."
   ]
  },
  {
   "cell_type": "code",
   "execution_count": 26,
   "metadata": {
    "id": "ZGdDKUHdScaD",
    "pycharm": {
     "name": "#%%\n"
    }
   },
   "outputs": [
    {
     "name": "stdout",
     "output_type": "stream",
     "text": [
      "{1: 'Apple', 2: 'Cat', 3: 'Food'} <class 'dict'>\n"
     ]
    },
    {
     "data": {
      "text/plain": [
       "'Food'"
      ]
     },
     "execution_count": 26,
     "metadata": {},
     "output_type": "execute_result"
    }
   ],
   "source": [
    "d = {1: 'Apple', 2: 'Cat', 3: 'Food'}  # 'Apple' is element and 1 is the key of element.\n",
    "print(d, type(d))\n",
    "\n",
    "d[3]"
   ]
  },
  {
   "cell_type": "code",
   "execution_count": 27,
   "metadata": {
    "id": "ECWbPt_nShYS",
    "pycharm": {
     "name": "#%%\n"
    }
   },
   "outputs": [
    {
     "name": "stdout",
     "output_type": "stream",
     "text": [
      "<class 'dict'>\n",
      "d[1] =  value\n",
      "d['key'] =  2\n"
     ]
    }
   ],
   "source": [
    "d = {1:'value','key':2} # '1' is the key to access 'value' and 'key' is the key to access '2'\n",
    "print(type(d))\n",
    "\n",
    "print(\"d[1] = \", d[1]); # try to find the element from key.\n",
    "\n",
    "print(\"d['key'] = \", d['key']);"
   ]
  },
  {
   "cell_type": "markdown",
   "metadata": {
    "id": "bpkRPRiZSmoR",
    "pycharm": {
     "name": "#%% md\n"
    }
   },
   "source": [
    "# 5. Input, Output and Import\n",
    "\n",
    "## 5.1 Output using `print()`\n",
    "Sometimes we would like to format our output to make it look attractive. This can be done by using the `str.format()` method. This method is visible to any string object."
   ]
  },
  {
   "cell_type": "code",
   "execution_count": 28,
   "metadata": {
    "id": "jtxBHK4TTrW6",
    "pycharm": {
     "name": "#%%\n"
    }
   },
   "outputs": [
    {
     "name": "stdout",
     "output_type": "stream",
     "text": [
      "The value of x is 6 and y is 12\n"
     ]
    }
   ],
   "source": [
    "x = 6; y = 12\n",
    "print('The value of x is {} and y is {}'.format(x,y))"
   ]
  },
  {
   "cell_type": "code",
   "execution_count": 29,
   "metadata": {
    "id": "mgQ7XVzuTvW-",
    "pycharm": {
     "name": "#%%\n"
    }
   },
   "outputs": [
    {
     "name": "stdout",
     "output_type": "stream",
     "text": [
      "I love Mango and Banana\n",
      "I love Banana and Mango\n"
     ]
    }
   ],
   "source": [
    "print('I love {0} and {1}'.format('Mango','Banana'))\n",
    "print('I love {1} and {0}'.format('Mango','Banana'))"
   ]
  },
  {
   "cell_type": "markdown",
   "metadata": {
    "id": "O17oklBNTxfU",
    "pycharm": {
     "name": "#%% md\n"
    }
   },
   "source": [
    "## 5.2 Input method\n",
    "\n",
    "Up until now, our programs were static. The value of variables was defined or hard coded into the source code.\n",
    "\n",
    "To allow flexibility, we might want to take the input from the user. In Python, we have a built-in function `input()` to accept user input.\n",
    "\n",
    "Syntax:\n",
    "```python\n",
    "input([prompt])\n",
    "```\n",
    "where `prompt` is the string we wish to display on the screen. It is optional."
   ]
  },
  {
   "cell_type": "code",
   "execution_count": 32,
   "metadata": {
    "id": "-Xjnj6cBT5mP",
    "pycharm": {
     "name": "#%%\n"
    }
   },
   "outputs": [
    {
     "name": "stdout",
     "output_type": "stream",
     "text": [
      "Enter a number: 20\n"
     ]
    },
    {
     "data": {
      "text/plain": [
       "'20'"
      ]
     },
     "execution_count": 32,
     "metadata": {},
     "output_type": "execute_result"
    }
   ],
   "source": [
    "num = input('Enter a number: ')\n",
    "num"
   ]
  },
  {
   "cell_type": "markdown",
   "metadata": {
    "id": "XAGQsZZPUCE3",
    "pycharm": {
     "name": "#%% md\n"
    }
   },
   "source": [
    "Here, we can see that the entered value is a string, not a number. To convert this into a number we can use `int()` or `float()` functions."
   ]
  },
  {
   "cell_type": "code",
   "execution_count": 33,
   "metadata": {
    "id": "BcxbYIbrUFSY",
    "pycharm": {
     "name": "#%%\n"
    }
   },
   "outputs": [
    {
     "data": {
      "text/plain": [
       "20"
      ]
     },
     "execution_count": 33,
     "metadata": {},
     "output_type": "execute_result"
    }
   ],
   "source": [
    "int(num)"
   ]
  },
  {
   "cell_type": "code",
   "execution_count": 34,
   "metadata": {
    "id": "9r1pXic6Uh0X",
    "pycharm": {
     "name": "#%%\n"
    }
   },
   "outputs": [
    {
     "data": {
      "text/plain": [
       "20.0"
      ]
     },
     "execution_count": 34,
     "metadata": {},
     "output_type": "execute_result"
    }
   ],
   "source": [
    "float(num)"
   ]
  },
  {
   "cell_type": "code",
   "execution_count": 40,
   "metadata": {
    "id": "C-rpGW_0Uqpr",
    "pycharm": {
     "name": "#%%\n"
    }
   },
   "outputs": [
    {
     "name": "stdout",
     "output_type": "stream",
     "text": [
      "Put three numbers: \n",
      "10 20 5\n",
      "150\n"
     ]
    }
   ],
   "source": [
    "# Write code to get three numbers and add first 2 number and multiply with third number\n",
    "three = input(\"Put three numbers: \\n\")\n",
    "three = three.split(\" \")\n",
    "three = list(map(int, three))\n",
    "result = (three[0]+ three[1]) * three[2]\n",
    "print(result)"
   ]
  },
  {
   "cell_type": "markdown",
   "metadata": {
    "id": "RALetGzDUvlj",
    "pycharm": {
     "name": "#%% md\n"
    }
   },
   "source": [
    "## 5.3 Import\n",
    "When our program grows bigger, it is a good idea to break it into different modules.\n",
    "\n",
    "A module is a file containing Python definitions and statements. Python modules have a filename and end with the extension `.py`.\n",
    "\n",
    "Definitions inside a module can be imported to another module or the interactive interpreter in Python. We use the `import` keyword to do this.\n",
    "\n",
    "For example, we can import the math module by typing the following line:\n",
    "\n",
    "```python\n",
    ">import math\n",
    "```\n",
    "We can use the module in the following ways:\n"
   ]
  },
  {
   "cell_type": "code",
   "execution_count": 41,
   "metadata": {
    "id": "3f_BAoFzU8hu",
    "pycharm": {
     "name": "#%%\n"
    }
   },
   "outputs": [
    {
     "name": "stdout",
     "output_type": "stream",
     "text": [
      "3.141592653589793\n"
     ]
    }
   ],
   "source": [
    "import math\n",
    "print(math.pi) # do not have to make vairable for pi"
   ]
  },
  {
   "cell_type": "code",
   "execution_count": 42,
   "metadata": {
    "id": "cmufZrQcVBRk",
    "pycharm": {
     "name": "#%%\n"
    }
   },
   "outputs": [
    {
     "data": {
      "text/plain": [
       "['W:\\\\QMUL\\\\ML Lab\\\\Lab 1',\n",
       " 'W:\\\\QMUL\\\\ML Lab\\\\Lab 1',\n",
       " 'C:\\\\Users\\\\Gargeya\\\\anaconda3\\\\envs\\\\MLLab\\\\python39.zip',\n",
       " 'C:\\\\Users\\\\Gargeya\\\\anaconda3\\\\envs\\\\MLLab\\\\DLLs',\n",
       " 'C:\\\\Users\\\\Gargeya\\\\anaconda3\\\\envs\\\\MLLab\\\\lib',\n",
       " 'C:\\\\Users\\\\Gargeya\\\\anaconda3\\\\envs\\\\MLLab',\n",
       " '',\n",
       " 'C:\\\\Users\\\\Gargeya\\\\anaconda3\\\\envs\\\\MLLab\\\\lib\\\\site-packages',\n",
       " 'C:\\\\Users\\\\Gargeya\\\\anaconda3\\\\envs\\\\MLLab\\\\lib\\\\site-packages\\\\win32',\n",
       " 'C:\\\\Users\\\\Gargeya\\\\anaconda3\\\\envs\\\\MLLab\\\\lib\\\\site-packages\\\\win32\\\\lib',\n",
       " 'C:\\\\Users\\\\Gargeya\\\\anaconda3\\\\envs\\\\MLLab\\\\lib\\\\site-packages\\\\Pythonwin']"
      ]
     },
     "execution_count": 42,
     "metadata": {},
     "output_type": "execute_result"
    }
   ],
   "source": [
    "import sys\n",
    "sys.path"
   ]
  },
  {
   "cell_type": "markdown",
   "metadata": {
    "id": "EO76OuFBVkDc",
    "pycharm": {
     "name": "#%% md\n"
    }
   },
   "source": [
    "# 6. Operators\n",
    "\n",
    "What are operators in python?\n",
    "\n",
    "Operators are special symbols in Python that carry out arithmetic or logical computation. The value that the operator operates on is called the operand.\n",
    "\n",
    "For example:\n",
    "```python\n",
    ">>>6+3\n",
    "```\n",
    "```\n",
    "9\n",
    "```\n",
    "Here, `+` is the operator that performs addition. 2 and 3 are the operands and 5 is the output of the operation.\n",
    "\n",
    "## 6.1 Arithmetic operators\n",
    "\n",
    "| Symbol | Task Performed         |                                     Meaning                                     |          Example          |\n",
    "|:------:|------------------------|:-------------------------------------------------------------------------------:|:-------------------------:|\n",
    "|    +   | Addition               |                          add two operands or unary plus                         |        x + y or +2        |\n",
    "|    -   | Subtraction            |               substract right operand from the left or unary minus              |        x - y or -2        |\n",
    "|    *   | Multiplication         |                              Multiply two operands                              |           x * y           |\n",
    "|    /   | Division               |         Divide left operand by the right one (always results into float)        |           x / y           |\n",
    "|    %   | Modulus (remainder)    |              remainder of the division of left operand by the right             |  x % y (remainder of x/y) |\n",
    "|   //   | Integer/Floor division | division that results into whole number adjusted to the left in the number line |           x // y          |\n",
    "|  `**`  | Exponentiation (power) |                    left operand raised to the power of right                    | x ** y (x to the power y) |\n",
    "\n",
    "Arithmetic operators are used to perform mathematical operations like addition, subtraction, multiplication etc."
   ]
  },
  {
   "cell_type": "code",
   "execution_count": 43,
   "metadata": {
    "id": "liQLEZXuV_wv",
    "pycharm": {
     "name": "#%%\n"
    }
   },
   "outputs": [
    {
     "name": "stdout",
     "output_type": "stream",
     "text": [
      "Addition:  3\n",
      "Subtraction:  1\n",
      "Multiplication:  6\n",
      "Division:  2.0\n",
      "Division:  3.0\n",
      "Division:  3.5\n",
      "Division without the remainder:  3\n",
      "Modulus:  1\n",
      "Division without the remainder:  2\n",
      "Exponential:  9\n"
     ]
    }
   ],
   "source": [
    "print('Addition: ', 1 + 2)\n",
    "print('Subtraction: ', 2 - 1)\n",
    "print('Multiplication: ', 2 * 3)\n",
    "print ('Division: ', 4 / 2)                         # Division in python gives floating number\n",
    "print('Division: ', 6 / 2)\n",
    "print('Division: ', 7 / 2)\n",
    "print('Division without the remainder: ', 7 // 2)   # gives without the floating number or without the remaining\n",
    "print('Modulus: ', 3 % 2)                           # Gives the remainder\n",
    "print ('Division without the remainder: ',7 // 3)\n",
    "print('Exponential: ', 3 ** 2)                      # it means 3 * 3\n"
   ]
  },
  {
   "cell_type": "markdown",
   "metadata": {
    "id": "RWUhUa9XWFPu",
    "pycharm": {
     "name": "#%% md\n"
    }
   },
   "source": [
    "## 6.2 Comparison and Relational operators\n",
    "\n",
    "| Symbol | Task Performed           | Meaning                                                    | Example |\n",
    "|:------:|--------------------------|------------------------------------------------------------|:-------:|\n",
    "|    >   | greater than             | True if left operand is greater than the right             |  x > y  |\n",
    "|    <   | less than                | True if left operand is less than the right                |  x < y  |\n",
    "|   ==   | equal to                 | True if both operands are equal                            |  x == y |\n",
    "|   !=   | not equal to             | True if both operands are not equal                        |  x != y |\n",
    "|   >=   | greater than or equal to | True if left operand is greater than or equal to the right |  x >= y |\n",
    "|   <=   | less than or equal to    | True if left operand is less than or equal to the right    |  x <= y |\n",
    "\n",
    "Comparison operators are used to compare values. It either returns True or False according to the condition."
   ]
  },
  {
   "cell_type": "code",
   "execution_count": 44,
   "metadata": {
    "id": "hbZRB3rOWRAd",
    "pycharm": {
     "name": "#%%\n"
    }
   },
   "outputs": [
    {
     "name": "stdout",
     "output_type": "stream",
     "text": [
      "True\n",
      "True\n",
      "False\n",
      "True\n",
      "True\n",
      "False\n",
      "True\n",
      "False\n",
      "True\n",
      "True\n",
      "False\n",
      "True\n",
      "True\n",
      "False\n"
     ]
    }
   ],
   "source": [
    "print(6 > 3)                           # True, because 3 is greater than 2\n",
    "print(6 >= 3)                          # True, because 3 is greater than 2\n",
    "print(6 < 3)                           # False,  because 3 is greater than 2\n",
    "print(3 < 6)                           # True, because 2 is less than 3\n",
    "print(3 <= 6)                          # True, because 2 is less than 3\n",
    "print(6 == 3)                          # False, because 3 is not equal to 2\n",
    "print(6 != 3)                          # True, because 3 is not equal to 2\n",
    "print(len(\"apple\") == len(\"avocado\"))  # False\n",
    "print(len(\"apple\") != len(\"avocado\"))  # True\n",
    "print(len(\"apple\") < len(\"avocado\"))   # True\n",
    "print(len(\"banana\") != len(\"orange\"))  # False\n",
    "print(len(\"banana\") == len(\"orange\"))  # True\n",
    "print(len(\"tomato\") == len(\"potato\"))  # True\n",
    "print(len(\"python\") > len(\"coding\"))   # False"
   ]
  },
  {
   "cell_type": "markdown",
   "metadata": {
    "id": "d-RZdnWPWVLW",
    "pycharm": {
     "name": "#%% md\n"
    }
   },
   "source": [
    "## 6.3 Logical/Boolean Operators\n",
    "\n",
    "| Symbol |                       Meaning                       | Example |\n",
    "|:------:|:---------------------------------------------------:|:-------:|\n",
    "|   and  |          True if both the operands are true         | x and y |\n",
    "|   or   |        True if either of the operand is true        |  x or y |\n",
    "|   not  | True if operand are false (complements the operand) |  not x  |\n",
    "\n",
    "Logical operators are the and, or, not operators."
   ]
  },
  {
   "cell_type": "code",
   "execution_count": 45,
   "metadata": {
    "id": "kO8PI7mMWjIM",
    "pycharm": {
     "name": "#%%\n"
    }
   },
   "outputs": [
    {
     "name": "stdout",
     "output_type": "stream",
     "text": [
      "True == True:  True\n",
      "True == False:  False\n",
      "False == False: True\n",
      "True and True:  True\n",
      "True or False: True\n"
     ]
    }
   ],
   "source": [
    "print('True == True: ', True == True)\n",
    "print('True == False: ', True == False)\n",
    "print('False == False:', False == False)\n",
    "print('True and True: ', True and True)\n",
    "print('True or False:', True or False)"
   ]
  },
  {
   "cell_type": "code",
   "execution_count": 46,
   "metadata": {
    "id": "izB5eFmMWnBQ",
    "pycharm": {
     "name": "#%%\n"
    }
   },
   "outputs": [
    {
     "name": "stdout",
     "output_type": "stream",
     "text": [
      "1 is 1 True\n",
      "1 is not 2 True\n",
      "A in Milaan False\n",
      "B in Milaan False\n",
      "True\n",
      "a in an: True\n",
      "27 is 3 ** 3: True\n"
     ]
    },
    {
     "name": "stderr",
     "output_type": "stream",
     "text": [
      "<>:3: SyntaxWarning: \"is\" with a literal. Did you mean \"==\"?\n",
      "<>:4: SyntaxWarning: \"is not\" with a literal. Did you mean \"!=\"?\n",
      "<>:9: SyntaxWarning: \"is\" with a literal. Did you mean \"==\"?\n",
      "<>:3: SyntaxWarning: \"is\" with a literal. Did you mean \"==\"?\n",
      "<>:4: SyntaxWarning: \"is not\" with a literal. Did you mean \"!=\"?\n",
      "<>:9: SyntaxWarning: \"is\" with a literal. Did you mean \"==\"?\n",
      "C:\\Users\\Gargeya\\AppData\\Local\\Temp\\ipykernel_16028\\3673234325.py:3: SyntaxWarning: \"is\" with a literal. Did you mean \"==\"?\n",
      "  print('1 is 1', 1 is 1)                  # True  - because the data values are the same\n",
      "C:\\Users\\Gargeya\\AppData\\Local\\Temp\\ipykernel_16028\\3673234325.py:4: SyntaxWarning: \"is not\" with a literal. Did you mean \"!=\"?\n",
      "  print('1 is not 2', 1 is not 2)          # True  - because 1 is not 2\n",
      "C:\\Users\\Gargeya\\AppData\\Local\\Temp\\ipykernel_16028\\3673234325.py:9: SyntaxWarning: \"is\" with a literal. Did you mean \"==\"?\n",
      "  print('27 is 3 ** 3:', 27 is 3**3)       # True\n"
     ]
    }
   ],
   "source": [
    "# Another way comparison \n",
    "\n",
    "print('1 is 1', 1 is 1)                  # True  - because the data values are the same\n",
    "print('1 is not 2', 1 is not 2)          # True  - because 1 is not 2\n",
    "print('A in Milaan', 'A' in 'Milaan')    # True  - A found in the string\n",
    "print('B in Milaan', 'B' in 'Milaan')    # False - there is no uppercase B\n",
    "print('python' in 'python is fun')       # True  - because coding for all has the word coding\n",
    "print('a in an:', 'a' in 'an')           # True\n",
    "print('27 is 3 ** 3:', 27 is 3**3)       # True"
   ]
  },
  {
   "cell_type": "markdown",
   "metadata": {
    "id": "1mWlQCKKWrsL",
    "pycharm": {
     "name": "#%% md\n"
    }
   },
   "source": [
    "## 6.4 Bitwise operators\n",
    "\n",
    "Bitwise operators act on operands as if they were string of binary digits. It operates bit by bit, hence the name.\n",
    "\n",
    "For example: 2 is 10 in binary and 7 is 111.\n",
    "\n",
    "In the table below: Let x = 10 (0000 1010 in binary) and y = 4 (0000 0100 in binary)\n",
    "\n",
    "| Operator |   Meaning   | Symbol |    Task Performed   |         Example         |\n",
    "|:--------:|:-----------:|:------:|:-------------------:|:-----------------------:|\n",
    "|    and   | Logical and |    &   |     Bitwise And     |  x & y = 0 (0000 0000)  |\n",
    "|    or    |  Logical or |        |      Bitwise OR     | x \\| y = 14 (0000 1110) |\n",
    "|    not   |     Not     |    ~   |     Bitwise NOT     |   ~x = -11 (1111 0101)  |\n",
    "|          |             |    ^   |     Bitwise XOR     |  x ^ y = 14 (0000 1110) |\n",
    "|          |             |   >>   | Bitwise right shift |  x >> 2 = 2 (0000 0010) |\n",
    "|          |             |   <<   |  Bitwise left shift | x << 2 = 40 (0010 1000) |\n"
   ]
  },
  {
   "cell_type": "code",
   "execution_count": 47,
   "metadata": {
    "id": "f3iUcMAOXceq",
    "pycharm": {
     "name": "#%%\n"
    }
   },
   "outputs": [
    {
     "name": "stdout",
     "output_type": "stream",
     "text": [
      "a & b = 2 = 0b10\n"
     ]
    }
   ],
   "source": [
    "a = 2 #binary: 0010\n",
    "b = 3 #binary: 0011\n",
    "print('a & b =',a & b,\"=\",bin(a&b))"
   ]
  },
  {
   "cell_type": "code",
   "execution_count": 48,
   "metadata": {
    "id": "U2f5lmdcXefN",
    "pycharm": {
     "name": "#%%\n"
    }
   },
   "outputs": [
    {
     "data": {
      "text/plain": [
       "2"
      ]
     },
     "execution_count": 48,
     "metadata": {},
     "output_type": "execute_result"
    }
   ],
   "source": [
    "5 >> 1\n",
    "\n",
    "# 0 ➡ 0000 0101\n",
    "#      0000 0010 \n",
    "# 0010 is 2 in decimal"
   ]
  },
  {
   "cell_type": "markdown",
   "metadata": {
    "id": "8H7-VCVF_2pb",
    "pycharm": {
     "name": "#%% md\n"
    }
   },
   "source": [
    "## 💻 Exercises ➞ <span class='label label-default'>Operators</span>\n",
    "\n",
    "1. Declare your age as integer variable\n",
    "2. Declare your height as a float variable\n",
    "3. Declare a variable that store a complex number\n",
    "4. Write a code that prompts the user to enter base and height of the triangle and calculate an area of this triangle (area = 0.5 x b x h).\n",
    "\n",
    "```py\n",
    "    Enter base: 20\n",
    "    Enter height: 10\n",
    "    The area of the triangle is 100\n",
    "```\n",
    "\n",
    "5. Write a code that prompts the user to enter side a, side b, and side c of the triangle. Calculate the perimeter of the triangle (perimeter = a + b + c).\n",
    "\n",
    "```py\n",
    "Enter side a: 5\n",
    "Enter side b: 4\n",
    "Enter side c: 3\n",
    "The perimeter of the triangle is 12\n",
    "```\n",
    "\n",
    "6. Get length and width of a rectangle using prompt. Calculate its area (**area = length x width**) and perimeter (**perimeter = 2 x (length + width)**)\n",
    "7. Get radius of a circle using prompt. Calculate the area (**area = pi x r x r**) and circumference (**c = 2 x pi x r**) where pi = 3.14.\n",
    "8. Calculate the slope, x-intercept and y-intercept of $y = 2x -2$\n",
    "9. Slope is ($m = (y2-y1)/(x2-x1)$). Find the slope and **[Euclidean distance](https://en.wikipedia.org/wiki/Euclidean_distance#:~:text=In%20mathematics%2C%20the%20Euclidean%20distance,being%20called%20the%20Pythagorean%20distance.)** between point (2, 2) and point (6,10) \n",
    "10. Compare the slopes in tasks 8 and 9.\n",
    "11. Calculate the value of y ($y = x^2 + 6x + 9$). Try to use different x values and figure out at what x value y is going to be 0.\n",
    "12. Find the length of **`'python'`** and **`'datascience'`** and make a falsy comparison statement.\n",
    "13. Use **`and`** operator to check if **`on`** is found in both **`python`** and **`cannon`**\n",
    "14. **`I hope this course is not full of jargon`**. Use **`in`** operator to check if **`jargon`** is in the sentence.\n",
    "15. There is no **`on`** in both **`python`** and **`cannon`**\n",
    "16. Find the length of the text **`python`** and convert the value to float and convert it to string\n",
    "17. Even numbers are divisible by 2 and the remainder is zero. How do you check if a number is even or not using python?\n",
    "18. Check if the floor division of 7 by 3 is equal to the int converted value of 2.7.\n",
    "19. Check if type of **\"10\"** is equal to type of 10\n",
    "20. Check if int(**\"9.6\"**) is equal to 10\n",
    "21. Write a code that prompts the user to enter hours and rate per hour. Calculate pay of the person?\n",
    "\n",
    "```py\n",
    "Enter hours: 40\n",
    "Enter rate per hour: 30\n",
    "Your weekly earning is 1200\n",
    "```\n",
    "\n",
    "22. Write a script that prompts the user to enter number of years. Calculate the number of seconds a person can live. Assume a person can live hundred years\n",
    "\n",
    "```py\n",
    "Enter number of years you have lived: 100\n",
    "You have lived for 3153600000 seconds.\n",
    "```\n",
    "\n",
    "23. Write a Python code that displays the following table\n",
    "\n",
    "```py\n",
    "1 2 3 4 5  \n",
    "2 4 6 8 10\n",
    "3 6 9 12 15\n",
    "4 8 12 16 20\n",
    "5 10 15 20 25\n",
    "```"
   ]
  },
  {
   "cell_type": "markdown",
   "metadata": {
    "id": "CR_NI666_3UD",
    "pycharm": {
     "name": "#%%\n"
    }
   },
   "source": [
    "### Answers"
   ]
  },
  {
   "cell_type": "code",
   "execution_count": 49,
   "metadata": {},
   "outputs": [],
   "source": [
    "my_age = 22\n",
    "my_height = 182.5\n",
    "com = 1+2j"
   ]
  },
  {
   "cell_type": "code",
   "execution_count": 54,
   "metadata": {},
   "outputs": [
    {
     "name": "stdout",
     "output_type": "stream",
     "text": [
      "Enter base: 20\n",
      "Enter height: 10\n",
      "The area of the triangle is 100.0\n"
     ]
    }
   ],
   "source": [
    "b = int(input(\"Enter base: \"))\n",
    "h = int(input(\"Enter height: \"))\n",
    "print(f\"The area of the triangle is {1/2*b*h}\")"
   ]
  },
  {
   "cell_type": "code",
   "execution_count": 55,
   "metadata": {},
   "outputs": [
    {
     "name": "stdout",
     "output_type": "stream",
     "text": [
      "Enter side a: 10\n",
      "Enter side b: 20\n",
      "Enter side c: 30\n",
      "The Perimeter of the triangle 60\n"
     ]
    }
   ],
   "source": [
    "a = int(input(\"Enter side a: \"))\n",
    "b = int(input(\"Enter side b: \"))\n",
    "c = int(input(\"Enter side c: \"))\n",
    "\n",
    "print(f\"The Perimeter of the triangle {a+b+c}\")"
   ]
  },
  {
   "cell_type": "code",
   "execution_count": 57,
   "metadata": {},
   "outputs": [
    {
     "name": "stdout",
     "output_type": "stream",
     "text": [
      "Enter length: 20\n",
      "Enter width: 10\n",
      "The area of the rectangle 200\n",
      "The perimeter of the rectangle 60\n"
     ]
    }
   ],
   "source": [
    "length = int(input(\"Enter length: \"))\n",
    "width = int(input(\"Enter width: \"))\n",
    "print(f\"The area of the rectangle {length*width}\")\n",
    "print(f\"The perimeter of the rectangle {2*(length+width)}\")"
   ]
  },
  {
   "cell_type": "code",
   "execution_count": 58,
   "metadata": {},
   "outputs": [
    {
     "name": "stdout",
     "output_type": "stream",
     "text": [
      "Radius of the Circle: 20\n",
      "Area of the circle is  1256.0\n",
      "Circumference of the circle is  125.60000000000001\n"
     ]
    }
   ],
   "source": [
    "PI =3.14\n",
    "radius = float(input(\"Radius of the Circle: \"))\n",
    "area_of_circle = PI*(radius**2)\n",
    "\n",
    "circumference_of_circle = 2*PI*radius\n",
    "print(\"Area of the circle is \",area_of_circle)\n",
    "print(\"Circumference of the circle is \", circumference_of_circle)"
   ]
  },
  {
   "cell_type": "code",
   "execution_count": 63,
   "metadata": {},
   "outputs": [
    {
     "name": "stdout",
     "output_type": "stream",
     "text": [
      "the slope of the equation is  2.0\n",
      "x-intercept is  -2\n",
      "y-intercept is  1.0\n",
      "-- 9th Question --\n",
      "The slope of the points is  2.0\n",
      "The euclidean distance of the points is  8.94427190999916\n"
     ]
    }
   ],
   "source": [
    "# 8. Calculate the slope, x-intercept and y-intercept of  𝑦=2𝑥−2 \n",
    "# 9. Slope is ( 𝑚=(𝑦2−𝑦1)/(𝑥2−𝑥1) ). Find the slope and Euclidean distance between point (2, 2) and point (6,10)\n",
    "\n",
    "\n",
    "def slope(y1,y2,x1,x2):\n",
    "    return (y2-y1)/(x2-x1)\n",
    "\n",
    "def equation_in_x(x):\n",
    "    return 2*x-2\n",
    "def equation_in_y(y):\n",
    "    return (y+2)/2\n",
    "\n",
    "x1 = 2\n",
    "x2 = 4\n",
    "y1 = equation_in_x(x1)\n",
    "y2 = equation_in_x(x2)\n",
    "\n",
    "line_slope = slope(y1,y2,x1,x2)\n",
    "print(\"the slope of the equation is \",line_slope)\n",
    "print(\"x-intercept is \", equation_in_x(0))\n",
    "print(\"y-intercept is \", equation_in_y(0))\n",
    "\n",
    "\n",
    "print(\"-- 9th Question --\")\n",
    "\n",
    "def euclidean_distance(y1,y2,x1,x2):\n",
    "    return ((x2-x1)**2+(y2-y1)**2)**0.5\n",
    "\n",
    "points_slope = slope(2,10,2,6)\n",
    "print(\"The slope of the points is \",points_slope)\n",
    "print(\"The euclidean distance of the points is \",euclidean_distance(2,10,2,6))"
   ]
  },
  {
   "cell_type": "code",
   "execution_count": 64,
   "metadata": {},
   "outputs": [
    {
     "name": "stdout",
     "output_type": "stream",
     "text": [
      "True\n"
     ]
    }
   ],
   "source": [
    "# 10. Compare the slopes in tasks 8 and 9.\n",
    "\n",
    "print(line_slope == points_slope)"
   ]
  },
  {
   "cell_type": "code",
   "execution_count": 70,
   "metadata": {},
   "outputs": [
    {
     "name": "stdout",
     "output_type": "stream",
     "text": [
      "64\n",
      "4\n",
      "9\n",
      "1\n",
      "0\n"
     ]
    }
   ],
   "source": [
    "# 11. Calculate the value of y ( 𝑦=𝑥2+6𝑥+9 ). Try to use different x values and figure out at what x value y is going to be 0.\n",
    "\n",
    "def equation_11(x):\n",
    "    return x**2 + 6*x + 9\n",
    "\n",
    "print(equation_11(5))\n",
    "print(equation_11(-5))\n",
    "print(equation_11(-6))\n",
    "print(equation_11(-4))\n",
    "print(equation_11(-3)) ## Answer"
   ]
  },
  {
   "cell_type": "code",
   "execution_count": 71,
   "metadata": {},
   "outputs": [
    {
     "name": "stdout",
     "output_type": "stream",
     "text": [
      "the length of 'python' is  6\n",
      "the length of 'datascience' is  11\n"
     ]
    },
    {
     "data": {
      "text/plain": [
       "True"
      ]
     },
     "execution_count": 71,
     "metadata": {},
     "output_type": "execute_result"
    }
   ],
   "source": [
    "# Find the length of 'python' and 'datascience' and make a falsy comparison statement.\n",
    "\n",
    "\n",
    "print(\"the length of 'python' is \", len(\"python\"))\n",
    "print(\"the length of 'datascience' is \", len(\"datascience\"))\n",
    "len(\"python\") < len(\"datascience\")"
   ]
  },
  {
   "cell_type": "code",
   "execution_count": 73,
   "metadata": {},
   "outputs": [
    {
     "name": "stdout",
     "output_type": "stream",
     "text": [
      "True\n"
     ]
    }
   ],
   "source": [
    "# Use and operator to check if on is found in both python and cannon\n",
    "\n",
    "\n",
    "print('on' in ('python' and 'cannon'))"
   ]
  },
  {
   "cell_type": "code",
   "execution_count": 74,
   "metadata": {},
   "outputs": [
    {
     "data": {
      "text/plain": [
       "True"
      ]
     },
     "execution_count": 74,
     "metadata": {},
     "output_type": "execute_result"
    }
   ],
   "source": [
    "# I hope this course is not full of jargon. Use in operator to check if jargon is in the sentence.\n",
    "\n",
    "\n",
    "'jargon' in 'I hope this course is not full of jargon'"
   ]
  },
  {
   "cell_type": "code",
   "execution_count": 75,
   "metadata": {},
   "outputs": [
    {
     "data": {
      "text/plain": [
       "False"
      ]
     },
     "execution_count": 75,
     "metadata": {},
     "output_type": "execute_result"
    }
   ],
   "source": [
    "# There is no on in both python and cannon\n",
    "\n",
    "'on' not in ('python' and 'cannon')"
   ]
  },
  {
   "cell_type": "code",
   "execution_count": 76,
   "metadata": {},
   "outputs": [
    {
     "data": {
      "text/plain": [
       "'6.0'"
      ]
     },
     "execution_count": 76,
     "metadata": {},
     "output_type": "execute_result"
    }
   ],
   "source": [
    "# Find the length of the text python and convert the value to float and convert it to string\n",
    "\n",
    "str(float(len(\"python\")))"
   ]
  },
  {
   "cell_type": "code",
   "execution_count": 79,
   "metadata": {},
   "outputs": [
    {
     "name": "stdout",
     "output_type": "stream",
     "text": [
      "False\n"
     ]
    },
    {
     "data": {
      "text/plain": [
       "True"
      ]
     },
     "execution_count": 79,
     "metadata": {},
     "output_type": "execute_result"
    }
   ],
   "source": [
    "# Even numbers are divisible by 2 and the remainder is zero. How do you check if a number is even or not using python?\n",
    "\n",
    "\n",
    "def if_even(x):\n",
    "    return x%2 == 0\n",
    "\n",
    "print(if_even(3))\n",
    "if_even(2)\n"
   ]
  },
  {
   "cell_type": "code",
   "execution_count": 80,
   "metadata": {},
   "outputs": [
    {
     "data": {
      "text/plain": [
       "True"
      ]
     },
     "execution_count": 80,
     "metadata": {},
     "output_type": "execute_result"
    }
   ],
   "source": [
    "# Check if the floor division of 7 by 3 is equal to the int converted value of 2.7.\n",
    "\n",
    "\n",
    "7//3 == int(2.7)"
   ]
  },
  {
   "cell_type": "code",
   "execution_count": 81,
   "metadata": {},
   "outputs": [
    {
     "data": {
      "text/plain": [
       "False"
      ]
     },
     "execution_count": 81,
     "metadata": {},
     "output_type": "execute_result"
    }
   ],
   "source": [
    "# Check if type of \"10\" is equal to type of 10\n",
    "\n",
    "type(\"10\") == type(10)"
   ]
  },
  {
   "cell_type": "code",
   "execution_count": 82,
   "metadata": {},
   "outputs": [
    {
     "ename": "ValueError",
     "evalue": "invalid literal for int() with base 10: '9.6'",
     "output_type": "error",
     "traceback": [
      "\u001b[1;31m---------------------------------------------------------------------------\u001b[0m",
      "\u001b[1;31mValueError\u001b[0m                                Traceback (most recent call last)",
      "Input \u001b[1;32mIn [82]\u001b[0m, in \u001b[0;36m<cell line: 3>\u001b[1;34m()\u001b[0m\n\u001b[0;32m      1\u001b[0m \u001b[38;5;66;03m# Check if int(\"9.6\") is equal to 10\u001b[39;00m\n\u001b[1;32m----> 3\u001b[0m \u001b[38;5;28;43mint\u001b[39;49m\u001b[43m(\u001b[49m\u001b[38;5;124;43m\"\u001b[39;49m\u001b[38;5;124;43m9.6\u001b[39;49m\u001b[38;5;124;43m\"\u001b[39;49m\u001b[43m)\u001b[49m \u001b[38;5;241m==\u001b[39m \u001b[38;5;241m10\u001b[39m\n",
      "\u001b[1;31mValueError\u001b[0m: invalid literal for int() with base 10: '9.6'"
     ]
    }
   ],
   "source": [
    "# Check if int(\"9.6\") is equal to 10\n",
    "\n",
    "int(\"9.6\") == 10"
   ]
  },
  {
   "cell_type": "code",
   "execution_count": 86,
   "metadata": {},
   "outputs": [
    {
     "name": "stdout",
     "output_type": "stream",
     "text": [
      "Enter hours: 40\n",
      "Enter rate per hour: 30\n",
      "Your weekly earning is 1200.0\n"
     ]
    }
   ],
   "source": [
    "hours = float(input(\"Enter hours: \"))\n",
    "rate = float(input(\"Enter rate per hour: \"))\n",
    "print(f\"Your weekly earning is {hours*rate}\")"
   ]
  },
  {
   "cell_type": "code",
   "execution_count": 87,
   "metadata": {},
   "outputs": [
    {
     "name": "stdout",
     "output_type": "stream",
     "text": [
      "Enter number of years: 22\n",
      "You have lived for  694267200.0\n"
     ]
    }
   ],
   "source": [
    "# Write a script that prompts the user to enter number of years. Calculate the number of seconds a person can live. Assume a person can live hundred years\n",
    "# Enter number of years you have lived: 100\n",
    "# You have lived for 3153600000 seconds.\n",
    "\n",
    "years = float(input(\"Enter number of years: \"))\n",
    "print(\"You have lived for \",years*365.25*24*60*60)"
   ]
  },
  {
   "cell_type": "code",
   "execution_count": 90,
   "metadata": {},
   "outputs": [
    {
     "name": "stdout",
     "output_type": "stream",
     "text": [
      "\n",
      "1 2 3 4 5 \n",
      "2 4 6 8 10 \n",
      "3 6 9 12 15 \n",
      "4 8 12 16 20 \n",
      "5 10 15 20 25 "
     ]
    }
   ],
   "source": [
    "for i in range(1,6):\n",
    "    print()\n",
    "    for j in range(1,6):\n",
    "        print(i*j, end=\" \")"
   ]
  },
  {
   "cell_type": "code",
   "execution_count": null,
   "metadata": {},
   "outputs": [],
   "source": []
  }
 ],
 "metadata": {
  "colab": {
   "collapsed_sections": [],
   "private_outputs": true,
   "provenance": []
  },
  "kernelspec": {
   "display_name": "Python 3 (ipykernel)",
   "language": "python",
   "name": "python3"
  },
  "language_info": {
   "codemirror_mode": {
    "name": "ipython",
    "version": 3
   },
   "file_extension": ".py",
   "mimetype": "text/x-python",
   "name": "python",
   "nbconvert_exporter": "python",
   "pygments_lexer": "ipython3",
   "version": "3.9.12"
  }
 },
 "nbformat": 4,
 "nbformat_minor": 1
}
