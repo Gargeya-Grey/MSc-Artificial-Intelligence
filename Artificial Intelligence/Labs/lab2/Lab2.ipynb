{
 "cells": [
  {
   "cell_type": "markdown",
   "metadata": {
    "id": "6sF3Qz4_5L_D"
   },
   "source": [
    "# ECS759P Lab 2: Tree search algorithms (BFS and DFS)"
   ]
  },
  {
   "cell_type": "markdown",
   "metadata": {
    "id": "oUzMHfvW3kJJ"
   },
   "source": [
    "In this lab, we are going to implement and compare two of our basic search algorithms, namely Breadth First Search (**BFS**) and Depth First Search (**DFS**) on a real-world problem. \n",
    "\n",
    "But first, a quick tutorial on graph visualisation."
   ]
  },
  {
   "cell_type": "markdown",
   "metadata": {
    "id": "Uzoql48wIddB"
   },
   "source": [
    "## 0. How to represent a graph (a tutorial)"
   ]
  },
  {
   "cell_type": "markdown",
   "metadata": {
    "id": "oYC31CfZ3kJR"
   },
   "source": [
    "Most of the search algorithms we study need to be applied to problems that can be modelled as graphs, where the graph represents the state space of the problem.   \n",
    "\n",
    "You might be familiar with modelling a \"tree\", which is a graph without any cycles. While modelling a tree may be relatively simple, there exists many ways to encode a graph.\n",
    "\n",
    "We can for instance use nested dictionaries to represent a graph, as in the following example:"
   ]
  },
  {
   "cell_type": "code",
   "execution_count": null,
   "metadata": {
    "id": "EIVbH8ptIZZr"
   },
   "outputs": [],
   "source": [
    "simple_graph = {\"node_A\" : {\"node_B\" : 10, \"node_C\" : 75, \"node_D\" : 20}, \n",
    "                \"node_B\" : {\"node_A\" : 10, \"node_C\" : 35, \"node_D\" : 25}, \n",
    "                \"node_C\" : {\"node_B\" : 35, \"node_A\" : 75, \"node_D\" : 30}, \n",
    "                \"node_D\" : {\"node_B\" : 25, \"node_A\" : 20, \"node_C\" : 30}}"
   ]
  },
  {
   "cell_type": "markdown",
   "metadata": {
    "id": "EZ-pkO4ULaW9"
   },
   "source": [
    "The above dictionary contains all the information required to represent a graph. Each *key* of the `simple_graph` dictionary corresponds to a *vertex* `v`, a.k.a. a *node*. The *value* of a vertex is itself a dictionary, containing the information about the *neighbours* of that vertex. For instance `node_A` is connected to `node_B`, `node_C` and `node_D` via *edges*, a.k.a., *links*,  having *step costs*, a.k.a. *weights* of 10, 75, and 20, respectively. \n",
    "\n",
    "An advantage of this representation is the ease of access to all the information. A disadvantage is that it is rather memory-inefficient (note the size of the dictionary to represent a graph of only 4 nodes and 6 links), as it contains a lot of redundant information. \n"
   ]
  },
  {
   "cell_type": "markdown",
   "metadata": {
    "id": "73CO4dQlOw0u"
   },
   "source": [
    "As a warm up, with a pen and paper or in your head, try to visualise the graph and then find the shortest path from `node_A` to `node_C`. For the (simple) example above, **once** you visualize the graph, it is quite straightforward to analyse it. However, this can quickly show its limitations. For instance, let's try to visualise the following example:"
   ]
  },
  {
   "cell_type": "code",
   "execution_count": null,
   "metadata": {
    "id": "ZX4XZfTGQ0NW"
   },
   "outputs": [],
   "source": [
    "more_complex_graph = {\"vertex1\" : {\"vertex2\" : 24, \"vertex3\" : 52, \"vertex0\" : 17}, \n",
    "                      \"vertex2\" : {\"vertex0\" : 14, \"vertex3\" : 64, \"vertex5\" : 11, \"vertex1\" : 24, \"vertex4\": 41}, \n",
    "                      \"vertex0\": {\"vertex1\" : 17, \"vertex2\" : 14, \"vertex5\" : 44}, \n",
    "                      \"vertex3\": {\"vertex1\" : 52, \"vertex2\" : 64}, \n",
    "                      \"vertex4\" : {\"vertex2\" : 41}, \n",
    "                      \"vertex5\": {\"vertex2\" : 11, \"vertex0\" : 44}}"
   ]
  },
  {
   "cell_type": "markdown",
   "metadata": {
    "id": "SiIzJv0PQ0-Y"
   },
   "source": [
    "It's quite difficult isn't it? \n",
    "\n",
    "That is why we are going to use a useful python library called **[NetworkX](https://networkx.github.io/documentation/stable/)**. This library provides some useful tools to build, analyse and display graphs. One of its classes allowing to encode a graph is called `Graph`. Although there exists once again a lot of ways to generate graphs with this library, we are going to go through the basics. Consider the following example:"
   ]
  },
  {
   "cell_type": "code",
   "execution_count": null,
   "metadata": {
    "id": "txLtzRIkQC0o"
   },
   "outputs": [],
   "source": [
    "import networkx as nx\n",
    "import matplotlib.pyplot as plt\n",
    "\n",
    "dummy_nx_graph = nx.Graph()\n",
    "dummy_nx_graph.add_node(\"Hello\")\n",
    "dummy_nx_graph.add_node(\"amigo.\")"
   ]
  },
  {
   "cell_type": "markdown",
   "metadata": {
    "id": "By651ntpN4zH"
   },
   "source": [
    "Here we just added two nodes (or vertices). Let's visualise them:"
   ]
  },
  {
   "cell_type": "code",
   "execution_count": null,
   "metadata": {
    "id": "RMbHjbZUOEax"
   },
   "outputs": [],
   "source": [
    "nx.draw(dummy_nx_graph, with_labels=True, node_size=1500, font_weight='bold')\n",
    "plt.show()"
   ]
  },
  {
   "cell_type": "markdown",
   "metadata": {
    "id": "kv5L6Ha0QoI7"
   },
   "source": [
    "Well, two nodes alone, without any edge between them, ain't that interesting! So let's add a link: "
   ]
  },
  {
   "cell_type": "code",
   "execution_count": null,
   "metadata": {
    "id": "9K5eQZCtOnI4"
   },
   "outputs": [],
   "source": [
    "dummy_nx_graph.add_edge(\"Hello\", \"amigo.\")\n",
    "nx.draw(dummy_nx_graph, with_labels=True, node_size=1500, font_weight='bold')\n",
    "plt.show()"
   ]
  },
  {
   "cell_type": "markdown",
   "metadata": {
    "id": "dOYG4lcAPM7Z"
   },
   "source": [
    "We can also make our graph grow just by adding edges (which will also create the necessary new nodes for us). \n",
    "\n",
    "We can add weights (step costs) to each of the existing edges, or alternatively, specify the weight when creating an edge:"
   ]
  },
  {
   "cell_type": "code",
   "execution_count": null,
   "metadata": {
    "id": "yDfB5BNqPwls"
   },
   "outputs": [],
   "source": [
    "dummy_nx_graph[\"Hello\"][\"amigo.\"]['weight'] = 1 # adding a weight to an existing edge\n",
    "dummy_nx_graph.add_edge(\"amigo.\",  \"Ready\", weight=1.5) # adding a new edge and specifying its weight\n",
    "nx.draw(dummy_nx_graph, with_labels=True, node_size=1500, font_weight='bold') \n",
    "plt.show()"
   ]
  },
  {
   "cell_type": "markdown",
   "metadata": {
    "id": "3TsDKo3pQXMH"
   },
   "source": [
    "Adding nodes or edges one by one would be too painful for big graphs. Instead, we can add multiple edges at once from an iterable container:"
   ]
  },
  {
   "cell_type": "code",
   "execution_count": null,
   "metadata": {
    "id": "G_8mLvLYQsIp"
   },
   "outputs": [],
   "source": [
    "dummy_nx_graph.add_nodes_from([\"Ready\", \"for\"])\n",
    "dummy_nx_graph.add_weighted_edges_from([(\"Ready\", \"for\", 4.2), \n",
    "                                        (\"for\", \"today\", 9.8), \n",
    "                                        (\"today\", \"?\", 7)])\n",
    "nx.draw(dummy_nx_graph, with_labels=True, node_size=1500, font_weight='bold')\n",
    "plt.show()"
   ]
  },
  {
   "cell_type": "markdown",
   "metadata": {
    "id": "sLSllFUMRjjB"
   },
   "source": [
    "**Q. By filling the gaps below, create and visualise the equivalent of `simple_graph` that we specified using nested dictionaries at the beginning of this lab.**"
   ]
  },
  {
   "cell_type": "code",
   "execution_count": null,
   "metadata": {
    "id": "2ByhacSdRuvT"
   },
   "outputs": [],
   "source": [
    "simple_nx_graph = nx.Graph()\n",
    "\n",
    "for node, connected_elem in simple_graph.items():\n",
    "    # TO DO\n",
    "    for connected_node, weight in connected_elem.items():\n",
    "        simple_nx_graph.add_edge(node, connected_node, weight = weight)\n",
    "\n",
    "nx.draw(simple_nx_graph, with_labels=True, node_size=1500, font_weight='bold')\n",
    "plt.show()"
   ]
  },
  {
   "cell_type": "markdown",
   "metadata": {
    "id": "xus1m4WeR18p"
   },
   "source": [
    "This is more convenient than reading and understanding a graph from a structure like a nested dictionary. \n",
    "\n",
    "However, the visualisation still leaves something to be desired: the weights are not appearing! Let's solve this by first drawing only the vertices and then the weighted edges."
   ]
  },
  {
   "cell_type": "code",
   "execution_count": null,
   "metadata": {
    "id": "0lxWgPnmZqBw"
   },
   "outputs": [],
   "source": [
    "def show_weighted_graph(networkx_graph, node_size, font_size, fig_size):\n",
    "  # Allocate the given fig_size in order to have space for each node\n",
    "  plt.figure(num=None, figsize=fig_size, dpi=80)\n",
    "  plt.axis('off')\n",
    "  # Compute the position of each vertex in order to display it nicely\n",
    "  nodes_position = nx.spring_layout(networkx_graph) \n",
    "  # You can change the different layouts depending on your graph\n",
    "  # Extract the weights corresponding to each edge in the graph\n",
    "  edges_weights  = nx.get_edge_attributes(networkx_graph,'weight')\n",
    "  # Draw the nodes (you can change the color)\n",
    "  nx.draw_networkx_nodes(networkx_graph, nodes_position, node_size=node_size,  \n",
    "                         node_color = [\"orange\"]*networkx_graph.number_of_nodes())\n",
    "  # Draw only the edges\n",
    "  nx.draw_networkx_edges(networkx_graph, nodes_position, \n",
    "                         edgelist=list(networkx_graph.edges), width=2)\n",
    "  # Add the weights\n",
    "  nx.draw_networkx_edge_labels(networkx_graph, nodes_position, \n",
    "                               edge_labels = edges_weights)\n",
    "  # Add the labels of the nodes\n",
    "  nx.draw_networkx_labels(networkx_graph, nodes_position, font_size=font_size, \n",
    "                          font_family='sans-serif')\n",
    "  plt.axis('off')\n",
    "  plt.show()\n",
    "\n",
    "show_weighted_graph(dummy_nx_graph, 1500, 15, (10,5))"
   ]
  },
  {
   "cell_type": "markdown",
   "metadata": {
    "id": "tYpBMwwCjyO9"
   },
   "source": [
    "Even though we can now display graphs nicely, creating large graphs is still painful. That is why we are going to use another nice feature of `networkX` that allows creating a graph from a dictionary."
   ]
  },
  {
   "cell_type": "code",
   "execution_count": null,
   "metadata": {
    "id": "7BjROj_IkITT"
   },
   "outputs": [],
   "source": [
    "the_more_complex_graph = nx.Graph(more_complex_graph)\n",
    "show_weighted_graph(the_more_complex_graph, 2500, 12, (10,7))"
   ]
  },
  {
   "cell_type": "markdown",
   "metadata": {
    "id": "qOTNhuZmmIDm"
   },
   "source": [
    "The weights contained inside the dictionary are not displayed. That's because the library expects a specific format like the following:\n",
    "\n",
    "`{\"nodeA\" : {\"nodeB\" : {\"weight\" : 10}}}`\n",
    "\n",
    "Let's try:"
   ]
  },
  {
   "cell_type": "code",
   "execution_count": null,
   "metadata": {
    "id": "r0wRzZAIm2pV"
   },
   "outputs": [],
   "source": [
    "show_weighted_graph(nx.Graph({\"nodeA\" : {\"nodeB\" : {\"weight\" : 10}}}), 1000, 10, (5,5))"
   ]
  },
  {
   "cell_type": "markdown",
   "metadata": {
    "id": "dukTrEAln2yu"
   },
   "source": [
    "**Q. By filling the gaps below, reformat `more_complex_graph` in order to display it properly (with the weights).**"
   ]
  },
  {
   "cell_type": "code",
   "execution_count": null,
   "metadata": {
    "id": "oMeZX1-boh5P"
   },
   "outputs": [],
   "source": [
    "more_complex_dict = dict()\n",
    "\n",
    "for node, connected_elem in more_complex_graph.items():\n",
    "  # TO DO\n",
    "\n",
    "show_weighted_graph(nx.Graph(more_complex_dict), 2500, 12, (10,7))"
   ]
  },
  {
   "cell_type": "markdown",
   "metadata": {
    "id": "QsiFHZZiovJ8"
   },
   "source": [
    "Besides nice visualisation, `networkX` provides a lot of functions that are going to make our life easier. It can for instance give us the number of nodes (`<graph>.number_of_nodes()`), number of edges (`<graph>.number_of_edges()`), the name and values of nodes and edges (`list(<graph>.edges())` and `list(<graph>.nodes())`), the neighbours of a given node (`list(<graph>.neighbors(<node_name>))`), adjacencies and so on. \n",
    "\n",
    "For more information you can have a look at the documentation [here](https://networkx.github.io/documentation/stable/tutorial.html#).\n",
    "\n",
    "Now that we are a bit familiar with how to work with graphs using python, let's tackle some problems! "
   ]
  },
  {
   "cell_type": "markdown",
   "metadata": {
    "id": "5dlF_BbS3kK7"
   },
   "source": [
    "## 1. Find your way out!"
   ]
  },
  {
   "cell_type": "markdown",
   "metadata": {
    "id": "pD5xq5oWqXxr"
   },
   "source": [
    "One of the main application of tree search algorithms is to find a path between an initial state to a goal state. There are many problems that can be modelled in this framework, but in our first example, we are simply going to find our way out of a given labyrinth.\n"
   ]
  },
  {
   "cell_type": "markdown",
   "metadata": {
    "id": "NQk4f8Nz3kK9"
   },
   "source": [
    "Before proceeding with the rest of the exercises, **double check if the other auxiliary files are available in the same folder of this notebook**. The files include three data files with `json` extension and some (labyrinth) images.  If you don't remember how, refer to the previous lab manual, or just ask a demonstrator. "
   ]
  },
  {
   "cell_type": "markdown",
   "metadata": {
    "id": "SkU9x1vT3kK_"
   },
   "source": [
    "### 1.1. First steps"
   ]
  },
  {
   "cell_type": "markdown",
   "metadata": {
    "id": "tDTAb0zP3kLB"
   },
   "source": [
    "In this subsection you are going to find a path between the entrance (top left corner) and the exit (bottom right corner) of a given labyrinth using **BFS** and **DFS** algorithms.\n",
    "\n",
    "![Image of the first labyrinth](https://drive.google.com/uc?id=1h-IV8LNcAV2_c3IIIuOOJONjZCBz2bZw)\n",
    "\n",
    "The graph corresponding to this labyrinth is provided in the file **`small_labyrinth.json`**. Let's load it:"
   ]
  },
  {
   "cell_type": "code",
   "execution_count": null,
   "metadata": {
    "id": "77jbTd5svjZe"
   },
   "outputs": [],
   "source": [
    "import json\n",
    "\n",
    "def load_graph_from_file(filename):\n",
    "  with open(filename) as labyrinth_file:\n",
    "    dict_labyrinth = json.load(labyrinth_file)\n",
    "    return nx.Graph(dict_labyrinth)\n",
    "\n",
    "small_labyrinth = load_graph_from_file(\"small_labyrinth.json\")\n",
    "show_weighted_graph(small_labyrinth, 500, 10, (10,10))"
   ]
  },
  {
   "cell_type": "markdown",
   "metadata": {
    "id": "5Ia7V1Wo3llT"
   },
   "source": [
    "The cells named `entrance` and `exit` are self-explanatory and are respectively equivalent to `C00` and `C44`. All the other cells are named `CXY` where `X` corresponds to the row and `Y` column of the cell in the image.\n",
    "\n",
    "\n",
    "*NOTE: In this simple exercise, the arguably more difficult part is already done for us, which is to abstract the original problem (finding an exit path in a labyrinth) and cast is as a tree/graph search problem. This might not be the case in your coursework/exams, so take a moment to ponder about how this abstraction worked, and if you could have done it yoursef.*"
   ]
  },
  {
   "cell_type": "markdown",
   "metadata": {
    "id": "mTzXz7wP3kLH"
   },
   "source": [
    "### 1.2. Depth First Search (DFS)"
   ]
  },
  {
   "cell_type": "markdown",
   "metadata": {
    "id": "c9lUgP4u3kLJ"
   },
   "source": [
    "**Q. By filling the gaps below, write two python functions (a non-recursive and a recursive one) each returning a solution: a list of nodes composing the path found by DFS from the starting node to the node representing the goal state (including both). Alternatively, you can also return a list composing the edges that represent a solution path. Add the functionality to reverse the order of the explored nodes at each level.**\n",
    "\n",
    "*Hint: In your code, you can take advantage of the method `<graph>.neighbors(<node_name>)` to find which nodes are connected to another.*"
   ]
  },
  {
   "cell_type": "markdown",
   "metadata": {
    "id": "W04rMaiwGan5"
   },
   "source": [
    "### DFS - Non-recursive"
   ]
  },
  {
   "cell_type": "code",
   "execution_count": null,
   "metadata": {
    "id": "8PbQCibp5b32"
   },
   "outputs": [],
   "source": [
    "def construct_path_from_root(node, root):\n",
    "    # TO DO\n",
    " \n",
    "    return path_from_root\n",
    "\n",
    "\n",
    "def my_depth_first_graph_search(nxobject, initial, goal, compute_exploration_cost=False, reverse=False):\n",
    "    frontier = [{'label':initial, 'parent':None}]  \n",
    "    explored = {initial}\n",
    "    number_of_explored_nodes = 1 \n",
    "\n",
    "    while frontier:\n",
    "        # TO DO\n",
    "    return None"
   ]
  },
  {
   "cell_type": "markdown",
   "metadata": {
    "id": "7jyQw0CJ5i8d"
   },
   "source": [
    "You can now call your function with `small_labyrinth` (the example graph object we constructed before, representing our small labyrinth), `\"entrance\"` and `\"exit\"` as test arguments. Print the output list, and check if it should return `[\"entrance\", \"C10\", \"C11\", \"C21\", \"C31\", \"C32\", \"C22\", \"C23\", \"C33\", \"C34\", \"exit\"]`."
   ]
  },
  {
   "cell_type": "code",
   "execution_count": null,
   "metadata": {
    "id": "ATMLPdw16_mF"
   },
   "outputs": [],
   "source": [
    "solution = my_depth_first_graph_search(small_labyrinth, 'entrance', 'exit')\n",
    "construct_path_from_root(solution, 'entrance')"
   ]
  },
  {
   "cell_type": "markdown",
   "metadata": {
    "id": "B1IM5-5LK3hZ"
   },
   "source": [
    "### DFS - Recursive"
   ]
  },
  {
   "cell_type": "code",
   "execution_count": null,
   "metadata": {
    "id": "LZteK2nTLVHc"
   },
   "outputs": [],
   "source": [
    "def my_recursive_dfs_implementation(graph, origin, destination, already_visited = [], count=1, reverse=False):\n",
    "  # If I reach destination, I finish right here, return list with the final place\n",
    "  if origin == destination:\n",
    "    return [origin], count+1\n",
    "  # TO DO\n",
    "\n",
    "  # If no node works, I return empty string which would mean dead end\n",
    "  return [], count+1"
   ]
  },
  {
   "cell_type": "code",
   "execution_count": null,
   "metadata": {
    "id": "-JwANVbVMfxO"
   },
   "outputs": [],
   "source": [
    "path, _ = my_recursive_dfs_implementation(small_labyrinth, 'entrance', 'exit')\n",
    "print(path)"
   ]
  },
  {
   "cell_type": "markdown",
   "metadata": {
    "id": "7sEro7on3kLT"
   },
   "source": [
    "### 1.3. Breadth First Search (BFS)\n"
   ]
  },
  {
   "cell_type": "markdown",
   "metadata": {
    "id": "hJK7GfcJ7U7S"
   },
   "source": [
    "**Q. By filling the gaps below, write two functions (an implementation with a queue and an implementation with a list) taking the same inputs as before but returning the list containing the nodes that represent the path found by BFS.**"
   ]
  },
  {
   "cell_type": "markdown",
   "metadata": {
    "id": "4zQaO2ezF-8g"
   },
   "source": [
    "### BFS with a Queue"
   ]
  },
  {
   "cell_type": "code",
   "execution_count": null,
   "metadata": {
    "id": "y4j2g-OD8Lhh"
   },
   "outputs": [],
   "source": [
    "def my_breadth_first_graph_search(nxobject, initial, goal, compute_exploration_cost=False, reverse=False):\n",
    "    \n",
    "    if initial == goal: # just in case, because now we are checking the children\n",
    "        return None\n",
    "    \n",
    "    number_of_explored_nodes = 1    \n",
    "    frontier = [{'label':initial, 'parent':None}]  \n",
    "    # FIFO queue implementation with a list is slow. For bigger problems, better to use deque.\n",
    "    explored = {initial}\n",
    "    \n",
    "    while frontier:\n",
    "        # TO DO\n",
    "            \n",
    "    return None"
   ]
  },
  {
   "cell_type": "markdown",
   "metadata": {
    "id": "smbu5zu68L3e"
   },
   "source": [
    "Calling your new function with the same input as before, (`small_labyrinth`, `\"entrance\"` and `\"exit\"`) you should find exactly the same output: `[\"entrance\", \"C10\", \"C11\", \"C21\", \"C31\", \"C32\", \"C22\", \"C23\", \"C33\", \"C34\", \"exit\"]`\n"
   ]
  },
  {
   "cell_type": "code",
   "execution_count": null,
   "metadata": {
    "id": "XRgqkRO38PpE"
   },
   "outputs": [],
   "source": [
    "solution = my_breadth_first_graph_search(small_labyrinth, 'entrance', 'exit')\n",
    "construct_path_from_root(solution, 'entrance')"
   ]
  },
  {
   "cell_type": "markdown",
   "metadata": {
    "id": "yR04NJqIV8LX"
   },
   "source": [
    "### BFS with a Search Tree"
   ]
  },
  {
   "cell_type": "code",
   "execution_count": null,
   "metadata": {
    "id": "McC2QOVWWF4b"
   },
   "outputs": [],
   "source": [
    "def bfs_implementation(graph, origin, destination, counter = 0, reverse=False):\n",
    "  # Add current place to already_visited\n",
    "  next_already_visited = [origin]\n",
    "  # List of existent paths (for now only origin)\n",
    "  total_paths = [[origin]] \n",
    "\n",
    "  # Will perform exploration of all current paths\n",
    "  while len(total_paths)!= 0: \n",
    "    new_total_paths = []\n",
    "    # I check every single existing path for now\n",
    "    for path in total_paths:\n",
    "      # TO DO\n",
    " \n",
    "    # At the end, I need to explore only these \"new\" paths, until I reach destination, or run out of possible valid paths\n",
    "    total_paths = new_total_paths\n",
    "\n",
    "  # If no more possible paths, means solution does not exist\n",
    "  return [],-1"
   ]
  },
  {
   "cell_type": "code",
   "execution_count": null,
   "metadata": {
    "id": "heaMm1TFXEEY"
   },
   "outputs": [],
   "source": [
    "bfs_path, _ = bfs_implementation(small_labyrinth, 'entrance', 'exit')\n",
    "print(bfs_path)"
   ]
  },
  {
   "cell_type": "markdown",
   "metadata": {
    "id": "dwxoIYek8nSt"
   },
   "source": [
    "### 1.4. A bit of analysis\n",
    "\n",
    "You might wonder why we should implement both BFS and DFS if they output exactly the same path at the end. If it's not already clear, let's investigate a bit more: \n",
    "\n",
    "**Q. Modify your code so that it also returns the number of nodes visited along with the solution path. Then run the analysis below.** "
   ]
  },
  {
   "cell_type": "markdown",
   "metadata": {
    "id": "snxE_Bfkavql"
   },
   "source": [
    "###  BFS and DFS - Variation 1"
   ]
  },
  {
   "cell_type": "code",
   "execution_count": null,
   "metadata": {
    "id": "ZA-M1bkN_JBv"
   },
   "outputs": [],
   "source": [
    "solution_bfs = my_breadth_first_graph_search(small_labyrinth, 'entrance', 'exit', True)\n",
    "solution_dfs = my_depth_first_graph_search(small_labyrinth, 'entrance', 'exit', True)"
   ]
  },
  {
   "cell_type": "markdown",
   "metadata": {
    "id": "BZJnB3RMbS7m"
   },
   "source": [
    "### BFS and DFS - Variation 2"
   ]
  },
  {
   "cell_type": "code",
   "execution_count": null,
   "metadata": {
    "id": "tYG_1nNlbXKb"
   },
   "outputs": [],
   "source": [
    "bfs_path, number_visited_bfs = bfs_implementation(small_labyrinth, 'entrance', 'exit')\n",
    "print(\"Number of visited for BFS: {}\".format(number_visited_bfs))\n",
    "dfs_path, number_visited_dfs = my_recursive_dfs_implementation(small_labyrinth, 'entrance', 'exit')\n",
    "print(\"Number of visited for DFS: {}\".format(number_visited_dfs))"
   ]
  },
  {
   "cell_type": "markdown",
   "metadata": {
    "id": "mbS7Jq_E7ZIi"
   },
   "source": [
    "Now, for DFS, let's change the way you pick the next node. For instance, if the neighbours of a node are `[a, b, c]`, instead of visiting `a` first, let's visit `c` first."
   ]
  },
  {
   "cell_type": "markdown",
   "metadata": {
    "id": "e7t_kTTcbo0j"
   },
   "source": [
    "### BFS and DFS - Variation 1"
   ]
  },
  {
   "cell_type": "code",
   "execution_count": null,
   "metadata": {
    "id": "8v7_Iz8u7cI6"
   },
   "outputs": [],
   "source": [
    "solution_bfs2 = my_breadth_first_graph_search(small_labyrinth, 'entrance', 'exit', True, True)\n",
    "solution_dfs_2 = my_depth_first_graph_search(small_labyrinth, 'entrance', 'exit', True, True)"
   ]
  },
  {
   "cell_type": "markdown",
   "metadata": {
    "id": "zgbDxMl3a6yy"
   },
   "source": [
    "### BFS and DFS - Variation 2"
   ]
  },
  {
   "cell_type": "code",
   "execution_count": null,
   "metadata": {
    "id": "m6kHzm-nbB2t"
   },
   "outputs": [],
   "source": [
    "bfs_path_i, number_visited_bfs_inversed = bfs_implementation(small_labyrinth, 'entrance', 'exit', reverse=True)\n",
    "print(\"Number of visited for inversed BFS: {}\".format(number_visited_bfs_inversed))\n",
    "dfs_path_i, number_visited_dfs_inversed = my_recursive_dfs_implementation(small_labyrinth, 'entrance', 'exit', reverse=True)\n",
    "print(\"Number of visited for inversed DFS: {}\".format(number_visited_dfs_inversed))"
   ]
  },
  {
   "cell_type": "markdown",
   "metadata": {
    "id": "BYXVbh9NB0fi"
   },
   "source": [
    "If everything works well, the path returned should be exactly the same. But what about the number of cells you have visited? Can you do the same thing with BFS? Explain why."
   ]
  },
  {
   "cell_type": "markdown",
   "metadata": {
    "id": "9XJvNRwO3kLj"
   },
   "source": [
    "### 1.5. BFS or DFS?\n"
   ]
  },
  {
   "cell_type": "markdown",
   "metadata": {
    "id": "IN2j6eAFCsU_"
   },
   "source": [
    "The last subsection showed that how we choose to explore in DFS will impact the efficiency of the search. So why not just using BFS then? Let's try to understand why. \n",
    "\n",
    "\n",
    "Let's consider a larger labyrinth. Use your two search functions that you implemented in order to find a path between `\"entrance\"` and `\"exit\"`. The graph you are going to work with corresponds to the following labyrinth:\n",
    "\n",
    "![Image: a larger labyrinth example.](https://drive.google.com/uc?id=14KFgxnoM4P5UFSkb7Hth30YBR7QPAcRx)\n",
    "\n",
    "\n"
   ]
  },
  {
   "cell_type": "code",
   "execution_count": null,
   "metadata": {
    "id": "k8L5WLXBUFc3"
   },
   "outputs": [],
   "source": [
    "large_labyrinth = load_graph_from_file(\"large_labyrinth.json\")\n",
    "show_weighted_graph(large_labyrinth, 500, 10, (30, 30))"
   ]
  },
  {
   "cell_type": "markdown",
   "metadata": {
    "id": "_bM9HZTjdSbQ"
   },
   "source": [
    "### Variation 1"
   ]
  },
  {
   "cell_type": "code",
   "execution_count": null,
   "metadata": {
    "id": "hskENBmtXVxO"
   },
   "outputs": [],
   "source": [
    "# You can call both your BFS and DFS function in this cell with large_labyrinth, \"entrance\" and \"exit\".\n",
    "\n",
    "print('\\nUsing BFS:\\n'+'='*10)\n",
    "solution_bfs = my_breadth_first_graph_search(large_labyrinth, 'entrance', 'exit', True)\n",
    "print(construct_path_from_root(solution_bfs, 'entrance'))\n",
    "\n",
    "print('\\nUsing DFS:\\n'+'='*10)\n",
    "solution_dfs = my_depth_first_graph_search(large_labyrinth, 'entrance', 'exit', True)\n",
    "print(construct_path_from_root(solution_dfs, 'entrance'))\n"
   ]
  },
  {
   "cell_type": "markdown",
   "metadata": {
    "id": "yaxJyXlAdmsO"
   },
   "source": [
    "### Variation 2"
   ]
  },
  {
   "cell_type": "code",
   "execution_count": null,
   "metadata": {
    "id": "EMNDETrSdvTr"
   },
   "outputs": [],
   "source": [
    "print('\\nUsing BFS:\\n'+'='*10)\n",
    "bfs_path, number_visited_bfs = bfs_implementation(large_labyrinth, 'entrance', 'exit')\n",
    "print(\"Number of explorations: {}\".format(number_visited_bfs))\n",
    "print(bfs_path)\n",
    "\n",
    "print('\\nUsing DFS:\\n'+'='*10)\n",
    "dfs_path, number_visited_dfs = my_recursive_dfs_implementation(large_labyrinth, 'entrance', 'exit')\n",
    "print(\"Number of explorations: {}\".format(number_visited_dfs))\n",
    "print(dfs_path)"
   ]
  },
  {
   "cell_type": "markdown",
   "metadata": {
    "id": "M-x-_qP0ZnFf"
   },
   "source": [
    "By the way, both of your algorithms should output a list corresponding to the following solution:\n",
    "\n",
    "![alt text](https://drive.google.com/uc?id=1qTM-WlnWaUJNELzwgfpgR6qVuk-KrW9S)"
   ]
  },
  {
   "cell_type": "markdown",
   "metadata": {
    "id": "KM2rpUnJZ0cn"
   },
   "source": [
    "Let's now carry out the same analysis as before: how many nodes have been visited using DFS? using BFS? Can you come up with a \"rule\" or a \"trend\"?\n"
   ]
  },
  {
   "cell_type": "markdown",
   "metadata": {
    "id": "ChZMeAr8fr3A"
   },
   "source": [
    "### Variation 1"
   ]
  },
  {
   "cell_type": "code",
   "execution_count": null,
   "metadata": {
    "id": "R6gcZBY8_wjA"
   },
   "outputs": [],
   "source": [
    "print('\\nUsing BFS:\\n'+'='*10)\n",
    "solution_inversed_bfs = my_breadth_first_graph_search(large_labyrinth, 'entrance', 'exit', True, True)\n",
    "\n",
    "print('\\nUsing DFS:\\n'+'='*10)\n",
    "solution_inversed_dfs = my_depth_first_graph_search(large_labyrinth, 'entrance', 'exit', True, True)"
   ]
  },
  {
   "cell_type": "markdown",
   "metadata": {
    "id": "-8H_hN__fyxL"
   },
   "source": [
    "### Variation 2"
   ]
  },
  {
   "cell_type": "code",
   "execution_count": null,
   "metadata": {
    "id": "XDLQakcDf4S9"
   },
   "outputs": [],
   "source": [
    "print('\\nUsing BFS:\\n'+'='*10)\n",
    "bfs_path_i, number_visited_bfs_i = bfs_implementation(large_labyrinth, 'entrance', 'exit', reverse=True)\n",
    "print(\"Number of explorations: {}\".format(number_visited_bfs_i))\n",
    "\n",
    "print('\\nUsing DFS:\\n'+'='*10)\n",
    "dfs_path_i, number_visited_dfs_i = my_recursive_dfs_implementation(large_labyrinth, 'entrance', 'exit', reverse=True)\n",
    "print(\"Number of explorations: {}\".format(number_visited_dfs_i))"
   ]
  },
  {
   "cell_type": "markdown",
   "metadata": {
    "id": "WrIEIN_a__ii"
   },
   "source": [
    "Note that in both scenarios, DFS visits less states. The difference is even more obvious with big labyrinth with a lot of walls. On one hand, BFS ensures you to get the optimal solution on non weighted graph and is less efficient on trees with an important branching factor. On the other hand, DFS is more efficient of such problems but might explore more solutions than BFS if the graph is very deep."
   ]
  },
  {
   "cell_type": "markdown",
   "metadata": {
    "id": "iQIuWbO13kLt"
   },
   "source": [
    "# 2. Limits of BFS and DFS\n"
   ]
  },
  {
   "cell_type": "markdown",
   "metadata": {
    "id": "JQ9asL7M3kLu"
   },
   "source": [
    "In the previous examples, except for the number of nodes visited before finding the solution path, we cannot intuitively evaluate whether the solution path is good or bad since there exists only one path (the solution is unique). \n",
    "\n",
    "In some other problems, just finding a solution path is not enough or interesting, and we rather want to find the best possible solution (the one with the lowest cost). \n",
    "\n",
    "For instance, let's say for travelling from city A to city B, most of the travellers would prefer taking the shortest path. Let's see if BFS and DFS can help in such scenarios."
   ]
  },
  {
   "cell_type": "code",
   "execution_count": null,
   "metadata": {
    "id": "swMNaZtm3Xtd"
   },
   "outputs": [],
   "source": [
    "uk_cities = load_graph_from_file(\"UK_cities.json\")\n",
    "show_weighted_graph(uk_cities, 2500, 10, (50, 50))"
   ]
  },
  {
   "cell_type": "markdown",
   "metadata": {
    "id": "VMiR0F8E_rmg"
   },
   "source": [
    "Run both your DFS and BFS on this graph in order to find a path between London and Aberdeen. The arguments should be `\"uk_cities\", \"london\"` and `\"aberdeen\"`. \n",
    "\n"
   ]
  },
  {
   "cell_type": "markdown",
   "metadata": {
    "id": "bTy5yF_9gwdx"
   },
   "source": [
    "### Variation 1"
   ]
  },
  {
   "cell_type": "code",
   "execution_count": null,
   "metadata": {
    "id": "W0X_3iE9AUWW"
   },
   "outputs": [],
   "source": [
    "# Code to run and compute the cost of the path found by DFS and BFS\n",
    "solution_bfs_ = my_breadth_first_graph_search(uk_cities, 'london', 'aberdeen', True)\n",
    "print(\"Path found by BFS: {}\".format(construct_path_from_root(solution_bfs_, 'london')))\n",
    "solution_dfs_ = my_depth_first_graph_search(uk_cities, 'london', 'aberdeen', True)\n",
    "print(\"Path found by DFS: {}\".format(construct_path_from_root(solution_dfs_, 'london')))"
   ]
  },
  {
   "cell_type": "code",
   "execution_count": null,
   "metadata": {
    "id": "QbY4fpmo3kL3"
   },
   "outputs": [],
   "source": [
    "# Code to run and compute the cost of the path found by DFS and BFS\n",
    "solution_bfs_i = my_breadth_first_graph_search(uk_cities, 'london', 'aberdeen', True, True)\n",
    "print(\"Path found by inversed BFS: {}\".format(construct_path_from_root(solution_bfs_i, 'london')))\n",
    "solution_dfs_i = my_depth_first_graph_search(uk_cities, 'london', 'aberdeen', True, True)\n",
    "print(\"Path found by inversed DFS: {}\".format(construct_path_from_root(solution_dfs_i, 'london')))"
   ]
  },
  {
   "cell_type": "markdown",
   "metadata": {
    "id": "QzXr1Fihg6g6"
   },
   "source": [
    "### Variation 2"
   ]
  },
  {
   "cell_type": "code",
   "execution_count": null,
   "metadata": {
    "id": "JMUUwKGw3kL4"
   },
   "outputs": [],
   "source": [
    "bfs_path, number_visited_bfs = bfs_implementation(uk_cities, 'london', 'aberdeen')\n",
    "print(\"Number of explorations: {}\".format(number_visited_bfs))\n",
    "print(\"Path found by BFS: {}\".format(bfs_path))\n",
    "dfs_path, number_visited_dfs = my_recursive_dfs_implementation(uk_cities, 'london', 'aberdeen')\n",
    "print(\"Number of explorations: {}\".format(number_visited_dfs))\n",
    "print(\"Path found by DFS: {}\".format(dfs_path))"
   ]
  },
  {
   "cell_type": "code",
   "execution_count": null,
   "metadata": {
    "id": "8qn6-uJeiG6X"
   },
   "outputs": [],
   "source": [
    "bfs_path_i, number_visited_bfs_i = bfs_implementation(uk_cities, 'london', 'aberdeen', reverse=True)\n",
    "print(\"Number of explorations: {}\".format(number_visited_bfs_i))\n",
    "print(\"Path found by BFS: {}\".format(bfs_path_i))\n",
    "dfs_path_i, number_visited_dfs_i = my_recursive_dfs_implementation(uk_cities, 'london', 'aberdeen', reverse=True)\n",
    "print(\"Number of explorations: {}\".format(number_visited_dfs_i))\n",
    "print(\"Path found by DFS: {}\".format(dfs_path_i))"
   ]
  },
  {
   "cell_type": "markdown",
   "metadata": {
    "id": "-7q-qxX-iWXh"
   },
   "source": [
    "**Q. By filling the gaps below, compute the cost of the path found by each algorithm. Can you guarantee that you have the shortest path? Explain why.**"
   ]
  },
  {
   "cell_type": "code",
   "execution_count": null,
   "metadata": {
    "id": "iMr2PTmwmSPu"
   },
   "outputs": [],
   "source": [
    "def compute_path_cost(graph, path):\n",
    "  cost = 0\n",
    "  # TO DO\n",
    "  \n",
    "  return cost"
   ]
  },
  {
   "cell_type": "markdown",
   "metadata": {
    "id": "59LIma6AjUTR"
   },
   "source": [
    "### Variation 1\n",
    "\n",
    "For this implementation, we only have two generated paths."
   ]
  },
  {
   "cell_type": "code",
   "execution_count": null,
   "metadata": {
    "id": "ObW_c2yDj3QK"
   },
   "outputs": [],
   "source": [
    "path_one = construct_path_from_root(solution_dfs_, 'london')\n",
    "path_two = construct_path_from_root(solution_dfs_i, 'london')\n",
    "\n",
    "first_path_cost = compute_path_cost(uk_cities, path_one)\n",
    "second_path_cost = compute_path_cost(uk_cities, path_two)\n",
    "\n",
    "print(\"Cost for path {}: {}\".format(path_one, first_path_cost))\n",
    "print(\"Cost for path {}: {}\".format(path_two, second_path_cost))"
   ]
  },
  {
   "cell_type": "markdown",
   "metadata": {
    "id": "Dg2Vyj2fkeQl"
   },
   "source": [
    "###  Variation 2\n",
    "\n",
    "For this implementation, we have four different paths."
   ]
  },
  {
   "cell_type": "code",
   "execution_count": null,
   "metadata": {
    "id": "TwbpUv2emMkC"
   },
   "outputs": [],
   "source": [
    "bfs_cost_path = compute_path_cost(uk_cities, bfs_path)\n",
    "dfs_cost_path = compute_path_cost(uk_cities, dfs_path)\n",
    "inversed_bfs_cost_path = compute_path_cost(uk_cities, bfs_path_i)\n",
    "inversed_dfs_cost_path = compute_path_cost(uk_cities, dfs_path_i)\n",
    "\n",
    "print(\"Cost for BFS path {}: {}\".format(bfs_path, bfs_cost_path))\n",
    "print(\"Cost for DFS path {}: {}\".format(dfs_path, dfs_cost_path))\n",
    "print(\"Cost for inversed BFS path {}: {}\".format(bfs_path_i, inversed_bfs_cost_path))\n",
    "print(\"Cost for inversed DFS path {}: {}\".format(dfs_path_i, inversed_dfs_cost_path))"
   ]
  }
 ],
 "metadata": {
  "colab": {
   "collapsed_sections": [],
   "name": "Lab3.ipynb",
   "provenance": [
    {
     "file_id": "1LChwfyOkw-pa6WQOxhEb5uQxNT-vwbvt",
     "timestamp": 1641648559206
    }
   ],
   "toc_visible": true
  },
  "kernelspec": {
   "display_name": "Python 3",
   "language": "python",
   "name": "python3"
  },
  "language_info": {
   "codemirror_mode": {
    "name": "ipython",
    "version": 3
   },
   "file_extension": ".py",
   "mimetype": "text/x-python",
   "name": "python",
   "nbconvert_exporter": "python",
   "pygments_lexer": "ipython3",
   "version": "3.7.4"
  }
 },
 "nbformat": 4,
 "nbformat_minor": 1
}
