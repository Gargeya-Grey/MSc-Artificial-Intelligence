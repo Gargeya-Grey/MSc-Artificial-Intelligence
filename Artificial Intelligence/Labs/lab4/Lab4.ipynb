{
 "cells": [
  {
   "cell_type": "markdown",
   "metadata": {
    "id": "c07R-sKwROm3"
   },
   "source": [
    "# ECS759P Lab4 - Evolutionary Algorithms"
   ]
  },
  {
   "cell_type": "markdown",
   "metadata": {
    "id": "Hohe3h_xNkad"
   },
   "source": [
    "## Recap\n",
    "\n",
    "Last week we went through examples of **informed** and **local** search algorithms. In this lab, we will deal with the features and problems shared by most evolutionary algorithms. You will then practice implementing a Genetic Algorithm to solve the Traveling Salesperson Problem (TSP) problem. We will use Distributed Evolutionary Algorithms in Python (DEAP), a Python library for evolutionary computation in this lab.\n",
    "\n",
    "Throughout this lab, you will need to refer to the [DEAP API documentation](https://deap.readthedocs.io/en/master/api/)."
   ]
  },
  {
   "cell_type": "markdown",
   "metadata": {
    "id": "8CEI_-msROm7"
   },
   "source": [
    "# 0. Elements to take into account using evolutionary algorithms\n"
   ]
  },
  {
   "cell_type": "markdown",
   "metadata": {
    "id": "vn1KxXakROm8"
   },
   "source": [
    "- **Individual representation** (binary, Gray, floating-point, etc.);\n",
    "- **Evaluation and fitness assignment**;\n",
    "- **Mating selection**: that establishes a partial order of individuals in the population using their fitness function value as reference and determines the degree at which individuals in the population will take part in the generation of new (offspring) individuals.\n",
    "- **Variation**: that applies a range of evolution-inspired operators, like crossover, mutation, etc., to synthesize offspring individuals from the current (parent) population. This process is supposed to prime the fittest individuals so they play a bigger role in the generation of the offspring.\n",
    "- **Environmental selection**: that merges the parent and offspring individuals to produce the population that will be used in the next iteration. This process often involves the deletion of some individuals using a given criterion in order to keep the amount of individuals bellow a certain threshold.\n",
    "- **Stopping criterion**: that determines when the algorithm shoulod be stopped, either because the optimum was reach or because the optimization process is not progressing."
   ]
  },
  {
   "cell_type": "markdown",
   "metadata": {
    "id": "p1XVz1NBROm9"
   },
   "source": [
    "## Hence a 'general' evolutionary algorithm can be described as"
   ]
  },
  {
   "cell_type": "code",
   "execution_count": null,
   "metadata": {
    "colab": {
     "base_uri": "https://localhost:8080/",
     "height": 1000
    },
    "executionInfo": {
     "elapsed": 1588,
     "status": "ok",
     "timestamp": 1640051703236,
     "user": {
      "displayName": "julia ive",
      "photoUrl": "https://lh3.googleusercontent.com/a/default-user=s64",
      "userId": "11396706016758891847"
     },
     "user_tz": 0
    },
    "id": "C1DnADknVW-y",
    "outputId": "b61b42cd-f7c3-4bf4-f21c-39beb74ae556"
   },
   "outputs": [],
   "source": [
    "def evolutionary_algorithm():\n",
    "    'Pseudocode of an evolutionary algorithm'    \n",
    "    populations = [] # a list with all the populations\n",
    "\n",
    "    populations[0] =  initialize_population(pop_size)\n",
    "    t = 0\n",
    "\n",
    "    while not stop_criterion(populations[t]):\n",
    "        fitnesses = evaluate(populations[t])\n",
    "        offspring = matting_and_variation(populations[t], fitnesses)\n",
    "        populations[t+1] = environmental_selection(populations[t], offspring)\n",
    "        t = t+1"
   ]
  },
  {
   "cell_type": "markdown",
   "metadata": {
    "id": "lei4BzZJSm9r"
   },
   "source": [
    "# 1. The One Max problem"
   ]
  },
  {
   "cell_type": "markdown",
   "metadata": {
    "id": "n78ondcpROnA"
   },
   "source": [
    "Lets start with an example, the One Max problem, and analyze it. Here is the problem:\n",
    "- Maximize the number of ones in a binary string (list, vector, etc.).\n",
    "- More formally, from the set of binary strings of length $n$,\n",
    "\n",
    "$$\\mathcal{S}=\\{s_1,\\ldots,s_n\\}, \\text{ with } s_i=\\{0,1\\}.$$\n",
    "\n",
    "- Find $s^∗∈\\mathcal{S}$ such that \n",
    "\n",
    "$$s^∗=argmax_{s∈\\mathcal{S}}\\sum_{i=1}^{n}s_i.$$\n",
    "\n",
    "- It is clear that the optimum is an all-ones string."
   ]
  },
  {
   "cell_type": "code",
   "execution_count": null,
   "metadata": {
    "executionInfo": {
     "elapsed": 355,
     "status": "ok",
     "timestamp": 1640053066363,
     "user": {
      "displayName": "julia ive",
      "photoUrl": "https://lh3.googleusercontent.com/a/default-user=s64",
      "userId": "11396706016758891847"
     },
     "user_tz": 0
    },
    "id": "1c91wz1AxjEy"
   },
   "outputs": [],
   "source": [
    "import random\n",
    "from deap import algorithms, base, creator, tools"
   ]
  },
  {
   "cell_type": "markdown",
   "metadata": {},
   "source": [
    "### Essential features\n",
    "\n",
    "- `deap.creator`: meta-factory allowing to create classes that will fulfill the needs of your evolutionary algorithms.\n",
    "- `deap.base.Toolbox`: A toolbox for evolution that contains the evolutionary operators. You may populate the toolbox with any other function by using the register() method\n",
    "- `deap.base.Fitness([values])`: The fitness is a measure of quality of a solution. If values are provided as a tuple, the fitness is initalized using those values, otherwise it is empty (or invalid). You should inherit from this class to define your custom fitnesses."
   ]
  },
  {
   "cell_type": "code",
   "execution_count": null,
   "metadata": {},
   "outputs": [],
   "source": [
    "# create a max fitness function. Here the fitness has only one value \n",
    "# with the weight of 1.0\n",
    "# In general the fitness can have multiple values when there are \n",
    "# multiple objectives (you will learn about it later in the module). \n",
    "# Then, each objective will have a weight value\n",
    "creator.create(\"FitnessMax\", base.Fitness, weights=(1.0,))\n",
    "# specify that an individual is a list\n",
    "creator.create(\"Individual\", list, fitness=creator.FitnessMax)"
   ]
  },
  {
   "cell_type": "code",
   "execution_count": null,
   "metadata": {},
   "outputs": [],
   "source": [
    "# define the function to compute the fitness\n",
    "def evalOneMax(individual):\n",
    "    return (sum(individual),)"
   ]
  },
  {
   "cell_type": "markdown",
   "metadata": {
    "id": "fyWLMSLRjPFi"
   },
   "source": [
    "### Defining the elements\n"
   ]
  },
  {
   "cell_type": "code",
   "execution_count": null,
   "metadata": {},
   "outputs": [],
   "source": [
    "toolbox = base.Toolbox()"
   ]
  },
  {
   "cell_type": "code",
   "execution_count": null,
   "metadata": {},
   "outputs": [],
   "source": [
    "toolbox.register(\"attr_bool\", random.randint, 0, 1)\n",
    "toolbox.register(\"individual\", tools.initRepeat, creator.Individual,\n",
    "                 toolbox.attr_bool, n=100)\n",
    "toolbox.register(\"population\", tools.initRepeat, list, \n",
    "                 toolbox.individual)"
   ]
  },
  {
   "cell_type": "code",
   "execution_count": null,
   "metadata": {},
   "outputs": [],
   "source": [
    "toolbox.register(\"evaluate\", evalOneMax)\n",
    "toolbox.register(\"mate\", tools.cxTwoPoint)\n",
    "toolbox.register(\"mutate\", tools.mutFlipBit, indpb=0.05)\n",
    "toolbox.register(\"select\", tools.selTournament, tournsize=3)"
   ]
  },
  {
   "cell_type": "markdown",
   "metadata": {},
   "source": [
    "### Running the experiment"
   ]
  },
  {
   "cell_type": "code",
   "execution_count": null,
   "metadata": {
    "executionInfo": {
     "elapsed": 358,
     "status": "ok",
     "timestamp": 1640053805398,
     "user": {
      "displayName": "julia ive",
      "photoUrl": "https://lh3.googleusercontent.com/a/default-user=s64",
      "userId": "11396706016758891847"
     },
     "user_tz": 0
    },
    "id": "_pLZshJfypXh"
   },
   "outputs": [],
   "source": [
    "# Generate an initial population of 300 individuals\n",
    "pop = toolbox.population(n=300)"
   ]
  },
  {
   "cell_type": "code",
   "execution_count": null,
   "metadata": {
    "colab": {
     "base_uri": "https://localhost:8080/"
    },
    "executionInfo": {
     "elapsed": 469,
     "status": "ok",
     "timestamp": 1640053838172,
     "user": {
      "displayName": "julia ive",
      "photoUrl": "https://lh3.googleusercontent.com/a/default-user=s64",
      "userId": "11396706016758891847"
     },
     "user_tz": 0
    },
    "id": "P4uII8tNldqB",
    "outputId": "ddea5e9c-1ba9-4fc8-ef31-172c40533f08"
   },
   "outputs": [],
   "source": [
    "# run the predefined simple evolutionary algorithm (eaSimple) for 10 generations\n",
    "result = algorithms.eaSimple(pop, toolbox, cxpb=0.5, mutpb=0.2, \n",
    "                             ngen=10, verbose=False)"
   ]
  },
  {
   "cell_type": "code",
   "execution_count": null,
   "metadata": {},
   "outputs": [],
   "source": [
    "print('Current best fitness:', evalOneMax(tools.selBest(pop, k=1)[0]))"
   ]
  },
  {
   "cell_type": "code",
   "execution_count": null,
   "metadata": {},
   "outputs": [],
   "source": [
    "# run the algorithm for another 50 generations\n",
    "result = algorithms.eaSimple(pop, toolbox, cxpb=0.5, mutpb=0.2, \n",
    "                             ngen=50, verbose=False)"
   ]
  },
  {
   "cell_type": "code",
   "execution_count": null,
   "metadata": {},
   "outputs": [],
   "source": [
    "print('Current best fitness:', evalOneMax(tools.selBest(pop, k=1)[0]))"
   ]
  },
  {
   "cell_type": "markdown",
   "metadata": {},
   "source": [
    "# 2. Basic operators of genetic algorithms\n"
   ]
  },
  {
   "cell_type": "markdown",
   "metadata": {},
   "source": [
    "### Defining an individual\n",
    "\n",
    "First import the required modules and register the different functions required to create individuals that are a list of floats with a minimizing two objectives fitness (in general, more than one value can be used as fitness)."
   ]
  },
  {
   "cell_type": "code",
   "execution_count": null,
   "metadata": {
    "colab": {
     "base_uri": "https://localhost:8080/"
    },
    "executionInfo": {
     "elapsed": 226,
     "status": "ok",
     "timestamp": 1640089758879,
     "user": {
      "displayName": "julia ive",
      "photoUrl": "https://lh3.googleusercontent.com/a/default-user=s64",
      "userId": "11396706016758891847"
     },
     "user_tz": 0
    },
    "id": "WhX78LKUj9pk",
    "outputId": "304219ca-dc85-49b8-d573-3bad7523cba5"
   },
   "outputs": [],
   "source": [
    "import random\n",
    "\n",
    "from deap import base\n",
    "from deap import creator\n",
    "from deap import tools"
   ]
  },
  {
   "cell_type": "code",
   "execution_count": null,
   "metadata": {
    "colab": {
     "base_uri": "https://localhost:8080/",
     "height": 247
    },
    "executionInfo": {
     "elapsed": 4745,
     "status": "ok",
     "timestamp": 1640053888535,
     "user": {
      "displayName": "julia ive",
      "photoUrl": "https://lh3.googleusercontent.com/a/default-user=s64",
      "userId": "11396706016758891847"
     },
     "user_tz": 0
    },
    "id": "v-kkEXmHwYDF",
    "outputId": "55c4b1ad-4de6-454a-da13-fa5802bb0cf4"
   },
   "outputs": [],
   "source": [
    "# length of the one individual presentation (i.e. the chromosome length)\n",
    "IND_SIZE = 5"
   ]
  },
  {
   "cell_type": "code",
   "execution_count": null,
   "metadata": {},
   "outputs": [],
   "source": [
    "creator.create(\"FitnessMin\", base.Fitness, weights=(-1.0, -1.0))\n",
    "creator.create(\"Individual\", list, fitness=creator.FitnessMin)\n",
    "\n",
    "toolbox1 = base.Toolbox()\n",
    "toolbox1.register(\"attr_float\", random.random)\n",
    "toolbox1.register(\"individual\", tools.initRepeat, creator.Individual,\n",
    "                  toolbox1.attr_float, n=IND_SIZE)"
   ]
  },
  {
   "cell_type": "markdown",
   "metadata": {},
   "source": [
    "The first individual can now be built"
   ]
  },
  {
   "cell_type": "code",
   "execution_count": null,
   "metadata": {},
   "outputs": [],
   "source": [
    "ind1 = toolbox1.individual()\n",
    "# Printing the individual ind1\n",
    "print(ind1)\n",
    "# Checking if its fitness is valid\n",
    "print(ind1.fitness.valid)"
   ]
  },
  {
   "cell_type": "markdown",
   "metadata": {},
   "source": [
    "In the code block above, the individual is printed as its base class representation (here a `list`) and the fitness is invalid because it contains no values."
   ]
  },
  {
   "cell_type": "markdown",
   "metadata": {
    "id": "8rgvRhG8zW6X"
   },
   "source": [
    "### Evaluation\n",
    "\n",
    "The evaluation is the most \"personal\" part of an evolutionary algorithm\n",
    "\n",
    "- It is the only part of the library that you must write yourself.\n",
    "- A typical evaluation function takes one individual as argument and return its fitness as a tuple.\n",
    "- A fitness is a list of floating point values and has a property valid to know if this individual shall be re-evaluated.\n",
    "- The fitness is set by setting the values to the associated tuple."
   ]
  },
  {
   "cell_type": "markdown",
   "metadata": {},
   "source": [
    "For example, the following evaluates the previously created individual `ind1` and assign its fitness to the corresponding values."
   ]
  },
  {
   "cell_type": "code",
   "execution_count": null,
   "metadata": {
    "colab": {
     "base_uri": "https://localhost:8080/"
    },
    "executionInfo": {
     "elapsed": 205,
     "status": "ok",
     "timestamp": 1640084113683,
     "user": {
      "displayName": "julia ive",
      "photoUrl": "https://lh3.googleusercontent.com/a/default-user=s64",
      "userId": "11396706016758891847"
     },
     "user_tz": 0
    },
    "id": "kraNSyRG5Ufw",
    "outputId": "367bc57d-cca3-4c9a-8784-806ca2a84066"
   },
   "outputs": [],
   "source": [
    "# individual is a list\n",
    "# the fitness is composed of two values, sum and inversed length of the list\n",
    "def evaluate(individual):\n",
    "    # Do some hard computing on the individual\n",
    "    a = sum(individual)\n",
    "    b = len(individual)\n",
    "    return a, 1. / b"
   ]
  },
  {
   "cell_type": "code",
   "execution_count": null,
   "metadata": {},
   "outputs": [],
   "source": [
    "# evaluate the individual ind1\n",
    "ind1.fitness.values = evaluate(ind1)\n",
    "print(ind1.fitness.valid)\n",
    "print(ind1.fitness)"
   ]
  },
  {
   "cell_type": "markdown",
   "metadata": {
    "id": "Uq0eWgb55dui"
   },
   "source": [
    "Dealing with single objective fitness is not different, the evaluation function must return a tuple because single-objective is treated as a special case of multi-objective."
   ]
  },
  {
   "cell_type": "markdown",
   "metadata": {},
   "source": [
    "### Mutation\n",
    "- The next kind of operator that we will present is the mutation operator.\n",
    "- There is a variety of mutation operators in the `deap.tools` module.\n",
    "- Each mutation has its own characteristics and may be applied to different type of individual.\n",
    "- Be careful to read the documentation of the selected operator in order to avoid undesirable behaviour.\n",
    "\n",
    "The general rule for mutation operators is that they only mutate, this means that an independent copy must be made prior to mutating the individual if the original individual has to be kept or is a reference to an other individual (see the selection operator)."
   ]
  },
  {
   "cell_type": "markdown",
   "metadata": {},
   "source": [
    "In order to apply a mutation (here a gaussian mutation) on the individual `ind1`, simply apply the desired function."
   ]
  },
  {
   "cell_type": "code",
   "execution_count": null,
   "metadata": {},
   "outputs": [],
   "source": [
    "# create the copy of ind1\n",
    "mutant = toolbox1.clone(ind1)\n",
    "# mutate the copied individual to create ind2\n",
    "# mu: is the mean of the gaussian addition mutation\n",
    "# sigma: is the standard deviation of the gaussian addition mutation\n",
    "# indpb: independent probability for each attribute to be mutated.\n",
    "ind2, = tools.mutGaussian(mutant, mu=0.0, sigma=0.2, indpb=0.2)\n",
    "# delete the fitness’ values of the new individual ind2 (i.e. mutant)\n",
    "del mutant.fitness.values"
   ]
  },
  {
   "cell_type": "markdown",
   "metadata": {},
   "source": [
    "The fitness’ values are deleted because they are not related to the individual anymore. As stated above, the mutation does mutate and only mutate an individual it is not responsible of invalidating the fitness nor anything else. The following shows that `ind2` and mutant are in fact the same individual."
   ]
  },
  {
   "cell_type": "code",
   "execution_count": null,
   "metadata": {},
   "outputs": [],
   "source": [
    "ind2 is mutant"
   ]
  },
  {
   "cell_type": "code",
   "execution_count": null,
   "metadata": {},
   "outputs": [],
   "source": [
    "mutant is ind2"
   ]
  },
  {
   "cell_type": "markdown",
   "metadata": {},
   "source": [
    "### Crossover\n",
    "- There is a variety of crossover operators in the `deap.tools` module.\n",
    "- Each crossover has its own characteristics and may be applied to different type of individuals.\n",
    "- Be careful to read the documentation of the selected operator in order to avoid undesirable behaviour.\n",
    "\n",
    "The general rule for crossover operators is that they only mate individuals, this means that an independent copies must be made prior to mating the individuals if the original individuals have to be kept or are references to other individuals (see the selection operator)."
   ]
  },
  {
   "cell_type": "markdown",
   "metadata": {},
   "source": [
    "Lets apply a crossover operation to produce the two children that are cloned beforehand."
   ]
  },
  {
   "cell_type": "code",
   "execution_count": null,
   "metadata": {},
   "outputs": [],
   "source": [
    "# clone ind1 and ind2 to create child1 and child2, respectively\n",
    "child1, child2 = [toolbox1.clone(ind) for ind in (ind1, ind2)]\n",
    "# execute a blend crossover (cxBlend) that modifies in-place the input individuals\n",
    "# alpha=0.5: the extent of the interval in which the new values can be drawn for each attribute on both side of the parents’ attributes.\n",
    "tools.cxBlend(child1, child2, 0.5)\n",
    "del child1.fitness.values\n",
    "del child2.fitness.values"
   ]
  },
  {
   "cell_type": "markdown",
   "metadata": {},
   "source": [
    "### Selection\n",
    "- Selection is made among a population by the selection operators that are available in the `deap.operators` module.\n",
    "- The selection operator usually takes as first argument an iterable container of individuals and the number of individuals to select. It returns a list containing the references to the selected individuals.\n",
    "\n",
    "The selection is made as follow."
   ]
  },
  {
   "cell_type": "code",
   "execution_count": null,
   "metadata": {},
   "outputs": [],
   "source": [
    "selected = tools.selBest([child1, child2], 2)\n",
    "child1 in selected"
   ]
  },
  {
   "cell_type": "markdown",
   "metadata": {},
   "source": [
    "**Q: Do you know why the above block should return \"True\"?**"
   ]
  },
  {
   "cell_type": "markdown",
   "metadata": {},
   "source": [
    "### Using the Toolbox\n",
    "- The toolbox is intended to contain all the evolutionary tools, from the object initializers to the evaluation operator.\n",
    "- It allows easy configuration of each algorithms.\n",
    "- The toolbox has basically two methods, `register()` and `unregister()`, that are used to add or remove tools from the toolbox.\n",
    "- The usual names for the evolutionary tools are `mate()`, `mutate()`, `evaluate()` and `select()`, however, any name can be registered as long as it is unique. Here is how they are registered in the toolbox."
   ]
  },
  {
   "cell_type": "code",
   "execution_count": null,
   "metadata": {},
   "outputs": [],
   "source": [
    "from deap import base\n",
    "from deap import tools\n",
    "\n",
    "toolbox1 = base.Toolbox()\n",
    "\n",
    "def evaluateInd(individual):\n",
    "    # Do some computation\n",
    "    return result,\n",
    "\n",
    "toolbox1.register(\"mate\", tools.cxTwoPoint)\n",
    "toolbox1.register(\"mutate\", tools.mutGaussian, mu=0, sigma=1, indpb=0.2)\n",
    "toolbox1.register(\"select\", tools.selTournament, tournsize=3)\n",
    "toolbox1.register(\"evaluate\", evaluateInd)"
   ]
  },
  {
   "cell_type": "markdown",
   "metadata": {},
   "source": [
    "### Algorithms\n",
    "- There are several algorithms implemented in the algorithms module (such as `eaSimple()`, `eaMuPlusLambda()`, `eaMuCommaLambda()`, or `eaGenerateUpdate()`).\n",
    "- They are very simple and reflect the basic types of evolutionary algorithms present in the literature.\n",
    "- The algorithms use a Toolbox as defined in the last sections.\n",
    "- In order to setup a toolbox for an algorithm, you must register the desired operators under a specified names, refer to the documentation of the selected algorithm for more details.\n",
    "- Once the toolbox is ready, it is time to launch the algorithm."
   ]
  },
  {
   "cell_type": "markdown",
   "metadata": {},
   "source": [
    "For example, the _simple evolutionary algorithm_ takes 5 arguments, a population, a toolbox, a probability of mating each individual at each generation (`cxpb`), a probability of mutating each individual at each generation (`mutpb`) and a number of generations to accomplish (`ngen`)."
   ]
  },
  {
   "cell_type": "code",
   "execution_count": null,
   "metadata": {},
   "outputs": [],
   "source": [
    "from deap import algorithms\n",
    "\n",
    "result = algorithms.eaSimple(pop, toolbox, cxpb=0.5, mutpb=0.2, ngen=50)"
   ]
  },
  {
   "cell_type": "markdown",
   "metadata": {},
   "source": [
    "# 3. Using Genetic Algorithms to solve the Traveling Salesperson Problem"
   ]
  },
  {
   "cell_type": "markdown",
   "metadata": {},
   "source": [
    "### Traveling Salesperson Problem (TSP)\n",
    "\n",
    "_Given a set of cities, and the distances between each pair of cities, find a tour of the cities with the minimum total distance. A tour means you start at one city, visit every other city exactly once, and then return to the starting city._\n",
    "\n",
    "- This is a well-known intractable problem, meaning that there are no efficient solutions that work for a large number of cities.\n",
    "- We can create an inefficient algorithm that works fine for a small number of cites (about a dozen).\n",
    "- We can also find a nearly-shortest tour over thousands of cities.\n",
    "- Actually, the fact there is no efficient algorithm is liberating. This means that we can use a very simple, inefficient algorithm and not feel too bad about it :)."
   ]
  },
  {
   "cell_type": "markdown",
   "metadata": {},
   "source": [
    "The vocabulary of the problem:\n",
    "\n",
    "- City: For the purpose of this lab, a city is \"atomic\" in the sense that we don't have to know anything about the components or attributes of a city, just how far it is from other cities.\n",
    "- Cities: We will need to represent a set of cities; Python's `set` datatype might be appropriate for that.\n",
    "- Distance: We will need the distance between two cities. If A and B are cities. This could be done with a function, `distance(A, B)`, or with a `dict`, `distance[A][B]` or `distance[A, B]`, or with an array if `A` and `B` are integer indexes. The resulting distance will be a real number (which Python calls a `float`).\n",
    "- Tour: A tour is an ordered list of cities; Python's `list` or `tuple` datatypes would work.\n",
    "- Total distance: The sum of the distances of adjacent cities in the tour. We will probably have a function, `total_distance(tour)`."
   ]
  },
  {
   "cell_type": "code",
   "execution_count": null,
   "metadata": {},
   "outputs": [],
   "source": [
    "# some initialization before we get to business\n",
    "\n",
    "import random, operator, time, itertools, math\n",
    "import numpy\n",
    "\n",
    "# useful for visualization\n",
    "import matplotlib.pyplot as plt\n",
    "import matplotlib.colors as colors\n",
    "import matplotlib.cm as cmx\n",
    "\n",
    "%matplotlib inline\n",
    "%config InlineBackend.figure_format = 'retina'\n",
    "plt.rc('text', usetex=True)\n",
    "plt.rc('font', family='serif')\n",
    "plt.rcParams['text.latex.preamble'] ='\\\\usepackage{libertine}\\n\\\\usepackage[utf8]{inputenc}'\n",
    "\n",
    "import seaborn\n",
    "seaborn.set(style='whitegrid')\n",
    "seaborn.set_context('notebook')"
   ]
  },
  {
   "cell_type": "markdown",
   "metadata": {},
   "source": [
    "### Representing Tours\n",
    "- A tour starts in one city, and then visits each of the other cities in order, before finally returning to the starting city.\n",
    "- A natural representation of the set of available cities is a Python set, and a natural representation of a tour is a sequence that is a _permutation_ of the set.\n",
    "- The tuple `(1, 2, 3)`, for example, represents a tour that starts in city 1, moves to 2, then 3, and then returns to 1 to finish the tour."
   ]
  },
  {
   "cell_type": "code",
   "execution_count": null,
   "metadata": {},
   "outputs": [],
   "source": [
    "# The permutation function is already defined in the itertools module\n",
    "alltours = itertools.permutations\n",
    "cities = {1, 2, 3}\n",
    "list(alltours(cities))"
   ]
  },
  {
   "cell_type": "markdown",
   "metadata": {},
   "source": [
    "### Representing Cities and Distance\n",
    "Now for the notion of _distance_. We define `total_distance(tour)` as the sum of the distances between consecutive cities in the tour; that part is shown below and is easy (with one Python-specific trick: when `i` is 0, then `distance(tour[0], tour[-1])` gives us the wrap-around distance between the first and last cities, because `tour[-1]` is the last element of `tour`)."
   ]
  },
  {
   "cell_type": "code",
   "execution_count": null,
   "metadata": {},
   "outputs": [],
   "source": [
    "def total_distance(tour):\n",
    "    \"The total distance between each pair of consecutive cities in the tour.\"\n",
    "    return sum(distance(tour[i], tour[i-1]) for i in range(len(tour)))"
   ]
  },
  {
   "cell_type": "markdown",
   "metadata": {},
   "source": [
    "### Distance between cities\n",
    "Before we can define `distance(A, B)`, the distance between two cities, we have to make a choice. In the fully general version of the TSP problem, the distance between two cities could be anything: it could be the amount of time it takes to travel between cities, the number of money it costs, or anything else.\n",
    "\n",
    "How will we represent a two-dimensional point? Here are some choices, with their pros and cons:\n",
    "\n",
    "- Tuple: A point (or city) is a two-tuple of _(x, y)_ coordinates, for example, `(300, 0)`.\n",
    "- class: Define `City` as a custom class with `x` and `y` fields.\n",
    "- complex: Python already has the two-dimensional point as a built-in numeric data type, but in a non-obvious way: as __complex numbers__, which inhabit the two-dimensional (real × complex) plane. We can make this use more explicit by defining `City = complex`, meaning that we can construct the representation of a city using the same constructor that makes complex numbers.\n",
    "- subclass: Define `class Point(complex): pass`, meaning that points are a subclass of complex numbers.\n",
    "- subclass with properties: Define `class Point(complex): x, y = property(lambda p: p.real), property(lambda p: p.imag)`.\n",
    "\n",
    "From possible alternatives, let's chose to go with `complex` numbers:"
   ]
  },
  {
   "cell_type": "code",
   "execution_count": null,
   "metadata": {},
   "outputs": [],
   "source": [
    "City = complex # Constructor for new cities, e.g. City(300, 400)"
   ]
  },
  {
   "cell_type": "code",
   "execution_count": null,
   "metadata": {},
   "outputs": [],
   "source": [
    "def distance(A, B): \n",
    "    \"The Euclidean distance between two cities.\"\n",
    "    # TO DO\n",
    "    \n",
    "    return ..."
   ]
  },
  {
   "cell_type": "code",
   "execution_count": null,
   "metadata": {},
   "outputs": [],
   "source": [
    "# have a small test\n",
    "A = City(300, 0)\n",
    "B = City(0, 400)\n",
    "distance(A, B)"
   ]
  },
  {
   "cell_type": "code",
   "execution_count": null,
   "metadata": {},
   "outputs": [],
   "source": [
    "def generate_cities(n):\n",
    "    \"Make a set of n cities, each with random coordinates.\"\n",
    "    \"E.g., x coordinate between (10, 890) and y coordinate between (10, 590)\"\n",
    "    # TO DO\n",
    "    "
   ]
  },
  {
   "cell_type": "code",
   "execution_count": null,
   "metadata": {},
   "outputs": [],
   "source": [
    "# Let's try to generate some generations\n",
    "cities8, cities10, cities100, cities1000 = generate_cities(8), generate_cities(10), generate_cities(100), generate_cities(1000)\n",
    "# print out one for sanity check\n",
    "cities8"
   ]
  },
  {
   "cell_type": "markdown",
   "metadata": {},
   "source": [
    "A cool thing is to be able to plot a tour (this will be used later)"
   ]
  },
  {
   "cell_type": "code",
   "execution_count": null,
   "metadata": {},
   "outputs": [],
   "source": [
    "def plot_tour(tour, alpha=1, color=None):\n",
    "    # Plot the tour as blue lines between blue circles, and the starting city as a red square.\n",
    "    plotline(list(tour) + [tour[0]], alpha=alpha, color=color)\n",
    "    plotline([tour[0]], style='gD', alpha=alpha, size=10)\n",
    "    # plt.show()\n",
    "    \n",
    "def plotline(points, style='bo-', alpha=1, size=7, color=None):\n",
    "    \"Plot a list of points (complex numbers) in the 2-D plane.\"\n",
    "    X, Y = XY(points)\n",
    "    \n",
    "    if color:\n",
    "        plt.plot(X, Y, style, alpha=alpha, markersize=size, color=color)\n",
    "    else:\n",
    "        plt.plot(X, Y, style, alpha=alpha, markersize=size)\n",
    "    \n",
    "def XY(points):\n",
    "    \"Given a list of points, return two lists: X coordinates, and Y coordinates.\"\n",
    "    return [p.real for p in points], [p.imag for p in points]"
   ]
  },
  {
   "cell_type": "markdown",
   "metadata": {},
   "source": [
    "### Some preliminaries for the experiment with genetic algorithm\n",
    "\n",
    "We will carry out our tests with a 30-cities problem."
   ]
  },
  {
   "cell_type": "code",
   "execution_count": null,
   "metadata": {},
   "outputs": [],
   "source": [
    "from deap import algorithms, base, creator, tools\n",
    "num_cities = 30\n",
    "cities = generate_cities(num_cities)"
   ]
  },
  {
   "cell_type": "markdown",
   "metadata": {},
   "source": [
    "The `toolbox` stored the setup of the algorithm. It describes the different elements to take into account."
   ]
  },
  {
   "cell_type": "code",
   "execution_count": null,
   "metadata": {},
   "outputs": [],
   "source": [
    "toolbox = base.Toolbox()"
   ]
  },
  {
   "cell_type": "markdown",
   "metadata": {},
   "source": [
    "### Individual representation and evaluation\n",
    "- Individuals represent possible solutions to the problem.\n",
    "- In the TSP case, it looks like the tour itself can be a suitable representation.\n",
    "- For simplicity, an individual can be a `list` with the indexes corresponding to each city.\n",
    "- This will simplify the crossover and mutation operators.\n",
    "- We can rely on the `total_distance()` function for evaluation and set the fitness assignment as to minimize it."
   ]
  },
  {
   "cell_type": "code",
   "execution_count": null,
   "metadata": {},
   "outputs": [],
   "source": [
    "creator.create(\"FitnessMin\", base.Fitness, weights=(-1.0,))\n",
    "creator.create(\"Individual\", list, fitness=creator.FitnessMin)"
   ]
  },
  {
   "cell_type": "markdown",
   "metadata": {},
   "source": [
    "Let's now define that our individuals are composed by indexes that refer to elements of `cities` and, correspondingly, the population is composed by individuals."
   ]
  },
  {
   "cell_type": "code",
   "execution_count": null,
   "metadata": {},
   "outputs": [],
   "source": [
    "# TO DO (fill in the ...)\n",
    "\n",
    "# define that our individuals are composed by (permuted) indexes of cities\n",
    "toolbox.register(\"indices\", numpy.random.permutation, len(cities))\n",
    "toolbox.register(\"individual\", ... )\n",
    "\n",
    "# define the population that is composed by individuals\n",
    "toolbox.register(\"population\", ... )"
   ]
  },
  {
   "cell_type": "markdown",
   "metadata": {},
   "source": [
    "Defining the crossover and mutation operators can be a challenging task.\n",
    "\n",
    "There are various [crossover operators](http://en.wikipedia.org/wiki/Crossover_(genetic_algorithm)#Crossover_for_Ordered_Chromosomes) that have been devised to deal with ordered individuals like ours.\n",
    "\n",
    "- We will be using DEAP's `deap.tools.cxOrdered()` crossover.\n",
    "- For mutation we will swap elements from two points of the individual.\n",
    "- This is performed by `deap.tools.mutShuffleIndexes()`."
   ]
  },
  {
   "cell_type": "code",
   "execution_count": null,
   "metadata": {},
   "outputs": [],
   "source": [
    "# TO DO\n",
    "\n",
    "# define crossover operator using tools.cxOrdered crossover\n",
    "toolbox.register(...)\n",
    "\n",
    "# define mutation operator using tools.mutShuffleIndexes \n",
    "toolbox.register(...)"
   ]
  },
  {
   "cell_type": "markdown",
   "metadata": {},
   "source": [
    "Evaluation can be easily defined from the `total_distance()` definition."
   ]
  },
  {
   "cell_type": "code",
   "execution_count": null,
   "metadata": {},
   "outputs": [],
   "source": [
    "def create_tour(individual):\n",
    "    return [list(cities)[e] for e in individual]"
   ]
  },
  {
   "cell_type": "code",
   "execution_count": null,
   "metadata": {},
   "outputs": [],
   "source": [
    "# TO DO\n",
    "\n",
    "def evaluation(individual):\n",
    "    '''Evaluates an individual by converting it into \n",
    "    a list of cities (using create_tour function above) \n",
    "    and passing that list to total_distance'''\n",
    "    return ... "
   ]
  },
  {
   "cell_type": "code",
   "execution_count": null,
   "metadata": {},
   "outputs": [],
   "source": [
    "# define the evaluation function\n",
    "toolbox.register(\"evaluate\", evaluation)"
   ]
  },
  {
   "cell_type": "markdown",
   "metadata": {},
   "source": [
    "We will employ tournament selection with size 3."
   ]
  },
  {
   "cell_type": "code",
   "execution_count": null,
   "metadata": {},
   "outputs": [],
   "source": [
    "# TO DO\n",
    "\n",
    "# define selection operator using tournament selection with size 3\n",
    "toolbox.register(...)"
   ]
  },
  {
   "cell_type": "markdown",
   "metadata": {},
   "source": [
    "Lets' run the algorithm with a population of 100 individuals and 400 generations."
   ]
  },
  {
   "cell_type": "code",
   "execution_count": null,
   "metadata": {},
   "outputs": [],
   "source": [
    "# TO DO\n",
    "\n",
    "# create a population of 100 individuals\n",
    "pop = ..."
   ]
  },
  {
   "cell_type": "code",
   "execution_count": null,
   "metadata": {},
   "outputs": [],
   "source": [
    "# TO DO\n",
    "\n",
    "# run the simple genetic algorithm for 400 generations\n",
    "%%time \n",
    "result, log = ..."
   ]
  },
  {
   "cell_type": "markdown",
   "metadata": {},
   "source": [
    "### We can now review the results\n",
    "The best individual of the last population:"
   ]
  },
  {
   "cell_type": "code",
   "execution_count": null,
   "metadata": {},
   "outputs": [],
   "source": [
    "best_individual = tools.selBest(result, k=1)[0]\n",
    "print('Fitness of the best individual: ', evaluation(best_individual)[0])"
   ]
  },
  {
   "cell_type": "code",
   "execution_count": null,
   "metadata": {},
   "outputs": [],
   "source": [
    "plot_tour(create_tour(best_individual))"
   ]
  },
  {
   "cell_type": "markdown",
   "metadata": {},
   "source": [
    "## Extra (optional)\n",
    "It is interesting to assess how the fitness of the population changed as the evolution process took place. We can prepare an `deap.tools.Statistics` instance to specify what data to collect."
   ]
  },
  {
   "cell_type": "code",
   "execution_count": null,
   "metadata": {},
   "outputs": [],
   "source": [
    "fit_stats = tools.Statistics(key=operator.attrgetter(\"fitness.values\"))\n",
    "fit_stats.register('mean', numpy.mean)\n",
    "fit_stats.register('min', numpy.min)"
   ]
  },
  {
   "cell_type": "markdown",
   "metadata": {},
   "source": [
    "We are all set now but lets run again the genetic algorithm configured to collect the statistics that we want to gather:"
   ]
  },
  {
   "cell_type": "code",
   "execution_count": null,
   "metadata": {},
   "outputs": [],
   "source": [
    "result, log = algorithms.eaSimple(toolbox.population(n=100), toolbox,\n",
    "                                  cxpb=0.5, mutpb=0.2,\n",
    "                                  ngen=400, verbose=False,\n",
    "                                  stats=fit_stats)"
   ]
  },
  {
   "cell_type": "markdown",
   "metadata": {},
   "source": [
    "Plotting mean and minimium fitness as evolution took place."
   ]
  },
  {
   "cell_type": "code",
   "execution_count": null,
   "metadata": {},
   "outputs": [],
   "source": [
    "plt.figure(figsize=(11, 4))\n",
    "plots = plt.plot(log.select('min'),'c-', log.select('mean'), 'b-')\n",
    "plt.legend(plots, ('Minimum fitness', 'Mean fitness'), frameon=True)\n",
    "plt.ylabel('Fitness'); plt.xlabel('Iterations');"
   ]
  },
  {
   "cell_type": "markdown",
   "metadata": {},
   "source": [
    "### How has the population evolved?"
   ]
  },
  {
   "cell_type": "markdown",
   "metadata": {},
   "source": [
    "As TSP solutions are easy to visualize, we can plot the individuals of each population the evolution progressed. We need a new Statistics instance prepared for that."
   ]
  },
  {
   "cell_type": "code",
   "execution_count": null,
   "metadata": {},
   "outputs": [],
   "source": [
    "pop_stats = tools.Statistics(key=numpy.copy)\n",
    "pop_stats.register('pop', numpy.copy) # -- copies the populations themselves\n",
    "pop_stats.register('fitness', # -- computes and stores the fitnesses\n",
    "                   lambda x : [evaluation(a) for a in x]) \n",
    "\n",
    "result, log = algorithms.eaSimple(toolbox.population(n=100), toolbox,\n",
    "                                  cxpb=0.5, mutpb=0.2,\n",
    "                                  ngen=400, verbose=False,\n",
    "                                  stats=pop_stats)"
   ]
  },
  {
   "cell_type": "markdown",
   "metadata": {},
   "source": [
    "Plotting the individuals and their fitness (color-coded)"
   ]
  },
  {
   "cell_type": "code",
   "execution_count": null,
   "metadata": {},
   "outputs": [],
   "source": [
    "def plot_population(record, min_fitness, max_fitness):\n",
    "    '''\n",
    "    Plots all individuals in a population. \n",
    "    Darker individuals have a better fitness.\n",
    "    '''\n",
    "    pop = record['pop']\n",
    "    fits = record['fitness']\n",
    "    index = sorted(range(len(fits)), key=lambda k: fits[k])\n",
    "\n",
    "    norm=colors.Normalize(vmin=min_fitness,\n",
    "                          vmax=max_fitness)\n",
    "    sm = cmx.ScalarMappable(norm=norm, \n",
    "                            cmap=plt.get_cmap('PuBu'))\n",
    "    \n",
    "    for i in range(len(index)):\n",
    "        color = sm.to_rgba(max_fitness - fits[index[i]][0])\n",
    "        plot_tour(create_tour(pop[index[i]]), alpha=0.5, color=color)"
   ]
  },
  {
   "cell_type": "code",
   "execution_count": null,
   "metadata": {},
   "outputs": [],
   "source": [
    "min_fitness = numpy.min(log.select('fitness'))\n",
    "max_fitness = numpy.max(log.select('fitness'))"
   ]
  },
  {
   "cell_type": "markdown",
   "metadata": {},
   "source": [
    "We can now plot the population as the evolutionary process progressed. Darker blue colors imply better fitness."
   ]
  },
  {
   "cell_type": "code",
   "execution_count": null,
   "metadata": {},
   "outputs": [],
   "source": [
    "plt.figure(figsize=(11,11))\n",
    "for i in range(0, 12):\n",
    "    plt.subplot(4,3,i+1)\n",
    "    it = int(math.ceil((len(log)-1.)/15))\n",
    "    plt.title('t=' + str(it*i))\n",
    "    plot_population(log[it*i], min_fitness, max_fitness)\n",
    "plt.tight_layout()"
   ]
  },
  {
   "cell_type": "markdown",
   "metadata": {},
   "source": [
    "The population of the previous experiment can be better appreciated in animated form."
   ]
  },
  {
   "cell_type": "code",
   "execution_count": null,
   "metadata": {},
   "outputs": [],
   "source": [
    "from matplotlib import animation\n",
    "from IPython.display import HTML\n",
    "\n",
    "def update_plot_tour(plot, points, alpha=1, color='blue'):\n",
    "    'A function for updating a plot with an individual'\n",
    "    X, Y = XY(list(points) + [points[0]])\n",
    "    plot.set_data(X, Y)\n",
    "    plot.set_color(color)\n",
    "    return plot\n",
    "\n",
    "def init():\n",
    "    'Initialization of all plots to empty data'\n",
    "    for p in list(tour_plots):\n",
    "        p.set_data([], [])\n",
    "    return tour_plots\n",
    "\n",
    "def animate(i):\n",
    "    'Updates all plots to match frame _i_ of the animation' \n",
    "    pop = log[i]['pop']\n",
    "    fits = log[i]['fitness']\n",
    "    index = sorted(range(len(fits)), key=lambda k: fits[k])\n",
    "\n",
    "    norm=colors.Normalize(vmin=min_fitness,\n",
    "                          vmax=max_fitness)\n",
    "    sm = cmx.ScalarMappable(norm=norm, \n",
    "                            cmap=plt.get_cmap('PuBu'))\n",
    "    for j in range(len(tour_plots)):\n",
    "        color = sm.to_rgba(max_fitness - fits[index[j]][0])\n",
    "        update_plot_tour(tour_plots[j], \n",
    "                         create_tour(pop[index[j]]), \n",
    "                         alpha=0.5, color=color)\n",
    "    return tour_plots"
   ]
  },
  {
   "cell_type": "markdown",
   "metadata": {},
   "source": [
    "The next step takes some time to execute. Use the video controls to see the evolution in animated form."
   ]
  },
  {
   "cell_type": "code",
   "execution_count": null,
   "metadata": {},
   "outputs": [],
   "source": [
    "fig = plt.figure()\n",
    "ax = plt.axes(xlim=(0, 900), ylim=(0, 600))\n",
    "tour_plots = [ax.plot([], [], 'bo-', alpha=0.1) for i in range(len(log[0]['pop']))]\n",
    "tour_plots = [p[0] for p in tour_plots]\n",
    "\n",
    "anim = animation.FuncAnimation(fig, animate, init_func=init,\n",
    "                               frames=200, interval=60, blit=True)\n",
    "plt.close()"
   ]
  },
  {
   "cell_type": "code",
   "execution_count": null,
   "metadata": {},
   "outputs": [],
   "source": [
    "HTML(anim.to_html5_video())"
   ]
  },
  {
   "cell_type": "code",
   "execution_count": null,
   "metadata": {},
   "outputs": [],
   "source": []
  }
 ],
 "metadata": {
  "colab": {
   "collapsed_sections": [],
   "name": "AI_Lab04.ipynb",
   "provenance": []
  },
  "kernelspec": {
   "display_name": "Python 3",
   "language": "python",
   "name": "python3"
  },
  "language_info": {
   "codemirror_mode": {
    "name": "ipython",
    "version": 3
   },
   "file_extension": ".py",
   "mimetype": "text/x-python",
   "name": "python",
   "nbconvert_exporter": "python",
   "pygments_lexer": "ipython3",
   "version": "3.7.4"
  }
 },
 "nbformat": 4,
 "nbformat_minor": 4
}
